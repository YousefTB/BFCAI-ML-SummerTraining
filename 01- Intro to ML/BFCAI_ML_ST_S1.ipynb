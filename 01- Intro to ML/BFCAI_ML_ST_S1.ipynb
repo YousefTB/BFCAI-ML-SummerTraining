{
 "cells": [
  {
   "cell_type": "code",
   "execution_count": 2,
   "id": "8edc8682",
   "metadata": {},
   "outputs": [
    {
     "name": "stdout",
     "output_type": "stream",
     "text": [
      "Hello World\n"
     ]
    }
   ],
   "source": [
    "print(\"Hello World\")"
   ]
  },
  {
   "cell_type": "code",
   "execution_count": 6,
   "id": "9508eba1",
   "metadata": {},
   "outputs": [
    {
     "name": "stdout",
     "output_type": "stream",
     "text": [
      "Hello World Yousef\n",
      "BFCAI\n"
     ]
    }
   ],
   "source": [
    "print(\"Hello\",\"World\",'Yousef')\n",
    "print(\"BFCAI\")"
   ]
  },
  {
   "cell_type": "code",
   "execution_count": 8,
   "id": "86933d99",
   "metadata": {},
   "outputs": [
    {
     "name": "stdout",
     "output_type": "stream",
     "text": [
      "14\n"
     ]
    }
   ],
   "source": [
    "x = 5\n",
    "y = 9\n",
    "print(x + y)"
   ]
  },
  {
   "cell_type": "code",
   "execution_count": 11,
   "id": "b889fba2",
   "metadata": {},
   "outputs": [
    {
     "name": "stdout",
     "output_type": "stream",
     "text": [
      "10\n"
     ]
    }
   ],
   "source": [
    "x, y = 2, 8\n",
    "print(x + y)"
   ]
  },
  {
   "cell_type": "code",
   "execution_count": 15,
   "id": "c3eb3bad",
   "metadata": {},
   "outputs": [
    {
     "name": "stdout",
     "output_type": "stream",
     "text": [
      "Enter a number: 9\n",
      "9\n"
     ]
    }
   ],
   "source": [
    "z = input(\"Enter a number: \")\n",
    "print(z)"
   ]
  },
  {
   "cell_type": "code",
   "execution_count": 17,
   "id": "1dffb4f8",
   "metadata": {},
   "outputs": [
    {
     "data": {
      "text/plain": [
       "int"
      ]
     },
     "execution_count": 17,
     "metadata": {},
     "output_type": "execute_result"
    }
   ],
   "source": [
    "type(x)"
   ]
  },
  {
   "cell_type": "code",
   "execution_count": 19,
   "id": "06f401dc",
   "metadata": {},
   "outputs": [
    {
     "data": {
      "text/plain": [
       "int"
      ]
     },
     "execution_count": 19,
     "metadata": {},
     "output_type": "execute_result"
    }
   ],
   "source": [
    "type(y)"
   ]
  },
  {
   "cell_type": "code",
   "execution_count": 21,
   "id": "d20998ff",
   "metadata": {},
   "outputs": [
    {
     "data": {
      "text/plain": [
       "str"
      ]
     },
     "execution_count": 21,
     "metadata": {},
     "output_type": "execute_result"
    }
   ],
   "source": [
    "type(z)"
   ]
  },
  {
   "cell_type": "code",
   "execution_count": 23,
   "id": "6ddd198f",
   "metadata": {},
   "outputs": [
    {
     "name": "stdout",
     "output_type": "stream",
     "text": [
      "Enter a number: 9\n",
      "9\n",
      "<class 'int'>\n"
     ]
    }
   ],
   "source": [
    "z = int(input(\"Enter a number: \"))\n",
    "print(z)\n",
    "print(type(z))"
   ]
  },
  {
   "cell_type": "code",
   "execution_count": 27,
   "id": "2724dc94",
   "metadata": {},
   "outputs": [
    {
     "name": "stdout",
     "output_type": "stream",
     "text": [
      "yousef elbaroudy\n",
      "<class 'str'> <class 'str'>\n"
     ]
    }
   ],
   "source": [
    "myname = \"yousef\"\n",
    "myname2 = 'elbaroudy'\n",
    "print(myname,myname2)\n",
    "print(type(myname),type(myname2))"
   ]
  },
  {
   "cell_type": "code",
   "execution_count": 29,
   "id": "5303f513",
   "metadata": {},
   "outputs": [
    {
     "name": "stdout",
     "output_type": "stream",
     "text": [
      "<class 'float'>\n"
     ]
    }
   ],
   "source": [
    "float_value = 4.5\n",
    "print(type(float_value))"
   ]
  },
  {
   "cell_type": "code",
   "execution_count": 34,
   "id": "586d79aa",
   "metadata": {},
   "outputs": [
    {
     "name": "stdout",
     "output_type": "stream",
     "text": [
      "1.5\n"
     ]
    }
   ],
   "source": [
    "# + - * / // % x**2\n",
    "\"\"\"\n",
    "asdasd\n",
    "asdsad\n",
    "\"\"\"\n",
    "# kkkkk\n",
    "print(6 / 4)"
   ]
  },
  {
   "cell_type": "code",
   "execution_count": 37,
   "id": "4ebe5e9b",
   "metadata": {},
   "outputs": [
    {
     "name": "stdout",
     "output_type": "stream",
     "text": [
      "[1, 2, 3, 4, 5, 6]\n",
      "<class 'list'>\n"
     ]
    }
   ],
   "source": [
    "lst1 = [1,2,3,4,5,6]\n",
    "print(lst1)\n",
    "print(type(lst1))"
   ]
  },
  {
   "cell_type": "code",
   "execution_count": 39,
   "id": "13f2ffad",
   "metadata": {},
   "outputs": [
    {
     "name": "stdout",
     "output_type": "stream",
     "text": [
      "[1, 3.25, 'Yousef', [10, 11, 12]]\n"
     ]
    }
   ],
   "source": [
    "lst2 = [1,3.25, 'Yousef',[10,11,12]]\n",
    "print(lst2)"
   ]
  },
  {
   "cell_type": "code",
   "execution_count": 42,
   "id": "dc1c1a92",
   "metadata": {},
   "outputs": [
    {
     "name": "stdout",
     "output_type": "stream",
     "text": [
      "[9, 4, 2, 1]\n"
     ]
    }
   ],
   "source": [
    "lst3 = list([9,4,2,1])\n",
    "print(lst3)"
   ]
  },
  {
   "cell_type": "code",
   "execution_count": 47,
   "id": "6ae8dbf6",
   "metadata": {},
   "outputs": [
    {
     "name": "stdout",
     "output_type": "stream",
     "text": [
      "3\n"
     ]
    },
    {
     "data": {
      "text/plain": [
       "1"
      ]
     },
     "execution_count": 47,
     "metadata": {},
     "output_type": "execute_result"
    }
   ],
   "source": [
    "print(lst1[2])\n",
    "lst1[1]\n",
    "lst1[0]"
   ]
  },
  {
   "cell_type": "code",
   "execution_count": 49,
   "id": "aac5514f",
   "metadata": {},
   "outputs": [
    {
     "data": {
      "text/plain": [
       "4"
      ]
     },
     "execution_count": 49,
     "metadata": {},
     "output_type": "execute_result"
    }
   ],
   "source": [
    "len(lst2)"
   ]
  },
  {
   "cell_type": "code",
   "execution_count": 54,
   "id": "86992ae5",
   "metadata": {},
   "outputs": [
    {
     "data": {
      "text/plain": [
       "1"
      ]
     },
     "execution_count": 54,
     "metadata": {},
     "output_type": "execute_result"
    }
   ],
   "source": [
    "lst2[-4]"
   ]
  },
  {
   "cell_type": "code",
   "execution_count": 57,
   "id": "40290f81",
   "metadata": {},
   "outputs": [
    {
     "data": {
      "text/plain": [
       "[1, 3.25, 'Yousef', 2]"
      ]
     },
     "execution_count": 57,
     "metadata": {},
     "output_type": "execute_result"
    }
   ],
   "source": [
    "lst2[3] = 2\n",
    "lst2"
   ]
  },
  {
   "cell_type": "code",
   "execution_count": 59,
   "id": "2ca363ab",
   "metadata": {},
   "outputs": [
    {
     "data": {
      "text/plain": [
       "(1, 2, 3, 4)"
      ]
     },
     "execution_count": 59,
     "metadata": {},
     "output_type": "execute_result"
    }
   ],
   "source": [
    "tup1 = (1,2,3,4)\n",
    "tup1"
   ]
  },
  {
   "cell_type": "code",
   "execution_count": 62,
   "id": "1e254df3",
   "metadata": {},
   "outputs": [
    {
     "data": {
      "text/plain": [
       "2"
      ]
     },
     "execution_count": 62,
     "metadata": {},
     "output_type": "execute_result"
    }
   ],
   "source": [
    "tup1[1]"
   ]
  },
  {
   "cell_type": "code",
   "execution_count": 65,
   "id": "9a55ebe3",
   "metadata": {},
   "outputs": [
    {
     "ename": "TypeError",
     "evalue": "'tuple' object does not support item assignment",
     "output_type": "error",
     "traceback": [
      "\u001b[1;31m---------------------------------------------------------------------------\u001b[0m",
      "\u001b[1;31mTypeError\u001b[0m                                 Traceback (most recent call last)",
      "Cell \u001b[1;32mIn[65], line 1\u001b[0m\n\u001b[1;32m----> 1\u001b[0m tup1[\u001b[38;5;241m1\u001b[39m] \u001b[38;5;241m=\u001b[39m \u001b[38;5;241m9\u001b[39m\n",
      "\u001b[1;31mTypeError\u001b[0m: 'tuple' object does not support item assignment"
     ]
    }
   ],
   "source": [
    "tup1[1] = 9"
   ]
  },
  {
   "cell_type": "code",
   "execution_count": 71,
   "id": "6401699d",
   "metadata": {},
   "outputs": [
    {
     "data": {
      "text/plain": [
       "(1, 6.25, [2, 2, 3])"
      ]
     },
     "execution_count": 71,
     "metadata": {},
     "output_type": "execute_result"
    }
   ],
   "source": [
    "tup2 = (1,6.25 ,[1,2,3])\n",
    "tup2[2][0] = 2\n",
    "tup2"
   ]
  },
  {
   "cell_type": "code",
   "execution_count": 73,
   "id": "2fd2d11f",
   "metadata": {},
   "outputs": [
    {
     "data": {
      "text/plain": [
       "[6, 2, 1, 9, 10]"
      ]
     },
     "execution_count": 73,
     "metadata": {},
     "output_type": "execute_result"
    }
   ],
   "source": [
    "lst4 = [6,2,1,9,10]\n",
    "lst4"
   ]
  },
  {
   "cell_type": "code",
   "execution_count": 76,
   "id": "140685d0",
   "metadata": {},
   "outputs": [
    {
     "data": {
      "text/plain": [
       "[10, 9, 1, 2, 6]"
      ]
     },
     "execution_count": 76,
     "metadata": {},
     "output_type": "execute_result"
    }
   ],
   "source": [
    "list(reversed(lst4))"
   ]
  },
  {
   "cell_type": "code",
   "execution_count": 80,
   "id": "4ff8b68a",
   "metadata": {},
   "outputs": [
    {
     "name": "stdout",
     "output_type": "stream",
     "text": [
      "Enter three numbers: 20 25 30\n",
      "20 25 30\n"
     ]
    }
   ],
   "source": [
    "x, y ,z = map(int, input(\"Enter three numbers: \").split())\n",
    "print(x, y, z)"
   ]
  },
  {
   "cell_type": "code",
   "execution_count": 82,
   "id": "f9d9bf20",
   "metadata": {},
   "outputs": [
    {
     "name": "stdout",
     "output_type": "stream",
     "text": [
      "Enter three numbers: 30 50 90\n",
      "<class 'str'> <class 'str'> <class 'str'>\n",
      "<class 'int'> <class 'int'> <class 'int'>\n"
     ]
    }
   ],
   "source": [
    "a, b, c = input(\"Enter three numbers: \").split()\n",
    "print(type(a),type(b),type(c))\n",
    "print(type(x),type(y),type(z))"
   ]
  },
  {
   "cell_type": "code",
   "execution_count": 84,
   "id": "9eb7ecaa",
   "metadata": {},
   "outputs": [
    {
     "data": {
      "text/plain": [
       "['hello', 'world']"
      ]
     },
     "execution_count": 84,
     "metadata": {},
     "output_type": "execute_result"
    }
   ],
   "source": [
    "\"hello world\".split()"
   ]
  },
  {
   "cell_type": "code",
   "execution_count": 95,
   "id": "e37a8d9a",
   "metadata": {},
   "outputs": [
    {
     "data": {
      "text/plain": [
       "[9, 2]"
      ]
     },
     "execution_count": 95,
     "metadata": {},
     "output_type": "execute_result"
    }
   ],
   "source": [
    "lst3\n",
    "lst3[0:3:2]"
   ]
  },
  {
   "cell_type": "code",
   "execution_count": 102,
   "id": "f2266a78",
   "metadata": {},
   "outputs": [
    {
     "name": "stdout",
     "output_type": "stream",
     "text": [
      "[9, 4, 2, 1]\n"
     ]
    },
    {
     "data": {
      "text/plain": [
       "[1, 2]"
      ]
     },
     "execution_count": 102,
     "metadata": {},
     "output_type": "execute_result"
    }
   ],
   "source": [
    "print(lst3)\n",
    "lst3[-1:-3:-1]"
   ]
  },
  {
   "cell_type": "code",
   "execution_count": 110,
   "id": "d5ca86be",
   "metadata": {},
   "outputs": [
    {
     "name": "stdout",
     "output_type": "stream",
     "text": [
      "[1, 2, 3, 4, 5, 6]\n",
      "[1, 2, 3, 4, 5, 6]\n"
     ]
    }
   ],
   "source": [
    "lst1 = [1,2,3,4,5,6]\n",
    "print(lst1)\n",
    "lst9 = lst1[:]\n",
    "print(lst9)"
   ]
  },
  {
   "cell_type": "code",
   "execution_count": 112,
   "id": "9166fe08",
   "metadata": {},
   "outputs": [
    {
     "name": "stdout",
     "output_type": "stream",
     "text": [
      "[8, 2, 3, 4, 5, 6]\n",
      "[1, 2, 3, 4, 5, 6]\n"
     ]
    }
   ],
   "source": [
    "lst1[0] = 8\n",
    "print(lst1)\n",
    "print(lst9)"
   ]
  },
  {
   "cell_type": "code",
   "execution_count": 113,
   "id": "904d3bcd",
   "metadata": {},
   "outputs": [],
   "source": [
    "lst10 = lst1.copy()"
   ]
  },
  {
   "cell_type": "code",
   "execution_count": 118,
   "id": "df2199f6",
   "metadata": {},
   "outputs": [
    {
     "name": "stdout",
     "output_type": "stream",
     "text": [
      "[15, 2, 3, 4, 5, 6] [8, 2, 3, 4, 5, 6] [1, 2, 3, 4, 5, 6]\n"
     ]
    }
   ],
   "source": [
    "lst1[0] = 15\n",
    "print(lst1,lst10,lst9)"
   ]
  },
  {
   "cell_type": "code",
   "execution_count": 124,
   "id": "148538fb",
   "metadata": {},
   "outputs": [
    {
     "name": "stdout",
     "output_type": "stream",
     "text": [
      "{'Egypt': 'Cairo', 'Saudi Arabia': 'Ryiadh', 10: 1, 16: [1, 2]}\n"
     ]
    }
   ],
   "source": [
    "dict1 = {'Egypt':'Cairo', \"Saudi Arabia\":'Ryiadh', 10:1, 16:[1,2]}\n",
    "print(dict1)"
   ]
  },
  {
   "cell_type": "code",
   "execution_count": 135,
   "id": "a62e1b34",
   "metadata": {},
   "outputs": [
    {
     "data": {
      "text/plain": [
       "dict_keys(['Egypt', 'Saudi Arabia', 10, 16])"
      ]
     },
     "execution_count": 135,
     "metadata": {},
     "output_type": "execute_result"
    }
   ],
   "source": [
    "list(dict1.items())\n",
    "dict1.keys()"
   ]
  },
  {
   "cell_type": "code",
   "execution_count": 139,
   "id": "013e203e",
   "metadata": {},
   "outputs": [
    {
     "data": {
      "text/plain": [
       "{'Egypt': 'Cairo', 'Saudi Arabia': 'Ryiadh', 10: 1, 16: [1, 2], 19: 49}"
      ]
     },
     "execution_count": 139,
     "metadata": {},
     "output_type": "execute_result"
    }
   ],
   "source": [
    "dict1[19] = 49\n",
    "dict1"
   ]
  },
  {
   "cell_type": "code",
   "execution_count": 142,
   "id": "a26669f6",
   "metadata": {},
   "outputs": [
    {
     "data": {
      "text/plain": [
       "{1, 2, 3, 4, 5, 6, 7, 8}"
      ]
     },
     "execution_count": 142,
     "metadata": {},
     "output_type": "execute_result"
    }
   ],
   "source": [
    "st1 = {1,2,2,3,4,5,5,6,7,8}\n",
    "st1"
   ]
  },
  {
   "cell_type": "code",
   "execution_count": 145,
   "id": "e6d96311",
   "metadata": {},
   "outputs": [
    {
     "data": {
      "text/plain": [
       "[1, 4, 9, 16, 25, 36, 49, 64]"
      ]
     },
     "execution_count": 145,
     "metadata": {},
     "output_type": "execute_result"
    }
   ],
   "source": [
    "ls1 = [x**2 for x in range(1,9)]\n",
    "ls1"
   ]
  },
  {
   "cell_type": "code",
   "execution_count": 150,
   "id": "5596ad5d",
   "metadata": {},
   "outputs": [
    {
     "data": {
      "text/plain": [
       "(1, 2, 3, 4, 5, 6, 7, 8)"
      ]
     },
     "execution_count": 150,
     "metadata": {},
     "output_type": "execute_result"
    }
   ],
   "source": [
    "tup2 = tuple(x for x in range(1,9))\n",
    "tup2"
   ]
  },
  {
   "cell_type": "code",
   "execution_count": 154,
   "id": "dcfc47cb",
   "metadata": {},
   "outputs": [
    {
     "data": {
      "text/plain": [
       "{1: 1, 2: 4, 3: 9, 4: 16, 5: 25, 6: 36, 7: 49, 8: 64}"
      ]
     },
     "execution_count": 154,
     "metadata": {},
     "output_type": "execute_result"
    }
   ],
   "source": [
    "dict2 = {x:y**2 for x,y in zip(range(1,9),range(1,9))}\n",
    "dict2"
   ]
  },
  {
   "cell_type": "code",
   "execution_count": 160,
   "id": "6ede3702",
   "metadata": {},
   "outputs": [
    {
     "name": "stdout",
     "output_type": "stream",
     "text": [
      "yes\n"
     ]
    }
   ],
   "source": [
    "# check if x greater than 5 or not\n",
    "if x < 5 or y > 2:\n",
    "    print('yes')\n",
    "else:\n",
    "    print('no')"
   ]
  },
  {
   "cell_type": "code",
   "execution_count": 165,
   "id": "edffe64c",
   "metadata": {},
   "outputs": [
    {
     "name": "stdout",
     "output_type": "stream",
     "text": [
      "20\n",
      "19\n",
      "18\n",
      "17\n",
      "16\n",
      "15\n",
      "14\n",
      "13\n",
      "12\n",
      "11\n",
      "10\n",
      "9\n",
      "8\n",
      "7\n",
      "6\n",
      "Hello\n"
     ]
    }
   ],
   "source": [
    "x = 20\n",
    "while x > 5:\n",
    "    print(x)\n",
    "    x -= 1\n",
    "else:\n",
    "    print(\"Hello\")"
   ]
  },
  {
   "cell_type": "code",
   "execution_count": 176,
   "id": "939281c6",
   "metadata": {},
   "outputs": [
    {
     "name": "stdout",
     "output_type": "stream",
     "text": [
      "0\n",
      "1\n",
      "2\n",
      "3\n",
      "4\n",
      "5\n"
     ]
    }
   ],
   "source": [
    "for x in range(len(lst1)):\n",
    "    print(x)"
   ]
  },
  {
   "cell_type": "code",
   "execution_count": 178,
   "id": "beb1f11c",
   "metadata": {},
   "outputs": [
    {
     "name": "stdout",
     "output_type": "stream",
     "text": [
      "6\n"
     ]
    }
   ],
   "source": [
    "def myfunc(x,y,z):\n",
    "    return x+y+z\n",
    "\n",
    "print(myfunc(1,2,3))"
   ]
  },
  {
   "cell_type": "code",
   "execution_count": 180,
   "id": "e93bf8f0",
   "metadata": {},
   "outputs": [
    {
     "name": "stdout",
     "output_type": "stream",
     "text": [
      "Enter the radius: 1\n",
      "2.0 6.28 3.14\n"
     ]
    }
   ],
   "source": [
    "# task 1\n",
    "r = float(input(\"Enter the radius: \"))\n",
    "PI = 3.14\n",
    "diameter = 2*r\n",
    "circum = 2 * PI * r\n",
    "area = PI * r ** 2\n",
    "print(diameter,circum,area)"
   ]
  },
  {
   "cell_type": "code",
   "execution_count": 182,
   "id": "a332a192",
   "metadata": {},
   "outputs": [
    {
     "name": "stdout",
     "output_type": "stream",
     "text": [
      "Enter a number: 5\n",
      "615\n"
     ]
    }
   ],
   "source": [
    "n = input(\"Enter a number: \")\n",
    "result = int(n) + int(n + n) + int(n + n + n)\n",
    "print(result)"
   ]
  }
 ],
 "metadata": {
  "kernelspec": {
   "display_name": "Python 3 (ipykernel)",
   "language": "python",
   "name": "python3"
  },
  "language_info": {
   "codemirror_mode": {
    "name": "ipython",
    "version": 3
   },
   "file_extension": ".py",
   "mimetype": "text/x-python",
   "name": "python",
   "nbconvert_exporter": "python",
   "pygments_lexer": "ipython3",
   "version": "3.11.3"
  }
 },
 "nbformat": 4,
 "nbformat_minor": 5
}
