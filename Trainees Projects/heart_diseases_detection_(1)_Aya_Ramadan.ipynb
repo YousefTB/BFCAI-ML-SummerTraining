{
 "cells": [
  {
   "cell_type": "markdown",
   "metadata": {
    "id": "T7MMfp0oixPj"
   },
   "source": [
    "   # **HEART DISEASES DETECTION**"
   ]
  },
  {
   "cell_type": "markdown",
   "metadata": {
    "id": "j6X-5S8UixPm"
   },
   "source": [
    "<img src=\"attachment:4d708cb7-a274-4f84-a5ac-6e784026a7f0.jpg\" width=\"500px\" height=\"500px\">"
   ]
  },
  {
   "cell_type": "markdown",
   "metadata": {
    "_cell_guid": "ede22ab4-4d96-4c75-a98b-ff06f134b272",
    "_uuid": "50932e55-174c-4cc0-96c5-7b5d299e1d13",
    "id": "837lJ1wYixPo"
   },
   "source": [
    "# **Importing libraries**"
   ]
  },
  {
   "cell_type": "code",
   "execution_count": null,
   "metadata": {
    "_cell_guid": "55146ce2-46a5-4bdb-b875-6050a542b931",
    "_uuid": "4eea28c0-c380-4de2-86da-fe60c6e97728",
    "execution": {
     "iopub.execute_input": "2023-09-05T20:10:20.758547Z",
     "iopub.status.busy": "2023-09-05T20:10:20.757628Z",
     "iopub.status.idle": "2023-09-05T20:10:20.767735Z",
     "shell.execute_reply": "2023-09-05T20:10:20.766253Z",
     "shell.execute_reply.started": "2023-09-05T20:10:20.758480Z"
    },
    "id": "5aUCiE5xixPr",
    "jupyter": {
     "outputs_hidden": false
    }
   },
   "outputs": [],
   "source": [
    "import pandas as pd\n",
    "import ydata_profiling as yp\n",
    "import numpy as np\n",
    "import matplotlib.pyplot as plt\n",
    "import seaborn as sns\n",
    "from sklearn.model_selection import train_test_split\n",
    "from sklearn.preprocessing import StandardScaler\n",
    "from sklearn.ensemble import BaggingClassifier,RandomForestClassifier\n",
    "from sklearn.model_selection import GridSearchCV\n",
    "from sklearn import metrics\n",
    "from sklearn.metrics import classification_report\n",
    "import warnings\n",
    "warnings.filterwarnings(\"ignore\")"
   ]
  },
  {
   "cell_type": "markdown",
   "metadata": {
    "_cell_guid": "11baa661-7c0d-4d0a-a1ef-5a33169df5ed",
    "_uuid": "43b92e4d-658c-460e-ba80-6be9d20ddfba",
    "id": "hEcWC4GKixPs"
   },
   "source": [
    "**Attribute Information:**\n",
    "* Age\n",
    "* Sex (M,F)\n",
    "* ChestPainType = Chest pain type (ASY,NAP,ATA,TA)\n",
    "* RestingBP = resting blood pressure\n",
    "* Cholesterol in mg/dl\n",
    "* FastingBS = fasting blood sugar > 120 mg/dl (0,1)\n",
    "* RestingECG = resting electrocardiographic results (Normal,ST,LVH)\n",
    "* MaxHR = maximum heart rate achieved\n",
    "* ExerciseAngina = exercise induced angina (N,Y)\n",
    "* Oldpeak = ST depression induced by exercise relative to rest\n",
    "* ST_Slope = the slope of the peak exercise ST segment (Flat,Up,Down)\n",
    " **Target variable:**\n",
    "* HeartDisease = target:0 for no presence of heart disease, 1 for presence of heart disease"
   ]
  },
  {
   "cell_type": "markdown",
   "metadata": {
    "_cell_guid": "f86234b0-f572-4038-a880-d12c14ade60f",
    "_uuid": "7e6d8a19-b26a-4d72-b8bd-d338f7252698",
    "id": "_fIUtWBkixPu"
   },
   "source": [
    "# **Importing and Displaying Dataset**"
   ]
  },
  {
   "cell_type": "code",
   "execution_count": null,
   "metadata": {
    "_cell_guid": "37a57f25-6230-453f-87ea-769856d9fef8",
    "_uuid": "56dc5c20-3b3c-4324-917c-80fe8c55b980",
    "execution": {
     "iopub.execute_input": "2023-09-05T19:49:43.621720Z",
     "iopub.status.busy": "2023-09-05T19:49:43.621279Z",
     "iopub.status.idle": "2023-09-05T19:49:43.670537Z",
     "shell.execute_reply": "2023-09-05T19:49:43.669670Z",
     "shell.execute_reply.started": "2023-09-05T19:49:43.621687Z"
    },
    "id": "hFZccdcYixPu",
    "jupyter": {
     "outputs_hidden": false
    }
   },
   "outputs": [],
   "source": [
    "df = pd.read_csv('/kaggle/input/heart-ds/heart.csv')\n",
    "df"
   ]
  },
  {
   "cell_type": "markdown",
   "metadata": {
    "_cell_guid": "efc80a76-2696-4cdc-a0da-60fba5776dd9",
    "_uuid": "3968ccb3-90fd-489d-8fe2-b6912830478e",
    "id": "rKzKLg2TixPv"
   },
   "source": [
    "# **Exploratory Data Analysis Using Pandas Profiling**"
   ]
  },
  {
   "cell_type": "code",
   "execution_count": null,
   "metadata": {
    "_cell_guid": "71dc9471-15d4-4548-84ff-d1a9b0c6b114",
    "_uuid": "1e1b3c55-0330-4de9-bff0-a668e3531fb0",
    "execution": {
     "iopub.execute_input": "2023-09-05T19:49:43.672798Z",
     "iopub.status.busy": "2023-09-05T19:49:43.671732Z",
     "iopub.status.idle": "2023-09-05T19:50:10.760753Z",
     "shell.execute_reply": "2023-09-05T19:50:10.759735Z",
     "shell.execute_reply.started": "2023-09-05T19:49:43.672764Z"
    },
    "id": "on1hhfRBixPw",
    "jupyter": {
     "outputs_hidden": false
    }
   },
   "outputs": [],
   "source": [
    "yp.ProfileReport(df, title = 'Pandas Profiling report of \"dataset\"', html = {'style':{'full_width': True}})"
   ]
  },
  {
   "cell_type": "markdown",
   "metadata": {
    "_cell_guid": "7cfea61b-0d64-480e-b242-a7aac056c6d0",
    "_uuid": "c183b028-ff70-4f27-9978-590466774f01",
    "id": "90-VqdY8ixPx"
   },
   "source": [
    "# **Exploratory Data Analysis**"
   ]
  },
  {
   "cell_type": "markdown",
   "metadata": {
    "_cell_guid": "2856b952-d253-4077-9e0d-bf0207611892",
    "_uuid": "b01cf842-354c-4790-8789-a04436d9636a",
    "id": "xUiG3gGPixPy"
   },
   "source": [
    "> **Shape of Dataset**"
   ]
  },
  {
   "cell_type": "code",
   "execution_count": null,
   "metadata": {
    "_cell_guid": "8b7885e0-a476-4e9b-9799-8026401440e4",
    "_uuid": "7ffa8f96-32bc-4aa7-bd31-f90b7aa5f464",
    "execution": {
     "iopub.execute_input": "2023-09-05T19:50:10.763896Z",
     "iopub.status.busy": "2023-09-05T19:50:10.762987Z",
     "iopub.status.idle": "2023-09-05T19:50:10.770156Z",
     "shell.execute_reply": "2023-09-05T19:50:10.769300Z",
     "shell.execute_reply.started": "2023-09-05T19:50:10.763861Z"
    },
    "id": "iwCi6xhWixPz",
    "jupyter": {
     "outputs_hidden": false
    }
   },
   "outputs": [],
   "source": [
    "print(\"The Shape Of Dataset:\",df.shape)\n",
    "print(\"Number of Rows:\",df.shape[0])\n",
    "print(\"Number of Columns:\",df.shape[1])"
   ]
  },
  {
   "cell_type": "markdown",
   "metadata": {
    "_cell_guid": "e3c30e49-c7ae-411c-8a1e-906b5e4fde30",
    "_uuid": "b796f984-d8db-4d33-a866-dfaaaced31b9",
    "id": "eVVFmyqqixPz"
   },
   "source": [
    "> **Columns of Dataset**"
   ]
  },
  {
   "cell_type": "code",
   "execution_count": null,
   "metadata": {
    "_cell_guid": "c1855f26-1c47-4ef6-ac2b-2dea496e8f6f",
    "_uuid": "ce731c34-c8f4-4bf6-9560-4620db191968",
    "execution": {
     "iopub.execute_input": "2023-09-05T19:50:10.772355Z",
     "iopub.status.busy": "2023-09-05T19:50:10.771336Z",
     "iopub.status.idle": "2023-09-05T19:50:10.785970Z",
     "shell.execute_reply": "2023-09-05T19:50:10.785076Z",
     "shell.execute_reply.started": "2023-09-05T19:50:10.772323Z"
    },
    "id": "NLXYEXoDixP0",
    "jupyter": {
     "outputs_hidden": false
    }
   },
   "outputs": [],
   "source": [
    "df.columns"
   ]
  },
  {
   "cell_type": "markdown",
   "metadata": {
    "_cell_guid": "fb550384-523c-4e75-87aa-ecffa0a49628",
    "_uuid": "178a8497-0aab-4f76-a143-1e2c49b09ea9",
    "id": "4x7f-1_dixP1"
   },
   "source": [
    "> **Get Overall Statistics About The Dataset**"
   ]
  },
  {
   "cell_type": "code",
   "execution_count": null,
   "metadata": {
    "_cell_guid": "ce2bfc79-876c-48cf-a04a-4d265dc324e5",
    "_uuid": "11391b45-c464-468a-8459-a5f0dba75e6b",
    "execution": {
     "iopub.execute_input": "2023-09-05T19:50:10.788102Z",
     "iopub.status.busy": "2023-09-05T19:50:10.787475Z",
     "iopub.status.idle": "2023-09-05T19:50:10.827425Z",
     "shell.execute_reply": "2023-09-05T19:50:10.826492Z",
     "shell.execute_reply.started": "2023-09-05T19:50:10.788070Z"
    },
    "id": "3CosqwAHixP1",
    "jupyter": {
     "outputs_hidden": false
    }
   },
   "outputs": [],
   "source": [
    "df.describe()"
   ]
  },
  {
   "cell_type": "markdown",
   "metadata": {
    "_cell_guid": "6fcae262-5e84-4d9f-b452-08a3f0e27dc9",
    "_uuid": "0f1264b7-3ed8-4d02-a1bf-93bb304de441",
    "id": "DvG9R1IYixP2"
   },
   "source": [
    "> **Get Information About Our Dataset Like Total Number Rows, Total Number of Columns, Datatypes of Each Column And Memory Requirement**"
   ]
  },
  {
   "cell_type": "code",
   "execution_count": null,
   "metadata": {
    "_cell_guid": "b9e8e69c-0b04-491f-a142-88b487900544",
    "_uuid": "8b3d857f-62d4-40b1-bd1f-d3a0f0b3a7c5",
    "execution": {
     "iopub.execute_input": "2023-09-05T19:50:10.829534Z",
     "iopub.status.busy": "2023-09-05T19:50:10.828905Z",
     "iopub.status.idle": "2023-09-05T19:50:10.844074Z",
     "shell.execute_reply": "2023-09-05T19:50:10.842697Z",
     "shell.execute_reply.started": "2023-09-05T19:50:10.829493Z"
    },
    "id": "jKhpf3_eixP2",
    "jupyter": {
     "outputs_hidden": false
    }
   },
   "outputs": [],
   "source": [
    "df.info()"
   ]
  },
  {
   "cell_type": "markdown",
   "metadata": {
    "_cell_guid": "11f64119-3212-4047-ac13-cb585b09031c",
    "_uuid": "1d316c3e-3bd1-4eeb-b123-7383f7672384",
    "id": "rrGOUKTUixP3"
   },
   "source": [
    ">  **Checking NULL values**"
   ]
  },
  {
   "cell_type": "code",
   "execution_count": null,
   "metadata": {
    "_cell_guid": "30773276-ee26-4e8d-af4a-3617ffe6b81e",
    "_uuid": "d79990b4-6b35-43f3-aff0-cd4a08fb926c",
    "execution": {
     "iopub.execute_input": "2023-09-05T19:50:10.846243Z",
     "iopub.status.busy": "2023-09-05T19:50:10.845895Z",
     "iopub.status.idle": "2023-09-05T19:50:10.856853Z",
     "shell.execute_reply": "2023-09-05T19:50:10.855905Z",
     "shell.execute_reply.started": "2023-09-05T19:50:10.846211Z"
    },
    "id": "z4V1t9kXixP3",
    "jupyter": {
     "outputs_hidden": false
    }
   },
   "outputs": [],
   "source": [
    "df.isnull().sum()"
   ]
  },
  {
   "cell_type": "markdown",
   "metadata": {
    "_cell_guid": "a3442fc7-80d5-4546-bc89-971a687f5b2b",
    "_uuid": "9cec5eb7-016a-4147-8eb6-2ffaa8924768",
    "id": "b9bPnxMMixP3"
   },
   "source": [
    "> **Checking Duplicates**"
   ]
  },
  {
   "cell_type": "code",
   "execution_count": null,
   "metadata": {
    "_cell_guid": "e02842ff-38d2-4d9a-b3fa-ed372005d961",
    "_uuid": "17d8c097-6223-460f-8a15-f2e18413b599",
    "execution": {
     "iopub.execute_input": "2023-09-05T19:50:10.858904Z",
     "iopub.status.busy": "2023-09-05T19:50:10.858161Z",
     "iopub.status.idle": "2023-09-05T19:50:10.873359Z",
     "shell.execute_reply": "2023-09-05T19:50:10.872337Z",
     "shell.execute_reply.started": "2023-09-05T19:50:10.858869Z"
    },
    "id": "hONQy6wOixP4",
    "jupyter": {
     "outputs_hidden": false
    }
   },
   "outputs": [],
   "source": [
    "df.duplicated().sum()"
   ]
  },
  {
   "cell_type": "markdown",
   "metadata": {
    "_cell_guid": "46c99891-ae33-4f8d-aa0d-ebc494cd3d29",
    "_uuid": "6e2292be-44df-4cb2-8652-fecc0083e3d5",
    "id": "1dv4c2ByixP4"
   },
   "source": [
    "> **Encoding Categorical Attributes**"
   ]
  },
  {
   "cell_type": "markdown",
   "metadata": {
    "_cell_guid": "688b45c0-210a-42d4-839b-19346300a487",
    "_uuid": "42f37d8f-191b-413c-b5ef-74e3c80bcc1d",
    "id": "4tb_jnt8ixP4"
   },
   "source": [
    "1. **Method 1**"
   ]
  },
  {
   "cell_type": "code",
   "execution_count": null,
   "metadata": {
    "_cell_guid": "3167cfad-de16-4b8b-b099-7d34ffdabd18",
    "_uuid": "8ee4de88-b540-4eb2-9fc7-d87ab89f5ede",
    "execution": {
     "iopub.execute_input": "2023-09-05T19:50:10.878300Z",
     "iopub.status.busy": "2023-09-05T19:50:10.877908Z",
     "iopub.status.idle": "2023-09-05T19:50:10.883284Z",
     "shell.execute_reply": "2023-09-05T19:50:10.881834Z",
     "shell.execute_reply.started": "2023-09-05T19:50:10.878265Z"
    },
    "id": "blc8XZvQixP4",
    "jupyter": {
     "outputs_hidden": false
    }
   },
   "outputs": [],
   "source": [
    "#The get_dummies function is used to convert categorical variables into dummy or indicator variables.\n",
    "#pd.get_dummies(data, columns)"
   ]
  },
  {
   "cell_type": "markdown",
   "metadata": {
    "_cell_guid": "e2e9b4e5-7332-4b35-b5c8-0b76e380d824",
    "_uuid": "4f10641e-7341-4af9-9fda-7b62a8b89830",
    "id": "Y64H7F2lixP5"
   },
   "source": [
    "2. **Method2**"
   ]
  },
  {
   "cell_type": "code",
   "execution_count": null,
   "metadata": {
    "_cell_guid": "dec59702-98a9-4b47-9e3d-39a6cf500807",
    "_uuid": "78febb77-5fa4-4d16-8a83-e53c58371f82",
    "execution": {
     "iopub.execute_input": "2023-09-05T19:50:10.885336Z",
     "iopub.status.busy": "2023-09-05T19:50:10.885001Z",
     "iopub.status.idle": "2023-09-05T19:50:10.904029Z",
     "shell.execute_reply": "2023-09-05T19:50:10.902819Z",
     "shell.execute_reply.started": "2023-09-05T19:50:10.885307Z"
    },
    "id": "eLSaMILUixP5",
    "jupyter": {
     "outputs_hidden": false
    }
   },
   "outputs": [],
   "source": [
    "print(df['Sex'].value_counts(),'\\n')\n",
    "print(df['ChestPainType'].value_counts(),'\\n')\n",
    "print(df['RestingECG'].value_counts(),'\\n')\n",
    "print(df['ExerciseAngina'].value_counts(),'\\n')\n",
    "print(df['ST_Slope'].value_counts(),'\\n')"
   ]
  },
  {
   "cell_type": "code",
   "execution_count": null,
   "metadata": {
    "_cell_guid": "f64990ca-bbe0-455b-9d9b-a6254df1eb66",
    "_uuid": "4393cba7-d386-4da2-9d24-b8f1ae19ff2a",
    "execution": {
     "iopub.execute_input": "2023-09-05T19:50:10.906328Z",
     "iopub.status.busy": "2023-09-05T19:50:10.905723Z",
     "iopub.status.idle": "2023-09-05T19:50:10.932738Z",
     "shell.execute_reply": "2023-09-05T19:50:10.931561Z",
     "shell.execute_reply.started": "2023-09-05T19:50:10.906294Z"
    },
    "id": "29qTMIyZixP5",
    "jupyter": {
     "outputs_hidden": false
    }
   },
   "outputs": [],
   "source": [
    "df.replace({'Sex':{'M':0,'F':1}},inplace=True)\n",
    "df.replace({'ChestPainType':{'ASY':0,'NAP':1,'ATA':2,'TA':3}},inplace=True)\n",
    "df.replace({'RestingECG':{'Normal':0,'ST':1,'LVH':2}},inplace=True)\n",
    "df.replace({'ExerciseAngina':{'N':0,'Y':1}},inplace=True)\n",
    "df.replace({'ST_Slope':{'Flat':0,'Up':1,'Down':2}},inplace=True)"
   ]
  },
  {
   "cell_type": "code",
   "execution_count": null,
   "metadata": {
    "_cell_guid": "fa97805b-7f62-423a-9632-af58190cef46",
    "_uuid": "839fc302-15ec-4294-b855-7495376b392d",
    "execution": {
     "iopub.execute_input": "2023-09-05T19:50:10.935371Z",
     "iopub.status.busy": "2023-09-05T19:50:10.934741Z",
     "iopub.status.idle": "2023-09-05T19:50:10.946984Z",
     "shell.execute_reply": "2023-09-05T19:50:10.945750Z",
     "shell.execute_reply.started": "2023-09-05T19:50:10.935334Z"
    },
    "id": "GyEpfaN-ixP6",
    "jupyter": {
     "outputs_hidden": false
    }
   },
   "outputs": [],
   "source": [
    "print(df['Sex'].value_counts(),'\\n')\n",
    "print(df['ChestPainType'].value_counts(),'\\n')\n",
    "print(df['RestingECG'].value_counts(),'\\n')\n",
    "print(df['ExerciseAngina'].value_counts(),'\\n')\n",
    "print(df['ST_Slope'].value_counts(),'\\n')"
   ]
  },
  {
   "cell_type": "code",
   "execution_count": null,
   "metadata": {
    "_cell_guid": "ff5ee4c0-06f6-45a2-98f7-b975631d79a0",
    "_uuid": "00a8c475-f7fa-4e06-90f2-8e572b314e40",
    "execution": {
     "iopub.execute_input": "2023-09-05T19:50:10.949383Z",
     "iopub.status.busy": "2023-09-05T19:50:10.948700Z",
     "iopub.status.idle": "2023-09-05T19:50:10.970192Z",
     "shell.execute_reply": "2023-09-05T19:50:10.969019Z",
     "shell.execute_reply.started": "2023-09-05T19:50:10.949350Z"
    },
    "id": "aRvXWhk8ixP6",
    "jupyter": {
     "outputs_hidden": false
    }
   },
   "outputs": [],
   "source": [
    "df"
   ]
  },
  {
   "cell_type": "markdown",
   "metadata": {
    "_cell_guid": "650caa5f-a75f-4dde-a4aa-8f5328fa899f",
    "_uuid": "8a5d4fb9-3b16-47cf-bf1a-86fd318ef27e",
    "id": "NLCSxySdixP7"
   },
   "source": [
    "> **Draw Correlation Matrix**"
   ]
  },
  {
   "cell_type": "code",
   "execution_count": null,
   "metadata": {
    "_cell_guid": "202b333c-32a7-4d9e-af52-0d08f408a40c",
    "_uuid": "37a4a96a-392b-49ce-afd8-4d24e5ad27aa",
    "execution": {
     "iopub.execute_input": "2023-09-05T19:50:10.974204Z",
     "iopub.status.busy": "2023-09-05T19:50:10.973538Z",
     "iopub.status.idle": "2023-09-05T19:50:11.932352Z",
     "shell.execute_reply": "2023-09-05T19:50:11.931215Z",
     "shell.execute_reply.started": "2023-09-05T19:50:10.974167Z"
    },
    "id": "21gl8wl1ixP7",
    "jupyter": {
     "outputs_hidden": false
    }
   },
   "outputs": [],
   "source": [
    "plt.figure(figsize = (8,10))\n",
    "sns.heatmap(df.corr(),annot = True)"
   ]
  },
  {
   "cell_type": "markdown",
   "metadata": {
    "_cell_guid": "ed51b5d7-66cc-418c-8e2a-a559f926f421",
    "_uuid": "f50d9077-8d49-4209-be4d-270f0ee459ee",
    "id": "b20WazDEixP8"
   },
   "source": [
    "> **Histogram**"
   ]
  },
  {
   "cell_type": "code",
   "execution_count": null,
   "metadata": {
    "_cell_guid": "037c4322-bf6d-445a-bad7-571900a627f7",
    "_uuid": "264ccad0-cb91-4fae-b500-61db30ae0ae7",
    "execution": {
     "iopub.execute_input": "2023-09-05T19:50:11.935297Z",
     "iopub.status.busy": "2023-09-05T19:50:11.934102Z",
     "iopub.status.idle": "2023-09-05T19:50:14.828710Z",
     "shell.execute_reply": "2023-09-05T19:50:14.827303Z",
     "shell.execute_reply.started": "2023-09-05T19:50:11.935254Z"
    },
    "id": "F2_XSKYbixP8",
    "jupyter": {
     "outputs_hidden": false
    }
   },
   "outputs": [],
   "source": [
    "df.hist()\n",
    "plt.tight_layout()"
   ]
  },
  {
   "cell_type": "markdown",
   "metadata": {
    "_cell_guid": "7d906530-7be8-42e3-9136-83b327676a1d",
    "_uuid": "4a28d7a5-63ef-432f-a4d9-254af755e6c9",
    "id": "n0cW8C9oixP8"
   },
   "source": [
    "> **Check data distribution For Numerical Columns**"
   ]
  },
  {
   "cell_type": "code",
   "execution_count": null,
   "metadata": {
    "_cell_guid": "10d97e6b-a096-4512-b2ec-3f88b4466031",
    "_uuid": "eb6986d3-afbd-4d71-9dc7-0e3dbc74cf85",
    "execution": {
     "iopub.execute_input": "2023-09-05T19:50:14.830622Z",
     "iopub.status.busy": "2023-09-05T19:50:14.830215Z",
     "iopub.status.idle": "2023-09-05T19:50:16.085566Z",
     "shell.execute_reply": "2023-09-05T19:50:16.084216Z",
     "shell.execute_reply.started": "2023-09-05T19:50:14.830585Z"
    },
    "id": "rrf5rq6bixP8",
    "jupyter": {
     "outputs_hidden": false
    }
   },
   "outputs": [],
   "source": [
    "df2 = df.drop(['Sex','ChestPainType','RestingECG','ExerciseAngina','HeartDisease','ST_Slope','FastingBS'], axis= 1)\n",
    "df2.hist()\n",
    "plt.tight_layout()"
   ]
  },
  {
   "cell_type": "markdown",
   "metadata": {
    "_cell_guid": "b606d8ac-07bd-4839-92ca-0cdb0a5b82ac",
    "_uuid": "5a4e1915-97de-43ca-a554-3ce872d06600",
    "id": "LFtvmMrIixP9"
   },
   "source": [
    "> **Count of Heart Disease people and Don't Have Heart Disease**"
   ]
  },
  {
   "cell_type": "code",
   "execution_count": null,
   "metadata": {
    "_cell_guid": "b0484013-2dc0-4f20-91df-51e48196d1d1",
    "_uuid": "2b000dca-ba12-4120-b955-b2c98a2a7d7d",
    "execution": {
     "iopub.execute_input": "2023-09-05T19:50:16.087362Z",
     "iopub.status.busy": "2023-09-05T19:50:16.087005Z",
     "iopub.status.idle": "2023-09-05T19:50:16.097879Z",
     "shell.execute_reply": "2023-09-05T19:50:16.096668Z",
     "shell.execute_reply.started": "2023-09-05T19:50:16.087319Z"
    },
    "id": "1I2IBnPwixP9",
    "jupyter": {
     "outputs_hidden": false
    }
   },
   "outputs": [],
   "source": [
    "df['HeartDisease'].value_counts()"
   ]
  },
  {
   "cell_type": "code",
   "execution_count": null,
   "metadata": {
    "execution": {
     "iopub.execute_input": "2023-09-05T19:50:16.100004Z",
     "iopub.status.busy": "2023-09-05T19:50:16.099552Z",
     "iopub.status.idle": "2023-09-05T19:50:16.359525Z",
     "shell.execute_reply": "2023-09-05T19:50:16.358337Z",
     "shell.execute_reply.started": "2023-09-05T19:50:16.099954Z"
    },
    "id": "Y2T1XJ38ixP9"
   },
   "outputs": [],
   "source": [
    "df['HeartDisease'].hist()\n",
    "plt.show()"
   ]
  },
  {
   "cell_type": "markdown",
   "metadata": {
    "id": "hMIdCClIixP-"
   },
   "source": [
    "**The dataset is balanced having 485 heart disease patients and 379 normal patients**"
   ]
  },
  {
   "cell_type": "markdown",
   "metadata": {
    "_cell_guid": "4977cb4e-5d11-4887-aaa0-f0a0a41127fb",
    "_uuid": "a6f222ea-508f-4be8-9045-27bb58ea6120",
    "id": "Q4_G7yTGixP_"
   },
   "source": [
    "> **Boxplot**"
   ]
  },
  {
   "cell_type": "code",
   "execution_count": null,
   "metadata": {
    "_cell_guid": "b1587397-b719-488a-b012-985f09fba34a",
    "_uuid": "6bebdad1-29a0-4e8e-b4b5-aa7cd4a1492b",
    "execution": {
     "iopub.execute_input": "2023-09-05T19:50:16.362009Z",
     "iopub.status.busy": "2023-09-05T19:50:16.361547Z",
     "iopub.status.idle": "2023-09-05T19:50:16.674028Z",
     "shell.execute_reply": "2023-09-05T19:50:16.672899Z",
     "shell.execute_reply.started": "2023-09-05T19:50:16.361968Z"
    },
    "id": "_PUx613CixP_",
    "jupyter": {
     "outputs_hidden": false
    }
   },
   "outputs": [],
   "source": [
    "plt.figure(figsize = (8,6))\n",
    "sns.boxplot(df.drop(['Sex','ChestPainType','RestingECG','ExerciseAngina','HeartDisease','ST_Slope'], axis= 1))\n",
    "plt.show()"
   ]
  },
  {
   "cell_type": "markdown",
   "metadata": {
    "_cell_guid": "04e49aea-57a9-43c4-be2d-f9c5aa8f0a83",
    "_uuid": "8912b39f-2d2f-4b54-8ac1-4163880476a6",
    "id": "u_d9OJBZixP_"
   },
   "source": [
    "> **Removing outliers**"
   ]
  },
  {
   "cell_type": "code",
   "execution_count": null,
   "metadata": {
    "_cell_guid": "1d20e4b5-4a53-43a0-a039-46e80cd196e8",
    "_uuid": "710ad836-e412-442e-9bd2-6aee843d159e",
    "execution": {
     "iopub.execute_input": "2023-09-05T19:50:16.675642Z",
     "iopub.status.busy": "2023-09-05T19:50:16.675283Z",
     "iopub.status.idle": "2023-09-05T19:50:16.688737Z",
     "shell.execute_reply": "2023-09-05T19:50:16.687591Z",
     "shell.execute_reply.started": "2023-09-05T19:50:16.675605Z"
    },
    "id": "fdu0RVOcixQA",
    "jupyter": {
     "outputs_hidden": false
    }
   },
   "outputs": [],
   "source": [
    "Q1 = df['RestingBP'].quantile(0.25)\n",
    "Q3 = df['RestingBP'].quantile(0.75)\n",
    "IQR = Q3 - Q1\n",
    "lower = Q1 - 1.5*IQR\n",
    "upper = Q3 + 1.5*IQR\n",
    "upper_array = np.where(df['RestingBP']>=upper)[0]\n",
    "lower_array = np.where(df['RestingBP']<=lower)[0]\n",
    "df.drop(index=upper_array, inplace=True)\n",
    "df.drop(index=lower_array, inplace=True)"
   ]
  },
  {
   "cell_type": "markdown",
   "metadata": {
    "id": "dBlKD_eEixQA"
   },
   "source": [
    "> **Data Normalization**"
   ]
  },
  {
   "cell_type": "code",
   "execution_count": null,
   "metadata": {
    "execution": {
     "iopub.execute_input": "2023-09-05T19:50:16.690383Z",
     "iopub.status.busy": "2023-09-05T19:50:16.690069Z",
     "iopub.status.idle": "2023-09-05T19:50:16.703222Z",
     "shell.execute_reply": "2023-09-05T19:50:16.702209Z",
     "shell.execute_reply.started": "2023-09-05T19:50:16.690355Z"
    },
    "id": "c1FiiOfqixQB"
   },
   "outputs": [],
   "source": [
    "x = df.drop([\"HeartDisease\"], axis=1)\n",
    "x = StandardScaler().fit_transform(x)"
   ]
  },
  {
   "cell_type": "markdown",
   "metadata": {
    "_cell_guid": "10733cf8-44c5-4513-b18e-a34eeaf692c7",
    "_uuid": "3a5ac9b4-45d6-47de-ac5f-5b9d066590cb",
    "id": "UrUvYxhsixQB"
   },
   "source": [
    "# **Machine Learning**"
   ]
  },
  {
   "cell_type": "markdown",
   "metadata": {
    "_cell_guid": "21ad0520-57d0-4ffc-9b35-b9608dca8579",
    "_uuid": "8dfc5a86-ecc5-40a4-906c-64ee964f4d71",
    "id": "mEgxT1Y0ixQB"
   },
   "source": [
    "> **Seperating target from the other features**"
   ]
  },
  {
   "cell_type": "code",
   "execution_count": null,
   "metadata": {
    "_cell_guid": "03925536-a7ae-4929-b12a-9848417b4c59",
    "_uuid": "a7c95437-f767-4574-87a7-e663c47bb97e",
    "execution": {
     "iopub.execute_input": "2023-09-05T19:50:16.704990Z",
     "iopub.status.busy": "2023-09-05T19:50:16.704675Z",
     "iopub.status.idle": "2023-09-05T19:50:16.713371Z",
     "shell.execute_reply": "2023-09-05T19:50:16.711919Z",
     "shell.execute_reply.started": "2023-09-05T19:50:16.704962Z"
    },
    "id": "MUEYy1I5ixQC",
    "jupyter": {
     "outputs_hidden": false
    }
   },
   "outputs": [],
   "source": [
    "X = df.drop(columns = 'HeartDisease',axis = 1)\n",
    "Y = df['HeartDisease']"
   ]
  },
  {
   "cell_type": "code",
   "execution_count": null,
   "metadata": {
    "_cell_guid": "076c7d4d-df87-41fb-ac93-263a1709e207",
    "_uuid": "5e3b67e6-d11a-450a-b705-9dcfb5138d12",
    "execution": {
     "iopub.execute_input": "2023-09-05T19:50:16.715154Z",
     "iopub.status.busy": "2023-09-05T19:50:16.714828Z",
     "iopub.status.idle": "2023-09-05T19:50:16.738633Z",
     "shell.execute_reply": "2023-09-05T19:50:16.737470Z",
     "shell.execute_reply.started": "2023-09-05T19:50:16.715126Z"
    },
    "id": "4yPD4_PbixQC",
    "jupyter": {
     "outputs_hidden": false
    }
   },
   "outputs": [],
   "source": [
    "X"
   ]
  },
  {
   "cell_type": "code",
   "execution_count": null,
   "metadata": {
    "_cell_guid": "4b23ed67-2619-4a35-b633-45d4fc360ff4",
    "_uuid": "3f90b816-c26a-4347-9546-bdca4bf1a46e",
    "execution": {
     "iopub.execute_input": "2023-09-05T19:50:16.741242Z",
     "iopub.status.busy": "2023-09-05T19:50:16.740892Z",
     "iopub.status.idle": "2023-09-05T19:50:16.753558Z",
     "shell.execute_reply": "2023-09-05T19:50:16.752339Z",
     "shell.execute_reply.started": "2023-09-05T19:50:16.741212Z"
    },
    "id": "hu5jOnDlixQD",
    "jupyter": {
     "outputs_hidden": false
    }
   },
   "outputs": [],
   "source": [
    "Y"
   ]
  },
  {
   "cell_type": "markdown",
   "metadata": {
    "_cell_guid": "624cd52d-7dfa-4be7-aee8-abe9378caa4e",
    "_uuid": "d0cf1a81-74ea-4cee-8d74-ad8b03c4cd1a",
    "id": "PMlNkF2eixQD"
   },
   "source": [
    "> **Spliting Data to Train Data and Test Data**"
   ]
  },
  {
   "cell_type": "code",
   "execution_count": null,
   "metadata": {
    "_cell_guid": "a9f57833-d530-490f-b16a-cfb6bacfff04",
    "_uuid": "4ad42630-05ad-41ac-839a-1c242671f3de",
    "execution": {
     "iopub.execute_input": "2023-09-05T19:50:16.755611Z",
     "iopub.status.busy": "2023-09-05T19:50:16.755119Z",
     "iopub.status.idle": "2023-09-05T19:50:16.764425Z",
     "shell.execute_reply": "2023-09-05T19:50:16.763352Z",
     "shell.execute_reply.started": "2023-09-05T19:50:16.755569Z"
    },
    "id": "RLXDAJHWixQE",
    "jupyter": {
     "outputs_hidden": false
    }
   },
   "outputs": [],
   "source": [
    "X_train, X_test, y_train, y_test = train_test_split(X,Y, test_size= 0.3,random_state=42)"
   ]
  },
  {
   "cell_type": "markdown",
   "metadata": {
    "_cell_guid": "63f8d1c3-c6a5-4bb6-953f-edcc45a0091d",
    "_uuid": "89c8f15d-7285-45cc-99a3-42aa260c63a4",
    "id": "inAMfqghixQE"
   },
   "source": [
    "> **Bagging Classifier UsinG Random Forest Classifier**"
   ]
  },
  {
   "cell_type": "code",
   "execution_count": null,
   "metadata": {
    "execution": {
     "iopub.execute_input": "2023-09-05T19:50:16.768716Z",
     "iopub.status.busy": "2023-09-05T19:50:16.768342Z",
     "iopub.status.idle": "2023-09-05T19:50:16.776353Z",
     "shell.execute_reply": "2023-09-05T19:50:16.774335Z",
     "shell.execute_reply.started": "2023-09-05T19:50:16.768679Z"
    },
    "id": "UGC_tZYXixQE"
   },
   "outputs": [],
   "source": [
    "RF=RandomForestClassifier(random_state=42)"
   ]
  },
  {
   "cell_type": "code",
   "execution_count": null,
   "metadata": {
    "execution": {
     "iopub.execute_input": "2023-09-05T19:50:16.785097Z",
     "iopub.status.busy": "2023-09-05T19:50:16.784170Z",
     "iopub.status.idle": "2023-09-05T19:50:16.790143Z",
     "shell.execute_reply": "2023-09-05T19:50:16.789050Z",
     "shell.execute_reply.started": "2023-09-05T19:50:16.785061Z"
    },
    "id": "jCOwVE4xixQF"
   },
   "outputs": [],
   "source": [
    "param_grid = {'n_estimators': [200, 500],'max_features': ['auto', 'sqrt', 'log2'],'max_depth' : [4,5,6,7,8],'criterion' :['gini', 'entropy']}"
   ]
  },
  {
   "cell_type": "code",
   "execution_count": null,
   "metadata": {
    "execution": {
     "iopub.execute_input": "2023-09-05T19:50:16.791724Z",
     "iopub.status.busy": "2023-09-05T19:50:16.791329Z",
     "iopub.status.idle": "2023-09-05T19:55:12.448896Z",
     "shell.execute_reply": "2023-09-05T19:55:12.447601Z",
     "shell.execute_reply.started": "2023-09-05T19:50:16.791692Z"
    },
    "id": "AzstHkhwixQF"
   },
   "outputs": [],
   "source": [
    "CV_RF = GridSearchCV(estimator=RF, param_grid=param_grid, cv= 5,return_train_score = True)\n",
    "CV_RF.fit(X_train, y_train)"
   ]
  },
  {
   "cell_type": "code",
   "execution_count": null,
   "metadata": {
    "execution": {
     "iopub.execute_input": "2023-09-05T19:55:12.450816Z",
     "iopub.status.busy": "2023-09-05T19:55:12.450462Z",
     "iopub.status.idle": "2023-09-05T19:55:12.456828Z",
     "shell.execute_reply": "2023-09-05T19:55:12.455671Z",
     "shell.execute_reply.started": "2023-09-05T19:55:12.450783Z"
    },
    "id": "o8Zqv3Q5ixQF"
   },
   "outputs": [],
   "source": [
    "print(\"The Best Paramter: \",CV_RF.best_params_)\n",
    "print(\"The Best Score: \",CV_RF.best_score_)"
   ]
  },
  {
   "cell_type": "code",
   "execution_count": null,
   "metadata": {
    "execution": {
     "iopub.execute_input": "2023-09-05T19:55:12.458928Z",
     "iopub.status.busy": "2023-09-05T19:55:12.458516Z",
     "iopub.status.idle": "2023-09-05T19:55:12.474039Z",
     "shell.execute_reply": "2023-09-05T19:55:12.472642Z",
     "shell.execute_reply.started": "2023-09-05T19:55:12.458889Z"
    },
    "id": "m525Fkj8ixQF"
   },
   "outputs": [],
   "source": [
    "RF1=RandomForestClassifier(random_state=42, max_features='auto', n_estimators= 200, max_depth=4, criterion='gini')"
   ]
  },
  {
   "cell_type": "code",
   "execution_count": null,
   "metadata": {
    "execution": {
     "iopub.execute_input": "2023-09-05T19:55:54.604014Z",
     "iopub.status.busy": "2023-09-05T19:55:54.603547Z",
     "iopub.status.idle": "2023-09-05T20:04:23.605063Z",
     "shell.execute_reply": "2023-09-05T20:04:23.603775Z",
     "shell.execute_reply.started": "2023-09-05T19:55:54.603979Z"
    },
    "id": "_kuoAz_QixQG"
   },
   "outputs": [],
   "source": [
    "model = BaggingClassifier(RF1, n_estimators=1000)\n",
    "classifiers = model.fit(X_train, y_train)"
   ]
  },
  {
   "cell_type": "code",
   "execution_count": null,
   "metadata": {
    "execution": {
     "iopub.execute_input": "2023-09-05T20:04:23.607836Z",
     "iopub.status.busy": "2023-09-05T20:04:23.607362Z",
     "iopub.status.idle": "2023-09-05T20:05:26.880337Z",
     "shell.execute_reply": "2023-09-05T20:05:26.878778Z",
     "shell.execute_reply.started": "2023-09-05T20:04:23.607794Z"
    },
    "id": "U_kBKZnYixQG"
   },
   "outputs": [],
   "source": [
    "print(model.score(X_train, y_train),'\\n',model.score(X_test, y_test))"
   ]
  },
  {
   "cell_type": "code",
   "execution_count": null,
   "metadata": {
    "execution": {
     "iopub.execute_input": "2023-09-05T20:05:26.883065Z",
     "iopub.status.busy": "2023-09-05T20:05:26.882637Z",
     "iopub.status.idle": "2023-09-05T20:05:56.346995Z",
     "shell.execute_reply": "2023-09-05T20:05:56.345471Z",
     "shell.execute_reply.started": "2023-09-05T20:05:26.883030Z"
    },
    "id": "z_gdbl2BixQG"
   },
   "outputs": [],
   "source": [
    "y_pred = model.predict(X_test)\n",
    "y_pred"
   ]
  },
  {
   "cell_type": "markdown",
   "metadata": {
    "_cell_guid": "05805ae2-007d-420d-86e3-b563b50340a9",
    "_uuid": "c6a982af-37c4-4fa8-82c6-af9220f0489b",
    "id": "GBPnCgV0ixQH"
   },
   "source": [
    "> **Classification Report of Random Forest Classifier**"
   ]
  },
  {
   "cell_type": "code",
   "execution_count": null,
   "metadata": {
    "_cell_guid": "d2bc9e85-f992-4aa2-aa90-868825370aae",
    "_uuid": "5ec70ded-5adc-4459-81b3-06fd1b7e1936",
    "execution": {
     "iopub.execute_input": "2023-09-05T20:10:28.489603Z",
     "iopub.status.busy": "2023-09-05T20:10:28.489127Z",
     "iopub.status.idle": "2023-09-05T20:10:57.115860Z",
     "shell.execute_reply": "2023-09-05T20:10:57.114747Z",
     "shell.execute_reply.started": "2023-09-05T20:10:28.489560Z"
    },
    "id": "U-Rj3BJfixQH",
    "jupyter": {
     "outputs_hidden": false
    }
   },
   "outputs": [],
   "source": [
    "print(classification_report(y_test,model.predict(X_test)))"
   ]
  },
  {
   "cell_type": "markdown",
   "metadata": {
    "id": "x5u9QM5qixQI"
   },
   "source": [
    "> **ROC Curve**"
   ]
  },
  {
   "cell_type": "code",
   "execution_count": null,
   "metadata": {
    "execution": {
     "iopub.execute_input": "2023-09-05T20:10:57.117918Z",
     "iopub.status.busy": "2023-09-05T20:10:57.117574Z",
     "iopub.status.idle": "2023-09-05T20:10:57.384053Z",
     "shell.execute_reply": "2023-09-05T20:10:57.382645Z",
     "shell.execute_reply.started": "2023-09-05T20:10:57.117890Z"
    },
    "id": "4fB64xChixQI"
   },
   "outputs": [],
   "source": [
    "from sklearn import metrics\n",
    "fpr,tpr,_ = metrics.roc_curve(y_test,y_pred)\n",
    "plt.plot(fpr,tpr)\n",
    "plt.ylabel('True Positive Rate')\n",
    "plt.xlabel('False Positive Rate')\n",
    "plt.show()"
   ]
  },
  {
   "cell_type": "markdown",
   "metadata": {
    "id": "Z2LxU0mVixQI"
   },
   "source": [
    "> **AUC Curve**"
   ]
  },
  {
   "cell_type": "code",
   "execution_count": null,
   "metadata": {
    "execution": {
     "iopub.execute_input": "2023-09-05T20:10:57.386847Z",
     "iopub.status.busy": "2023-09-05T20:10:57.386304Z",
     "iopub.status.idle": "2023-09-05T20:10:57.648649Z",
     "shell.execute_reply": "2023-09-05T20:10:57.647497Z",
     "shell.execute_reply.started": "2023-09-05T20:10:57.386800Z"
    },
    "id": "GDotKAqmixQJ"
   },
   "outputs": [],
   "source": [
    "fpr,tpr,_ = metrics.roc_curve(y_test,y_pred)\n",
    "auc = metrics.roc_auc_score(y_test,y_pred)\n",
    "plt.plot(fpr,tpr,label = 'AUC'+str(auc))\n",
    "plt.ylabel('True Positive Rate')\n",
    "plt.xlabel('False Positive Rate')\n",
    "plt.show()"
   ]
  },
  {
   "cell_type": "markdown",
   "metadata": {
    "_cell_guid": "7042db37-c79e-45e5-89e8-ee790e0b94be",
    "_uuid": "fb844c8e-18ad-49b0-ac31-6f51ea0c1502",
    "id": "tF5uoRxwixQJ"
   },
   "source": [
    "# **Importing and Displaying Hidden Test Dataset**"
   ]
  },
  {
   "cell_type": "code",
   "execution_count": null,
   "metadata": {
    "_cell_guid": "b43387e2-acca-448b-8962-ac99d9f4743b",
    "_uuid": "a0321d14-89b9-41f2-8c7c-fa960d995b12",
    "execution": {
     "iopub.execute_input": "2023-09-05T20:10:57.651377Z",
     "iopub.status.busy": "2023-09-05T20:10:57.651045Z",
     "iopub.status.idle": "2023-09-05T20:10:57.698460Z",
     "shell.execute_reply": "2023-09-05T20:10:57.697095Z",
     "shell.execute_reply.started": "2023-09-05T20:10:57.651349Z"
    },
    "id": "3NQ-dUKaixQJ",
    "jupyter": {
     "outputs_hidden": false
    }
   },
   "outputs": [],
   "source": [
    "df2 = pd.read_csv('/kaggle/input/hidden-test-ds/heart_test_hidden.csv')\n",
    "df2"
   ]
  },
  {
   "cell_type": "markdown",
   "metadata": {
    "id": "1cIPWx_GixQK"
   },
   "source": [
    "> **Encoding Categorical Attributes**"
   ]
  },
  {
   "cell_type": "code",
   "execution_count": null,
   "metadata": {
    "execution": {
     "iopub.execute_input": "2023-09-05T20:10:57.700634Z",
     "iopub.status.busy": "2023-09-05T20:10:57.700256Z",
     "iopub.status.idle": "2023-09-05T20:10:57.714539Z",
     "shell.execute_reply": "2023-09-05T20:10:57.713206Z",
     "shell.execute_reply.started": "2023-09-05T20:10:57.700601Z"
    },
    "id": "Q3ge2QvrixQK"
   },
   "outputs": [],
   "source": [
    "print(df2['Sex'].value_counts(),'\\n')\n",
    "print(df2['ChestPainType'].value_counts(),'\\n')\n",
    "print(df2['RestingECG'].value_counts(),'\\n')\n",
    "print(df2['ExerciseAngina'].value_counts(),'\\n')\n",
    "print(df2['ST_Slope'].value_counts(),'\\n')"
   ]
  },
  {
   "cell_type": "code",
   "execution_count": null,
   "metadata": {
    "execution": {
     "iopub.execute_input": "2023-09-05T20:10:57.716846Z",
     "iopub.status.busy": "2023-09-05T20:10:57.716455Z",
     "iopub.status.idle": "2023-09-05T20:10:57.732132Z",
     "shell.execute_reply": "2023-09-05T20:10:57.730855Z",
     "shell.execute_reply.started": "2023-09-05T20:10:57.716814Z"
    },
    "id": "68atd2GWixQK"
   },
   "outputs": [],
   "source": [
    "df2.replace({'Sex':{'M':0,'F':1}},inplace=True)\n",
    "df2.replace({'ChestPainType':{'ASY':0,'NAP':1,'ATA':2,'TA':3}},inplace=True)\n",
    "df2.replace({'RestingECG':{'Normal':0,'ST':1,'LVH':2}},inplace=True)\n",
    "df2.replace({'ExerciseAngina':{'N':0,'Y':1}},inplace=True)\n",
    "df2.replace({'ST_Slope':{'Flat':0,'Up':1,'Down':2}},inplace=True)"
   ]
  },
  {
   "cell_type": "code",
   "execution_count": null,
   "metadata": {
    "execution": {
     "iopub.execute_input": "2023-09-05T20:10:57.734138Z",
     "iopub.status.busy": "2023-09-05T20:10:57.733787Z",
     "iopub.status.idle": "2023-09-05T20:10:57.747999Z",
     "shell.execute_reply": "2023-09-05T20:10:57.747090Z",
     "shell.execute_reply.started": "2023-09-05T20:10:57.734099Z"
    },
    "id": "PdBOn4aLixQL"
   },
   "outputs": [],
   "source": [
    "print(df2['Sex'].value_counts(),'\\n')\n",
    "print(df2['ChestPainType'].value_counts(),'\\n')\n",
    "print(df2['RestingECG'].value_counts(),'\\n')\n",
    "print(df2['ExerciseAngina'].value_counts(),'\\n')\n",
    "print(df2['ST_Slope'].value_counts(),'\\n')"
   ]
  },
  {
   "cell_type": "code",
   "execution_count": null,
   "metadata": {
    "_cell_guid": "30d33325-7c0b-4de4-a4d0-854a358c2555",
    "_uuid": "dceb076f-0a4e-4a33-b913-edb0de036535",
    "execution": {
     "iopub.execute_input": "2023-09-05T20:10:57.749726Z",
     "iopub.status.busy": "2023-09-05T20:10:57.749357Z",
     "iopub.status.idle": "2023-09-05T20:10:57.786583Z",
     "shell.execute_reply": "2023-09-05T20:10:57.785655Z",
     "shell.execute_reply.started": "2023-09-05T20:10:57.749695Z"
    },
    "id": "ZMb_pmSfixQL",
    "jupyter": {
     "outputs_hidden": false
    }
   },
   "outputs": [],
   "source": [
    "df2"
   ]
  },
  {
   "cell_type": "code",
   "execution_count": null,
   "metadata": {
    "_cell_guid": "3e09c0da-6b29-4057-bb8c-9f3a75667c86",
    "_uuid": "42bf9c01-cb08-47c3-9144-e047bf264b4e",
    "execution": {
     "iopub.execute_input": "2023-09-05T20:11:19.249042Z",
     "iopub.status.busy": "2023-09-05T20:11:19.248501Z",
     "iopub.status.idle": "2023-09-05T20:11:41.150493Z",
     "shell.execute_reply": "2023-09-05T20:11:41.149282Z",
     "shell.execute_reply.started": "2023-09-05T20:11:19.248995Z"
    },
    "id": "9lrfsXfUixQM",
    "jupyter": {
     "outputs_hidden": false
    }
   },
   "outputs": [],
   "source": [
    "BAG_PREDICT = model.predict(df2)\n",
    "print(BAG_PREDICT)"
   ]
  },
  {
   "cell_type": "code",
   "execution_count": null,
   "metadata": {
    "_cell_guid": "18e45734-f566-458a-a3c2-4abe0e1e0f7a",
    "_uuid": "4a1fdaa7-ce70-47ae-ae5e-1b5db67d84db",
    "execution": {
     "iopub.execute_input": "2023-09-05T20:11:41.153806Z",
     "iopub.status.busy": "2023-09-05T20:11:41.152774Z",
     "iopub.status.idle": "2023-09-05T20:11:41.166238Z",
     "shell.execute_reply": "2023-09-05T20:11:41.165089Z",
     "shell.execute_reply.started": "2023-09-05T20:11:41.153762Z"
    },
    "id": "Pd_FwXOAixQM",
    "jupyter": {
     "outputs_hidden": false
    }
   },
   "outputs": [],
   "source": [
    "PREDICTION = pd.DataFrame(BAG_PREDICT)\n",
    "PREDICTION"
   ]
  },
  {
   "cell_type": "code",
   "execution_count": null,
   "metadata": {
    "_cell_guid": "743707fe-6788-488a-949a-48235eb90486",
    "_uuid": "eee862c1-02e9-427c-8e54-d109dd5c54ec",
    "execution": {
     "iopub.execute_input": "2023-09-05T20:45:14.138031Z",
     "iopub.status.busy": "2023-09-05T20:45:14.137191Z",
     "iopub.status.idle": "2023-09-05T20:45:14.148752Z",
     "shell.execute_reply": "2023-09-05T20:45:14.147068Z",
     "shell.execute_reply.started": "2023-09-05T20:45:14.137987Z"
    },
    "id": "QEEqZ9tJixQN",
    "jupyter": {
     "outputs_hidden": false
    }
   },
   "outputs": [],
   "source": [
    "PREDICTION.to_csv('prediction_Aya.csv',index = False)"
   ]
  }
 ],
 "metadata": {
  "colab": {
   "provenance": []
  },
  "kernelspec": {
   "display_name": "Python 3 (ipykernel)",
   "language": "python",
   "name": "python3"
  },
  "language_info": {
   "codemirror_mode": {
    "name": "ipython",
    "version": 3
   },
   "file_extension": ".py",
   "mimetype": "text/x-python",
   "name": "python",
   "nbconvert_exporter": "python",
   "pygments_lexer": "ipython3",
   "version": "3.11.3"
  }
 },
 "nbformat": 4,
 "nbformat_minor": 1
}
