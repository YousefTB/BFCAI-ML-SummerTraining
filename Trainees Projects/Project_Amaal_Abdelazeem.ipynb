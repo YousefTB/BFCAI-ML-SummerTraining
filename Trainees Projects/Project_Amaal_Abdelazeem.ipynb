{
 "cells": [
  {
   "cell_type": "code",
   "execution_count": null,
   "id": "7050a8b7",
   "metadata": {
    "id": "7050a8b7"
   },
   "outputs": [],
   "source": [
    "import numpy as np\n",
    "import pandas as pd\n",
    "import matplotlib.pyplot as plt\n",
    "import seaborn as sns"
   ]
  },
  {
   "cell_type": "markdown",
   "id": "42c007be",
   "metadata": {
    "id": "42c007be"
   },
   "source": [
    "# Loading Dataset"
   ]
  },
  {
   "cell_type": "code",
   "execution_count": null,
   "id": "d8e9a0f0",
   "metadata": {
    "id": "d8e9a0f0",
    "outputId": "ccbe307a-f44d-4c52-de2c-ee81c140ed9e"
   },
   "outputs": [
    {
     "data": {
      "text/html": [
       "<div>\n",
       "<style scoped>\n",
       "    .dataframe tbody tr th:only-of-type {\n",
       "        vertical-align: middle;\n",
       "    }\n",
       "\n",
       "    .dataframe tbody tr th {\n",
       "        vertical-align: top;\n",
       "    }\n",
       "\n",
       "    .dataframe thead th {\n",
       "        text-align: right;\n",
       "    }\n",
       "</style>\n",
       "<table border=\"1\" class=\"dataframe\">\n",
       "  <thead>\n",
       "    <tr style=\"text-align: right;\">\n",
       "      <th></th>\n",
       "      <th>sepal_length</th>\n",
       "      <th>sepal_width</th>\n",
       "      <th>petal_length</th>\n",
       "      <th>petal_width</th>\n",
       "      <th>species</th>\n",
       "    </tr>\n",
       "  </thead>\n",
       "  <tbody>\n",
       "    <tr>\n",
       "      <th>0</th>\n",
       "      <td>5.1</td>\n",
       "      <td>3.5</td>\n",
       "      <td>1.4</td>\n",
       "      <td>0.2</td>\n",
       "      <td>Iris-setosa</td>\n",
       "    </tr>\n",
       "    <tr>\n",
       "      <th>1</th>\n",
       "      <td>4.9</td>\n",
       "      <td>3.0</td>\n",
       "      <td>1.4</td>\n",
       "      <td>0.2</td>\n",
       "      <td>Iris-setosa</td>\n",
       "    </tr>\n",
       "    <tr>\n",
       "      <th>2</th>\n",
       "      <td>4.7</td>\n",
       "      <td>3.2</td>\n",
       "      <td>1.3</td>\n",
       "      <td>0.2</td>\n",
       "      <td>Iris-setosa</td>\n",
       "    </tr>\n",
       "    <tr>\n",
       "      <th>3</th>\n",
       "      <td>4.6</td>\n",
       "      <td>3.1</td>\n",
       "      <td>1.5</td>\n",
       "      <td>0.2</td>\n",
       "      <td>Iris-setosa</td>\n",
       "    </tr>\n",
       "    <tr>\n",
       "      <th>4</th>\n",
       "      <td>5.0</td>\n",
       "      <td>3.6</td>\n",
       "      <td>1.4</td>\n",
       "      <td>0.2</td>\n",
       "      <td>Iris-setosa</td>\n",
       "    </tr>\n",
       "    <tr>\n",
       "      <th>...</th>\n",
       "      <td>...</td>\n",
       "      <td>...</td>\n",
       "      <td>...</td>\n",
       "      <td>...</td>\n",
       "      <td>...</td>\n",
       "    </tr>\n",
       "    <tr>\n",
       "      <th>122</th>\n",
       "      <td>6.7</td>\n",
       "      <td>3.0</td>\n",
       "      <td>5.2</td>\n",
       "      <td>2.3</td>\n",
       "      <td>Iris-virginica</td>\n",
       "    </tr>\n",
       "    <tr>\n",
       "      <th>123</th>\n",
       "      <td>6.3</td>\n",
       "      <td>2.5</td>\n",
       "      <td>5.0</td>\n",
       "      <td>1.9</td>\n",
       "      <td>Iris-virginica</td>\n",
       "    </tr>\n",
       "    <tr>\n",
       "      <th>124</th>\n",
       "      <td>6.5</td>\n",
       "      <td>3.0</td>\n",
       "      <td>5.2</td>\n",
       "      <td>2.0</td>\n",
       "      <td>Iris-virginica</td>\n",
       "    </tr>\n",
       "    <tr>\n",
       "      <th>125</th>\n",
       "      <td>6.2</td>\n",
       "      <td>3.4</td>\n",
       "      <td>5.4</td>\n",
       "      <td>2.3</td>\n",
       "      <td>Iris-virginica</td>\n",
       "    </tr>\n",
       "    <tr>\n",
       "      <th>126</th>\n",
       "      <td>5.9</td>\n",
       "      <td>3.0</td>\n",
       "      <td>5.1</td>\n",
       "      <td>1.8</td>\n",
       "      <td>Iris-virginica</td>\n",
       "    </tr>\n",
       "  </tbody>\n",
       "</table>\n",
       "<p>127 rows × 5 columns</p>\n",
       "</div>"
      ],
      "text/plain": [
       "     sepal_length  sepal_width  petal_length  petal_width         species\n",
       "0             5.1          3.5           1.4          0.2     Iris-setosa\n",
       "1             4.9          3.0           1.4          0.2     Iris-setosa\n",
       "2             4.7          3.2           1.3          0.2     Iris-setosa\n",
       "3             4.6          3.1           1.5          0.2     Iris-setosa\n",
       "4             5.0          3.6           1.4          0.2     Iris-setosa\n",
       "..            ...          ...           ...          ...             ...\n",
       "122           6.7          3.0           5.2          2.3  Iris-virginica\n",
       "123           6.3          2.5           5.0          1.9  Iris-virginica\n",
       "124           6.5          3.0           5.2          2.0  Iris-virginica\n",
       "125           6.2          3.4           5.4          2.3  Iris-virginica\n",
       "126           5.9          3.0           5.1          1.8  Iris-virginica\n",
       "\n",
       "[127 rows x 5 columns]"
      ]
     },
     "execution_count": 2,
     "metadata": {},
     "output_type": "execute_result"
    }
   ],
   "source": [
    "data = pd.read_csv('IRIS.csv')\n",
    "data"
   ]
  },
  {
   "cell_type": "markdown",
   "id": "003b342f",
   "metadata": {
    "id": "003b342f"
   },
   "source": [
    "# Data Visualization"
   ]
  },
  {
   "cell_type": "code",
   "execution_count": null,
   "id": "58335e20",
   "metadata": {
    "id": "58335e20",
    "outputId": "47a26080-7a91-42ba-fba5-6290648e171a"
   },
   "outputs": [
    {
     "data": {
      "image/png": "[encoded data removed]",
      "text/plain": [
       "<Figure size 648x648 with 4 Axes>"
      ]
     },
     "metadata": {
      "needs_background": "light"
     },
     "output_type": "display_data"
    }
   ],
   "source": [
    "data.hist(figsize=(9,9))\n",
    "plt.show()"
   ]
  },
  {
   "cell_type": "code",
   "execution_count": null,
   "id": "6530cc2b",
   "metadata": {
    "id": "6530cc2b",
    "outputId": "0ef3965f-888c-4c76-f095-bcb2ee55876d"
   },
   "outputs": [
    {
     "data": {
      "image/png": "[encoded data removed]",
      "text/plain": [
       "<Figure size 504x504 with 1 Axes>"
      ]
     },
     "metadata": {
      "needs_background": "light"
     },
     "output_type": "display_data"
    }
   ],
   "source": [
    "data.boxplot(figsize=(7,7))\n",
    "plt.show()"
   ]
  },
  {
   "cell_type": "code",
   "execution_count": null,
   "id": "c6f3bc35",
   "metadata": {
    "id": "c6f3bc35",
    "outputId": "ee9ce87f-164e-4bfb-b803-95bbf81e5e72"
   },
   "outputs": [
    {
     "name": "stdout",
     "output_type": "stream",
     "text": [
      "<class 'pandas.core.frame.DataFrame'>\n",
      "RangeIndex: 127 entries, 0 to 126\n",
      "Data columns (total 5 columns):\n",
      " #   Column        Non-Null Count  Dtype  \n",
      "---  ------        --------------  -----  \n",
      " 0   sepal_length  127 non-null    float64\n",
      " 1   sepal_width   127 non-null    float64\n",
      " 2   petal_length  127 non-null    float64\n",
      " 3   petal_width   127 non-null    float64\n",
      " 4   species       127 non-null    object \n",
      "dtypes: float64(4), object(1)\n",
      "memory usage: 5.1+ KB\n"
     ]
    }
   ],
   "source": [
    "data.info()"
   ]
  },
  {
   "cell_type": "code",
   "execution_count": null,
   "id": "d7e3da35",
   "metadata": {
    "id": "d7e3da35",
    "outputId": "e58920bd-3c48-4fb2-c3d8-2fefd8e6bad1"
   },
   "outputs": [
    {
     "name": "stdout",
     "output_type": "stream",
     "text": [
      "['Iris-setosa' 'Iris-versicolor' 'Iris-virginica']\n"
     ]
    }
   ],
   "source": [
    "print(data['species'].unique())"
   ]
  },
  {
   "cell_type": "code",
   "execution_count": null,
   "id": "302d765f",
   "metadata": {
    "id": "302d765f",
    "outputId": "202a0e0a-a977-4675-e234-cde05655258b"
   },
   "outputs": [
    {
     "data": {
      "image/png": "[encoded data removed]",
      "text/plain": [
       "<Figure size 432x288 with 1 Axes>"
      ]
     },
     "metadata": {
      "needs_background": "light"
     },
     "output_type": "display_data"
    }
   ],
   "source": [
    "sns.scatterplot(x='sepal_length',y='sepal_width',hue='species',data=data)\n",
    "plt.legend()\n",
    "plt.show()"
   ]
  },
  {
   "cell_type": "code",
   "execution_count": null,
   "id": "fa698553",
   "metadata": {
    "id": "fa698553",
    "outputId": "ec96f3d4-5291-4814-ebcd-7ebc5a5ab1cf"
   },
   "outputs": [
    {
     "data": {
      "image/png": "[encoded data removed]",
      "text/plain": [
       "<Figure size 432x288 with 1 Axes>"
      ]
     },
     "metadata": {
      "needs_background": "light"
     },
     "output_type": "display_data"
    }
   ],
   "source": [
    "sns.scatterplot(x='petal_length',y='petal_width',hue='species',data=data)\n",
    "plt.legend()\n",
    "plt.show()"
   ]
  },
  {
   "cell_type": "code",
   "execution_count": null,
   "id": "af03c410",
   "metadata": {
    "id": "af03c410",
    "outputId": "5f106fda-193a-4ea3-906f-7c7530ab4397"
   },
   "outputs": [
    {
     "data": {
      "image/png": "[encoded data removed]",
      "text/plain": [
       "<Figure size 648x432 with 1 Axes>"
      ]
     },
     "metadata": {
      "needs_background": "light"
     },
     "output_type": "display_data"
    },
    {
     "name": "stdout",
     "output_type": "stream",
     "text": [
      "Iris-setosa        45\n",
      "Iris-virginica     42\n",
      "Iris-versicolor    40\n",
      "Name: species, dtype: int64\n"
     ]
    }
   ],
   "source": [
    "data.species.value_counts().plot(kind='bar',figsize=(9,6))\n",
    "plt.xlabel('Species')\n",
    "plt.xticks(rotation=0)\n",
    "plt.ylabel('Count')\n",
    "plt.show()\n",
    "print(data.species.value_counts())"
   ]
  },
  {
   "cell_type": "code",
   "execution_count": null,
   "id": "199a2214",
   "metadata": {
    "id": "199a2214",
    "outputId": "2bf0c173-cc85-451d-ad76-3a7df946f19a"
   },
   "outputs": [
    {
     "data": {
      "text/html": [
       "<div>\n",
       "<style scoped>\n",
       "    .dataframe tbody tr th:only-of-type {\n",
       "        vertical-align: middle;\n",
       "    }\n",
       "\n",
       "    .dataframe tbody tr th {\n",
       "        vertical-align: top;\n",
       "    }\n",
       "\n",
       "    .dataframe thead th {\n",
       "        text-align: right;\n",
       "    }\n",
       "</style>\n",
       "<table border=\"1\" class=\"dataframe\">\n",
       "  <thead>\n",
       "    <tr style=\"text-align: right;\">\n",
       "      <th></th>\n",
       "      <th>sepal_length</th>\n",
       "      <th>sepal_width</th>\n",
       "      <th>petal_length</th>\n",
       "      <th>petal_width</th>\n",
       "    </tr>\n",
       "  </thead>\n",
       "  <tbody>\n",
       "    <tr>\n",
       "      <th>count</th>\n",
       "      <td>127.00000</td>\n",
       "      <td>127.000000</td>\n",
       "      <td>127.000000</td>\n",
       "      <td>127.000000</td>\n",
       "    </tr>\n",
       "    <tr>\n",
       "      <th>mean</th>\n",
       "      <td>5.81811</td>\n",
       "      <td>3.052756</td>\n",
       "      <td>3.699213</td>\n",
       "      <td>1.164567</td>\n",
       "    </tr>\n",
       "    <tr>\n",
       "      <th>std</th>\n",
       "      <td>0.83594</td>\n",
       "      <td>0.448069</td>\n",
       "      <td>1.802357</td>\n",
       "      <td>0.765893</td>\n",
       "    </tr>\n",
       "    <tr>\n",
       "      <th>min</th>\n",
       "      <td>4.30000</td>\n",
       "      <td>2.000000</td>\n",
       "      <td>1.000000</td>\n",
       "      <td>0.100000</td>\n",
       "    </tr>\n",
       "    <tr>\n",
       "      <th>25%</th>\n",
       "      <td>5.10000</td>\n",
       "      <td>2.800000</td>\n",
       "      <td>1.500000</td>\n",
       "      <td>0.300000</td>\n",
       "    </tr>\n",
       "    <tr>\n",
       "      <th>50%</th>\n",
       "      <td>5.70000</td>\n",
       "      <td>3.000000</td>\n",
       "      <td>4.200000</td>\n",
       "      <td>1.300000</td>\n",
       "    </tr>\n",
       "    <tr>\n",
       "      <th>75%</th>\n",
       "      <td>6.35000</td>\n",
       "      <td>3.400000</td>\n",
       "      <td>5.100000</td>\n",
       "      <td>1.800000</td>\n",
       "    </tr>\n",
       "    <tr>\n",
       "      <th>max</th>\n",
       "      <td>7.90000</td>\n",
       "      <td>4.400000</td>\n",
       "      <td>6.900000</td>\n",
       "      <td>2.500000</td>\n",
       "    </tr>\n",
       "  </tbody>\n",
       "</table>\n",
       "</div>"
      ],
      "text/plain": [
       "       sepal_length  sepal_width  petal_length  petal_width\n",
       "count     127.00000   127.000000    127.000000   127.000000\n",
       "mean        5.81811     3.052756      3.699213     1.164567\n",
       "std         0.83594     0.448069      1.802357     0.765893\n",
       "min         4.30000     2.000000      1.000000     0.100000\n",
       "25%         5.10000     2.800000      1.500000     0.300000\n",
       "50%         5.70000     3.000000      4.200000     1.300000\n",
       "75%         6.35000     3.400000      5.100000     1.800000\n",
       "max         7.90000     4.400000      6.900000     2.500000"
      ]
     },
     "execution_count": 10,
     "metadata": {},
     "output_type": "execute_result"
    }
   ],
   "source": [
    "data.describe()"
   ]
  },
  {
   "cell_type": "markdown",
   "id": "e40012fa",
   "metadata": {
    "id": "e40012fa"
   },
   "source": [
    "# Cleaning Dataset"
   ]
  },
  {
   "cell_type": "code",
   "execution_count": null,
   "id": "6a01083d",
   "metadata": {
    "id": "6a01083d",
    "outputId": "c3b811a8-7ba7-4425-946a-fa966856c420"
   },
   "outputs": [
    {
     "data": {
      "text/plain": [
       "sepal_length    0\n",
       "sepal_width     0\n",
       "petal_length    0\n",
       "petal_width     0\n",
       "species         0\n",
       "dtype: int64"
      ]
     },
     "execution_count": 11,
     "metadata": {},
     "output_type": "execute_result"
    }
   ],
   "source": [
    "data.isnull().sum()"
   ]
  },
  {
   "cell_type": "code",
   "execution_count": null,
   "id": "fc1cbf48",
   "metadata": {
    "id": "fc1cbf48",
    "outputId": "dcd6ddfb-5996-4158-c52c-80119a63d77d"
   },
   "outputs": [
    {
     "name": "stdout",
     "output_type": "stream",
     "text": [
      "data shape before removing duplicates  (127, 5)\n",
      "----------------------------------------------------\n",
      "data shape after removing duplicates  (125, 5)\n"
     ]
    }
   ],
   "source": [
    "print('data shape before removing duplicates ',data.shape)\n",
    "data = data.drop_duplicates()\n",
    "print('----------------------------------------------------')\n",
    "print('data shape after removing duplicates ',data.shape)"
   ]
  },
  {
   "cell_type": "code",
   "execution_count": null,
   "id": "52333a8f",
   "metadata": {
    "id": "52333a8f",
    "outputId": "ebfe9885-a057-455e-8029-ff32db969455"
   },
   "outputs": [
    {
     "name": "stderr",
     "output_type": "stream",
     "text": [
      "C:\\Users\\Right-Click\\AppData\\Local\\Temp\\ipykernel_7712\\395610086.py:5: SettingWithCopyWarning: \n",
      "A value is trying to be set on a copy of a slice from a DataFrame.\n",
      "Try using .loc[row_indexer,col_indexer] = value instead\n",
      "\n",
      "See the caveats in the documentation: https://pandas.pydata.org/pandas-docs/stable/user_guide/indexing.html#returning-a-view-versus-a-copy\n",
      "  data['species'] = label_encoder.fit_transform(data['species'])\n"
     ]
    },
    {
     "data": {
      "text/html": [
       "<div>\n",
       "<style scoped>\n",
       "    .dataframe tbody tr th:only-of-type {\n",
       "        vertical-align: middle;\n",
       "    }\n",
       "\n",
       "    .dataframe tbody tr th {\n",
       "        vertical-align: top;\n",
       "    }\n",
       "\n",
       "    .dataframe thead th {\n",
       "        text-align: right;\n",
       "    }\n",
       "</style>\n",
       "<table border=\"1\" class=\"dataframe\">\n",
       "  <thead>\n",
       "    <tr style=\"text-align: right;\">\n",
       "      <th></th>\n",
       "      <th>sepal_length</th>\n",
       "      <th>sepal_width</th>\n",
       "      <th>petal_length</th>\n",
       "      <th>petal_width</th>\n",
       "      <th>species</th>\n",
       "    </tr>\n",
       "  </thead>\n",
       "  <tbody>\n",
       "    <tr>\n",
       "      <th>0</th>\n",
       "      <td>5.1</td>\n",
       "      <td>3.5</td>\n",
       "      <td>1.4</td>\n",
       "      <td>0.2</td>\n",
       "      <td>0</td>\n",
       "    </tr>\n",
       "    <tr>\n",
       "      <th>1</th>\n",
       "      <td>4.9</td>\n",
       "      <td>3.0</td>\n",
       "      <td>1.4</td>\n",
       "      <td>0.2</td>\n",
       "      <td>0</td>\n",
       "    </tr>\n",
       "    <tr>\n",
       "      <th>2</th>\n",
       "      <td>4.7</td>\n",
       "      <td>3.2</td>\n",
       "      <td>1.3</td>\n",
       "      <td>0.2</td>\n",
       "      <td>0</td>\n",
       "    </tr>\n",
       "    <tr>\n",
       "      <th>3</th>\n",
       "      <td>4.6</td>\n",
       "      <td>3.1</td>\n",
       "      <td>1.5</td>\n",
       "      <td>0.2</td>\n",
       "      <td>0</td>\n",
       "    </tr>\n",
       "    <tr>\n",
       "      <th>4</th>\n",
       "      <td>5.0</td>\n",
       "      <td>3.6</td>\n",
       "      <td>1.4</td>\n",
       "      <td>0.2</td>\n",
       "      <td>0</td>\n",
       "    </tr>\n",
       "    <tr>\n",
       "      <th>...</th>\n",
       "      <td>...</td>\n",
       "      <td>...</td>\n",
       "      <td>...</td>\n",
       "      <td>...</td>\n",
       "      <td>...</td>\n",
       "    </tr>\n",
       "    <tr>\n",
       "      <th>122</th>\n",
       "      <td>6.7</td>\n",
       "      <td>3.0</td>\n",
       "      <td>5.2</td>\n",
       "      <td>2.3</td>\n",
       "      <td>2</td>\n",
       "    </tr>\n",
       "    <tr>\n",
       "      <th>123</th>\n",
       "      <td>6.3</td>\n",
       "      <td>2.5</td>\n",
       "      <td>5.0</td>\n",
       "      <td>1.9</td>\n",
       "      <td>2</td>\n",
       "    </tr>\n",
       "    <tr>\n",
       "      <th>124</th>\n",
       "      <td>6.5</td>\n",
       "      <td>3.0</td>\n",
       "      <td>5.2</td>\n",
       "      <td>2.0</td>\n",
       "      <td>2</td>\n",
       "    </tr>\n",
       "    <tr>\n",
       "      <th>125</th>\n",
       "      <td>6.2</td>\n",
       "      <td>3.4</td>\n",
       "      <td>5.4</td>\n",
       "      <td>2.3</td>\n",
       "      <td>2</td>\n",
       "    </tr>\n",
       "    <tr>\n",
       "      <th>126</th>\n",
       "      <td>5.9</td>\n",
       "      <td>3.0</td>\n",
       "      <td>5.1</td>\n",
       "      <td>1.8</td>\n",
       "      <td>2</td>\n",
       "    </tr>\n",
       "  </tbody>\n",
       "</table>\n",
       "<p>125 rows × 5 columns</p>\n",
       "</div>"
      ],
      "text/plain": [
       "     sepal_length  sepal_width  petal_length  petal_width  species\n",
       "0             5.1          3.5           1.4          0.2        0\n",
       "1             4.9          3.0           1.4          0.2        0\n",
       "2             4.7          3.2           1.3          0.2        0\n",
       "3             4.6          3.1           1.5          0.2        0\n",
       "4             5.0          3.6           1.4          0.2        0\n",
       "..            ...          ...           ...          ...      ...\n",
       "122           6.7          3.0           5.2          2.3        2\n",
       "123           6.3          2.5           5.0          1.9        2\n",
       "124           6.5          3.0           5.2          2.0        2\n",
       "125           6.2          3.4           5.4          2.3        2\n",
       "126           5.9          3.0           5.1          1.8        2\n",
       "\n",
       "[125 rows x 5 columns]"
      ]
     },
     "execution_count": 13,
     "metadata": {},
     "output_type": "execute_result"
    }
   ],
   "source": [
    "from sklearn import preprocessing\n",
    "label_encoder = preprocessing.LabelEncoder()\n",
    "\n",
    "species = data['species']\n",
    "data['species'] = label_encoder.fit_transform(data['species'])\n",
    "data"
   ]
  },
  {
   "cell_type": "markdown",
   "id": "05ed214c",
   "metadata": {
    "id": "05ed214c"
   },
   "source": [
    "# Split Dataset into train and test"
   ]
  },
  {
   "cell_type": "code",
   "execution_count": null,
   "id": "3e493c6f",
   "metadata": {
    "id": "3e493c6f"
   },
   "outputs": [],
   "source": [
    "X = data.drop(['species'],axis=1)\n",
    "y = data['species']"
   ]
  },
  {
   "cell_type": "code",
   "execution_count": null,
   "id": "1f6a094e",
   "metadata": {
    "id": "1f6a094e",
    "outputId": "c58d09c4-57b0-4ae4-fb50-42da35756a13"
   },
   "outputs": [
    {
     "name": "stdout",
     "output_type": "stream",
     "text": [
      "x_train_shape :  (87, 4)\n",
      "y_train_shape :  (87,)\n",
      "x_test_shape :  (38, 4)\n",
      "y_test_shape :  (38,)\n"
     ]
    }
   ],
   "source": [
    "from sklearn.model_selection import train_test_split\n",
    "\n",
    "x_train,x_test ,y_train,y_test = train_test_split(X, y, test_size = 0.3, random_state = 1)\n",
    "print('x_train_shape : ',x_train.shape)\n",
    "print('y_train_shape : ',y_train.shape)\n",
    "print('x_test_shape : ',x_test.shape)\n",
    "print('y_test_shape : ',y_test.shape)"
   ]
  },
  {
   "cell_type": "markdown",
   "id": "9511d591",
   "metadata": {
    "id": "9511d591"
   },
   "source": [
    "# Training Models"
   ]
  },
  {
   "cell_type": "markdown",
   "id": "f3927f0c",
   "metadata": {
    "id": "f3927f0c"
   },
   "source": [
    "### logistic Regression"
   ]
  },
  {
   "cell_type": "code",
   "execution_count": null,
   "id": "6745182d",
   "metadata": {
    "id": "6745182d",
    "outputId": "3bd7372c-a0f9-4e4b-8d08-45a39e7837aa"
   },
   "outputs": [
    {
     "name": "stdout",
     "output_type": "stream",
     "text": [
      "0.9770114942528736\n",
      "0.9473684210526315\n"
     ]
    },
    {
     "name": "stderr",
     "output_type": "stream",
     "text": [
      "D:\\Programs\\Python Program\\Anaconda_Installation\\lib\\site-packages\\sklearn\\linear_model\\_logistic.py:814: ConvergenceWarning: lbfgs failed to converge (status=1):\n",
      "STOP: TOTAL NO. of ITERATIONS REACHED LIMIT.\n",
      "\n",
      "Increase the number of iterations (max_iter) or scale the data as shown in:\n",
      "    https://scikit-learn.org/stable/modules/preprocessing.html\n",
      "Please also refer to the documentation for alternative solver options:\n",
      "    https://scikit-learn.org/stable/modules/linear_model.html#logistic-regression\n",
      "  n_iter_i = _check_optimize_result(\n"
     ]
    }
   ],
   "source": [
    "from sklearn.linear_model import LogisticRegression\n",
    "\n",
    "LR_model = LogisticRegression()\n",
    "LR_model.fit(x_train,y_train)\n",
    "print(LR_model.score(x_train,y_train))\n",
    "print(LR_model.score(x_test,y_test))"
   ]
  },
  {
   "cell_type": "markdown",
   "id": "cab0e9fc",
   "metadata": {
    "id": "cab0e9fc"
   },
   "source": [
    "### SVC"
   ]
  },
  {
   "cell_type": "code",
   "execution_count": null,
   "id": "54920bf3",
   "metadata": {
    "id": "54920bf3",
    "outputId": "c4e4e112-b6a0-4678-be93-e31a6aa4a594"
   },
   "outputs": [
    {
     "name": "stdout",
     "output_type": "stream",
     "text": [
      "0.9770114942528736\n",
      "0.9210526315789473\n"
     ]
    }
   ],
   "source": [
    "from sklearn.svm import SVC\n",
    "\n",
    "svc_model = SVC()\n",
    "svc_model.fit(x_train,y_train)\n",
    "print(svc_model.score(x_train,y_train))\n",
    "print(svc_model.score(x_test,y_test))"
   ]
  },
  {
   "cell_type": "code",
   "execution_count": null,
   "id": "762d6192",
   "metadata": {
    "id": "762d6192",
    "outputId": "2888734b-62aa-4ae3-88cd-bfc6179ac568"
   },
   "outputs": [
    {
     "data": {
      "text/plain": [
       "GridSearchCV(cv=5, estimator=SVC(),\n",
       "             param_grid={'C': [0.1, 1, 10, 100, 1000], 'kernel': ['linear']},\n",
       "             return_train_score=True)"
      ]
     },
     "execution_count": 18,
     "metadata": {},
     "output_type": "execute_result"
    }
   ],
   "source": [
    "from sklearn.model_selection import GridSearchCV\n",
    "\n",
    "svc_param_grid = {'C': [0.1, 1, 10, 100, 1000],\n",
    "                  'kernel': ['linear']}\n",
    "SVC_CV= GridSearchCV(svc_model, param_grid = svc_param_grid, cv=5, return_train_score = True )\n",
    "SVC_CV.fit(x_train,y_train)"
   ]
  },
  {
   "cell_type": "code",
   "execution_count": null,
   "id": "510d5f4b",
   "metadata": {
    "id": "510d5f4b",
    "outputId": "23b9077f-f6a9-45fc-dcd6-56e1c93c617e"
   },
   "outputs": [
    {
     "data": {
      "text/plain": [
       "{'C': 1, 'kernel': 'linear'}"
      ]
     },
     "execution_count": 19,
     "metadata": {},
     "output_type": "execute_result"
    }
   ],
   "source": [
    "SVC_CV.best_params_"
   ]
  },
  {
   "cell_type": "code",
   "execution_count": null,
   "id": "134fd703",
   "metadata": {
    "id": "134fd703",
    "outputId": "3d7bc89f-14c7-4c7d-c8cc-6206afd6a8a4"
   },
   "outputs": [
    {
     "data": {
      "text/plain": [
       "{'C': 1,\n",
       " 'break_ties': False,\n",
       " 'cache_size': 200,\n",
       " 'class_weight': None,\n",
       " 'coef0': 0.0,\n",
       " 'decision_function_shape': 'ovr',\n",
       " 'degree': 3,\n",
       " 'gamma': 'scale',\n",
       " 'kernel': 'linear',\n",
       " 'max_iter': -1,\n",
       " 'probability': False,\n",
       " 'random_state': None,\n",
       " 'shrinking': True,\n",
       " 'tol': 0.001,\n",
       " 'verbose': False}"
      ]
     },
     "execution_count": 20,
     "metadata": {},
     "output_type": "execute_result"
    }
   ],
   "source": [
    "best_SVC = SVC_CV.best_estimator_\n",
    "best_SVC.get_params()"
   ]
  },
  {
   "cell_type": "code",
   "execution_count": null,
   "id": "e2f9d5a4",
   "metadata": {
    "id": "e2f9d5a4",
    "outputId": "817c32b1-87f7-4b70-908a-33f31bb20bdf"
   },
   "outputs": [
    {
     "data": {
      "text/plain": [
       "0.9885057471264368"
      ]
     },
     "execution_count": 21,
     "metadata": {},
     "output_type": "execute_result"
    }
   ],
   "source": [
    "best_SVC.fit(x_train,y_train)\n",
    "best_SVC.score(x_train,y_train)"
   ]
  },
  {
   "cell_type": "markdown",
   "id": "840bf8e9",
   "metadata": {
    "id": "840bf8e9"
   },
   "source": [
    "### Decision Tree"
   ]
  },
  {
   "cell_type": "code",
   "execution_count": null,
   "id": "ffceecb2",
   "metadata": {
    "id": "ffceecb2",
    "outputId": "a62dc691-f6ee-4313-9e56-e536393d4c57"
   },
   "outputs": [
    {
     "name": "stdout",
     "output_type": "stream",
     "text": [
      "1.0\n",
      "0.9210526315789473\n"
     ]
    }
   ],
   "source": [
    "from sklearn.tree import DecisionTreeClassifier\n",
    "\n",
    "DT_model = DecisionTreeClassifier()\n",
    "DT_model.fit(x_train,y_train)\n",
    "print(DT_model.score(x_train,y_train))\n",
    "print(DT_model.score(x_test,y_test))"
   ]
  },
  {
   "cell_type": "code",
   "execution_count": null,
   "id": "55b2bf24",
   "metadata": {
    "id": "55b2bf24",
    "outputId": "1732689a-bfdb-430c-b7e7-4e5378870afb"
   },
   "outputs": [
    {
     "data": {
      "text/plain": [
       "GridSearchCV(cv=5, estimator=DecisionTreeClassifier(),\n",
       "             param_grid={'criterion': ['gini', 'entropy']},\n",
       "             return_train_score=True)"
      ]
     },
     "execution_count": 23,
     "metadata": {},
     "output_type": "execute_result"
    }
   ],
   "source": [
    "DT_params_grid = {'criterion':['gini','entropy']}\n",
    "DT_CV= GridSearchCV(DT_model, param_grid = DT_params_grid, cv=5, return_train_score = True ) # , n_jobs=-1\n",
    "DT_CV.fit(x_train,y_train)"
   ]
  },
  {
   "cell_type": "code",
   "execution_count": null,
   "id": "16a3430c",
   "metadata": {
    "id": "16a3430c",
    "outputId": "3b22195d-7374-4b27-88e7-e1f9b33b45f7"
   },
   "outputs": [
    {
     "data": {
      "text/plain": [
       "{'criterion': 'gini'}"
      ]
     },
     "execution_count": 24,
     "metadata": {},
     "output_type": "execute_result"
    }
   ],
   "source": [
    "DT_CV.best_params_"
   ]
  },
  {
   "cell_type": "code",
   "execution_count": null,
   "id": "376dc391",
   "metadata": {
    "id": "376dc391",
    "outputId": "ebabc0aa-708d-4d26-ce7f-a3c0928aedf2"
   },
   "outputs": [
    {
     "data": {
      "text/plain": [
       "{'ccp_alpha': 0.0,\n",
       " 'class_weight': None,\n",
       " 'criterion': 'gini',\n",
       " 'max_depth': None,\n",
       " 'max_features': None,\n",
       " 'max_leaf_nodes': None,\n",
       " 'min_impurity_decrease': 0.0,\n",
       " 'min_samples_leaf': 1,\n",
       " 'min_samples_split': 2,\n",
       " 'min_weight_fraction_leaf': 0.0,\n",
       " 'random_state': None,\n",
       " 'splitter': 'best'}"
      ]
     },
     "execution_count": 25,
     "metadata": {},
     "output_type": "execute_result"
    }
   ],
   "source": [
    "best_DT = DT_CV.best_estimator_\n",
    "best_DT.get_params()"
   ]
  },
  {
   "cell_type": "code",
   "execution_count": null,
   "id": "5138b89b",
   "metadata": {
    "id": "5138b89b",
    "outputId": "c9ac8f8b-be3e-453b-9090-4dd18b31efa4"
   },
   "outputs": [
    {
     "data": {
      "text/plain": [
       "1.0"
      ]
     },
     "execution_count": 26,
     "metadata": {},
     "output_type": "execute_result"
    }
   ],
   "source": [
    "best_DT.fit(x_train,y_train)\n",
    "best_DT.score(x_train,y_train)"
   ]
  },
  {
   "cell_type": "markdown",
   "id": "b87ec856",
   "metadata": {
    "id": "b87ec856"
   },
   "source": [
    "### stacking Technique"
   ]
  },
  {
   "cell_type": "code",
   "execution_count": null,
   "id": "c5fa62e2",
   "metadata": {
    "id": "c5fa62e2"
   },
   "outputs": [],
   "source": [
    "from sklearn.ensemble import StackingClassifier\n",
    "\n",
    "models = [('Decission Tree',best_DT),('SVC',best_SVC),('Logistic Regression',LR_model)]\n",
    "stack = StackingClassifier(models ,cv=5 ,final_estimator=LogisticRegression())"
   ]
  },
  {
   "cell_type": "code",
   "execution_count": null,
   "id": "ac0977a1",
   "metadata": {
    "id": "ac0977a1",
    "outputId": "75af17b1-4397-41e0-d4d7-676f107174c4"
   },
   "outputs": [
    {
     "name": "stdout",
     "output_type": "stream",
     "text": [
      "0.9885057471264368\n",
      "0.9210526315789473\n"
     ]
    },
    {
     "name": "stderr",
     "output_type": "stream",
     "text": [
      "D:\\Programs\\Python Program\\Anaconda_Installation\\lib\\site-packages\\sklearn\\linear_model\\_logistic.py:814: ConvergenceWarning: lbfgs failed to converge (status=1):\n",
      "STOP: TOTAL NO. of ITERATIONS REACHED LIMIT.\n",
      "\n",
      "Increase the number of iterations (max_iter) or scale the data as shown in:\n",
      "    https://scikit-learn.org/stable/modules/preprocessing.html\n",
      "Please also refer to the documentation for alternative solver options:\n",
      "    https://scikit-learn.org/stable/modules/linear_model.html#logistic-regression\n",
      "  n_iter_i = _check_optimize_result(\n"
     ]
    }
   ],
   "source": [
    "stack.fit(x_train,y_train)\n",
    "\n",
    "print(stack.score(x_train,y_train))\n",
    "print(stack.score(x_test,y_test))"
   ]
  },
  {
   "cell_type": "code",
   "execution_count": null,
   "id": "f35fddab",
   "metadata": {
    "id": "f35fddab"
   },
   "outputs": [],
   "source": [
    "predictions = stack.predict(x_test)"
   ]
  },
  {
   "cell_type": "markdown",
   "id": "42caddf8",
   "metadata": {
    "id": "42caddf8"
   },
   "source": [
    "# Metrics"
   ]
  },
  {
   "cell_type": "code",
   "execution_count": null,
   "id": "f0c672b2",
   "metadata": {
    "id": "f0c672b2"
   },
   "outputs": [],
   "source": [
    "from sklearn.metrics import classification_report,confusion_matrix,auc,roc_curve"
   ]
  },
  {
   "cell_type": "code",
   "execution_count": null,
   "id": "0127583e",
   "metadata": {
    "id": "0127583e",
    "outputId": "2279bb2c-d0c6-423d-ff72-06dbad77b36f"
   },
   "outputs": [
    {
     "name": "stdout",
     "output_type": "stream",
     "text": [
      "[[ 6  0  0]\n",
      " [ 0 12  3]\n",
      " [ 0  0 17]]\n"
     ]
    }
   ],
   "source": [
    "print(confusion_matrix(y_test,predictions))"
   ]
  },
  {
   "cell_type": "code",
   "execution_count": null,
   "id": "f6a27710",
   "metadata": {
    "id": "f6a27710",
    "outputId": "cec7be64-697b-4ba9-8df9-2939b05e2e15"
   },
   "outputs": [
    {
     "name": "stdout",
     "output_type": "stream",
     "text": [
      "              precision    recall  f1-score   support\n",
      "\n",
      "           0       1.00      1.00      1.00         6\n",
      "           1       1.00      0.80      0.89        15\n",
      "           2       0.85      1.00      0.92        17\n",
      "\n",
      "    accuracy                           0.92        38\n",
      "   macro avg       0.95      0.93      0.94        38\n",
      "weighted avg       0.93      0.92      0.92        38\n",
      "\n"
     ]
    }
   ],
   "source": [
    "print(classification_report(y_test,predictions))"
   ]
  },
  {
   "cell_type": "code",
   "execution_count": null,
   "id": "62e69f20",
   "metadata": {
    "id": "62e69f20",
    "outputId": "350ff6b9-b6c7-41ed-a78b-deaadc9b91f2"
   },
   "outputs": [
    {
     "data": {
      "image/png": "[encoded data removed]",
      "text/plain": [
       "<Figure size 576x576 with 1 Axes>"
      ]
     },
     "metadata": {
      "needs_background": "light"
     },
     "output_type": "display_data"
    }
   ],
   "source": [
    "def rocAuc(model, Xtest, ytest, model_name):\n",
    "    cols = model.classes_\n",
    "    y_test_binarized = pd.get_dummies(ytest, prefix=['Class'])\n",
    "    try:\n",
    "        score = model.decision_function(Xtest)\n",
    "    except:\n",
    "        score = model.predict_proba(Xtest)\n",
    "\n",
    "    fpr = {}\n",
    "    tpr = {}\n",
    "    roc_auc = {}\n",
    "    for i in range(len(model.classes_)):\n",
    "        fpr[i], tpr[i], _ = roc_curve(y_test_binarized.iloc[:,i],score[:,i])\n",
    "        roc_auc[i] = auc(fpr[i],tpr[i])\n",
    "\n",
    "    plt.figure(figsize=(8,8))\n",
    "    for i in range(len(model.classes_)):\n",
    "        plt.plot(fpr[i],tpr[i], label=f'{cols[i]}-vs-Rest curve (area = %0.2f)' % roc_auc[i])\n",
    "\n",
    "    plt.plot([0,1],[0,1], 'k--')\n",
    "    plt.xlabel(\"False Positive Rate\")\n",
    "    plt.ylabel('True Positive Rate')\n",
    "    plt.title(f\"{model_name} Receiver Operation Characteristic\")\n",
    "    plt.legend(loc='lower right')\n",
    "    plt.show()\n",
    "\n",
    "rocAuc(stack, x_test, y_test, 'Stacking Technique')"
   ]
  },
  {
   "cell_type": "code",
   "execution_count": null,
   "id": "e22459ea",
   "metadata": {
    "id": "e22459ea",
    "outputId": "6a77bf1e-00eb-4afd-bf57-17318b1cea72"
   },
   "outputs": [
    {
     "data": {
      "text/plain": [
       "(23, 4)"
      ]
     },
     "execution_count": 34,
     "metadata": {},
     "output_type": "execute_result"
    }
   ],
   "source": [
    "hidden_set = pd.read_csv('IRIS_test_hidden.csv')\n",
    "hidden_set.shape"
   ]
  },
  {
   "cell_type": "code",
   "execution_count": null,
   "id": "ed9f83de",
   "metadata": {
    "id": "ed9f83de",
    "outputId": "d30b1044-6eac-4dfa-d71a-f1889ca787c8"
   },
   "outputs": [
    {
     "data": {
      "text/plain": [
       "(23, 4)"
      ]
     },
     "execution_count": 35,
     "metadata": {},
     "output_type": "execute_result"
    }
   ],
   "source": [
    "hidden_set = hidden_set.drop_duplicates()\n",
    "hidden_set.shape"
   ]
  },
  {
   "cell_type": "code",
   "execution_count": null,
   "id": "ca2f02eb",
   "metadata": {
    "id": "ca2f02eb"
   },
   "outputs": [],
   "source": [
    "hidden_prediction = stack.predict(hidden_set)\n",
    "hidden_prediction = pd.DataFrame(hidden_prediction)"
   ]
  },
  {
   "cell_type": "code",
   "execution_count": null,
   "id": "a9b873b1",
   "metadata": {
    "id": "a9b873b1"
   },
   "outputs": [],
   "source": [
    "hidden_prediction.to_csv('prediction_Amaal.csv',index=False)"
   ]
  }
 ],
 "metadata": {
  "colab": {
   "provenance": []
  },
  "kernelspec": {
   "display_name": "Python 3 (ipykernel)",
   "language": "python",
   "name": "python3"
  },
  "language_info": {
   "codemirror_mode": {
    "name": "ipython",
    "version": 3
   },
   "file_extension": ".py",
   "mimetype": "text/x-python",
   "name": "python",
   "nbconvert_exporter": "python",
   "pygments_lexer": "ipython3",
   "version": "3.11.3"
  }
 },
 "nbformat": 4,
 "nbformat_minor": 5
}
