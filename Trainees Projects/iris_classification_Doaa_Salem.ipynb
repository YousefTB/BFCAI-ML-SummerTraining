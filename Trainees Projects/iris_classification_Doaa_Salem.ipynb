{
 "cells": [
  {
   "cell_type": "code",
   "execution_count": null,
   "metadata": {
    "execution": {
     "iopub.execute_input": "2023-09-05T17:33:19.971747Z",
     "iopub.status.busy": "2023-09-05T17:33:19.971263Z",
     "iopub.status.idle": "2023-09-05T17:33:19.982089Z",
     "shell.execute_reply": "2023-09-05T17:33:19.981001Z",
     "shell.execute_reply.started": "2023-09-05T17:33:19.971712Z"
    },
    "id": "3RuOKTCbUZXf"
   },
   "outputs": [],
   "source": [
    "import pandas as pd\n",
    "import numpy as np\n",
    "import seaborn as sns\n",
    "import matplotlib\n",
    "from matplotlib import pyplot as plt\n",
    "%matplotlib inline\n",
    "import warnings\n",
    "warnings.filterwarnings('ignore')\n"
   ]
  },
  {
   "cell_type": "code",
   "execution_count": null,
   "metadata": {
    "execution": {
     "iopub.execute_input": "2023-09-05T17:33:19.992323Z",
     "iopub.status.busy": "2023-09-05T17:33:19.991909Z",
     "iopub.status.idle": "2023-09-05T17:33:20.025335Z",
     "shell.execute_reply": "2023-09-05T17:33:20.024172Z",
     "shell.execute_reply.started": "2023-09-05T17:33:19.992286Z"
    },
    "id": "Pob4vI7WUZXj",
    "outputId": "fcb5b72a-0dbe-4f39-d6e3-272dfd3dd115"
   },
   "outputs": [
    {
     "data": {
      "text/html": [
       "<div>\n",
       "<style scoped>\n",
       "    .dataframe tbody tr th:only-of-type {\n",
       "        vertical-align: middle;\n",
       "    }\n",
       "\n",
       "    .dataframe tbody tr th {\n",
       "        vertical-align: top;\n",
       "    }\n",
       "\n",
       "    .dataframe thead th {\n",
       "        text-align: right;\n",
       "    }\n",
       "</style>\n",
       "<table border=\"1\" class=\"dataframe\">\n",
       "  <thead>\n",
       "    <tr style=\"text-align: right;\">\n",
       "      <th></th>\n",
       "      <th>sepal_length</th>\n",
       "      <th>sepal_width</th>\n",
       "      <th>petal_length</th>\n",
       "      <th>petal_width</th>\n",
       "      <th>species</th>\n",
       "    </tr>\n",
       "  </thead>\n",
       "  <tbody>\n",
       "    <tr>\n",
       "      <th>0</th>\n",
       "      <td>5.1</td>\n",
       "      <td>3.5</td>\n",
       "      <td>1.4</td>\n",
       "      <td>0.2</td>\n",
       "      <td>Iris-setosa</td>\n",
       "    </tr>\n",
       "    <tr>\n",
       "      <th>1</th>\n",
       "      <td>4.9</td>\n",
       "      <td>3.0</td>\n",
       "      <td>1.4</td>\n",
       "      <td>0.2</td>\n",
       "      <td>Iris-setosa</td>\n",
       "    </tr>\n",
       "    <tr>\n",
       "      <th>2</th>\n",
       "      <td>4.7</td>\n",
       "      <td>3.2</td>\n",
       "      <td>1.3</td>\n",
       "      <td>0.2</td>\n",
       "      <td>Iris-setosa</td>\n",
       "    </tr>\n",
       "    <tr>\n",
       "      <th>3</th>\n",
       "      <td>4.6</td>\n",
       "      <td>3.1</td>\n",
       "      <td>1.5</td>\n",
       "      <td>0.2</td>\n",
       "      <td>Iris-setosa</td>\n",
       "    </tr>\n",
       "    <tr>\n",
       "      <th>4</th>\n",
       "      <td>5.0</td>\n",
       "      <td>3.6</td>\n",
       "      <td>1.4</td>\n",
       "      <td>0.2</td>\n",
       "      <td>Iris-setosa</td>\n",
       "    </tr>\n",
       "    <tr>\n",
       "      <th>...</th>\n",
       "      <td>...</td>\n",
       "      <td>...</td>\n",
       "      <td>...</td>\n",
       "      <td>...</td>\n",
       "      <td>...</td>\n",
       "    </tr>\n",
       "    <tr>\n",
       "      <th>122</th>\n",
       "      <td>6.7</td>\n",
       "      <td>3.0</td>\n",
       "      <td>5.2</td>\n",
       "      <td>2.3</td>\n",
       "      <td>Iris-virginica</td>\n",
       "    </tr>\n",
       "    <tr>\n",
       "      <th>123</th>\n",
       "      <td>6.3</td>\n",
       "      <td>2.5</td>\n",
       "      <td>5.0</td>\n",
       "      <td>1.9</td>\n",
       "      <td>Iris-virginica</td>\n",
       "    </tr>\n",
       "    <tr>\n",
       "      <th>124</th>\n",
       "      <td>6.5</td>\n",
       "      <td>3.0</td>\n",
       "      <td>5.2</td>\n",
       "      <td>2.0</td>\n",
       "      <td>Iris-virginica</td>\n",
       "    </tr>\n",
       "    <tr>\n",
       "      <th>125</th>\n",
       "      <td>6.2</td>\n",
       "      <td>3.4</td>\n",
       "      <td>5.4</td>\n",
       "      <td>2.3</td>\n",
       "      <td>Iris-virginica</td>\n",
       "    </tr>\n",
       "    <tr>\n",
       "      <th>126</th>\n",
       "      <td>5.9</td>\n",
       "      <td>3.0</td>\n",
       "      <td>5.1</td>\n",
       "      <td>1.8</td>\n",
       "      <td>Iris-virginica</td>\n",
       "    </tr>\n",
       "  </tbody>\n",
       "</table>\n",
       "<p>127 rows × 5 columns</p>\n",
       "</div>"
      ],
      "text/plain": [
       "     sepal_length  sepal_width  petal_length  petal_width         species\n",
       "0             5.1          3.5           1.4          0.2     Iris-setosa\n",
       "1             4.9          3.0           1.4          0.2     Iris-setosa\n",
       "2             4.7          3.2           1.3          0.2     Iris-setosa\n",
       "3             4.6          3.1           1.5          0.2     Iris-setosa\n",
       "4             5.0          3.6           1.4          0.2     Iris-setosa\n",
       "..            ...          ...           ...          ...             ...\n",
       "122           6.7          3.0           5.2          2.3  Iris-virginica\n",
       "123           6.3          2.5           5.0          1.9  Iris-virginica\n",
       "124           6.5          3.0           5.2          2.0  Iris-virginica\n",
       "125           6.2          3.4           5.4          2.3  Iris-virginica\n",
       "126           5.9          3.0           5.1          1.8  Iris-virginica\n",
       "\n",
       "[127 rows x 5 columns]"
      ]
     },
     "execution_count": 362,
     "metadata": {},
     "output_type": "execute_result"
    }
   ],
   "source": [
    "#load the data\n",
    "\n",
    "df=pd.read_csv('/kaggle/input/irisdata/IRIS.csv')\n",
    "df"
   ]
  },
  {
   "cell_type": "code",
   "execution_count": null,
   "metadata": {
    "execution": {
     "iopub.execute_input": "2023-09-05T17:33:20.029238Z",
     "iopub.status.busy": "2023-09-05T17:33:20.027348Z",
     "iopub.status.idle": "2023-09-05T17:33:20.043885Z",
     "shell.execute_reply": "2023-09-05T17:33:20.042739Z",
     "shell.execute_reply.started": "2023-09-05T17:33:20.029194Z"
    },
    "id": "sIQwNGGYUZXn",
    "outputId": "6c0c4edd-5dbc-4402-822f-8747abefcca9"
   },
   "outputs": [
    {
     "data": {
      "text/html": [
       "<div>\n",
       "<style scoped>\n",
       "    .dataframe tbody tr th:only-of-type {\n",
       "        vertical-align: middle;\n",
       "    }\n",
       "\n",
       "    .dataframe tbody tr th {\n",
       "        vertical-align: top;\n",
       "    }\n",
       "\n",
       "    .dataframe thead th {\n",
       "        text-align: right;\n",
       "    }\n",
       "</style>\n",
       "<table border=\"1\" class=\"dataframe\">\n",
       "  <thead>\n",
       "    <tr style=\"text-align: right;\">\n",
       "      <th></th>\n",
       "      <th>sepal_length</th>\n",
       "      <th>sepal_width</th>\n",
       "      <th>petal_length</th>\n",
       "      <th>petal_width</th>\n",
       "      <th>species</th>\n",
       "    </tr>\n",
       "  </thead>\n",
       "  <tbody>\n",
       "    <tr>\n",
       "      <th>0</th>\n",
       "      <td>5.1</td>\n",
       "      <td>3.5</td>\n",
       "      <td>1.4</td>\n",
       "      <td>0.2</td>\n",
       "      <td>Iris-setosa</td>\n",
       "    </tr>\n",
       "    <tr>\n",
       "      <th>1</th>\n",
       "      <td>4.9</td>\n",
       "      <td>3.0</td>\n",
       "      <td>1.4</td>\n",
       "      <td>0.2</td>\n",
       "      <td>Iris-setosa</td>\n",
       "    </tr>\n",
       "    <tr>\n",
       "      <th>2</th>\n",
       "      <td>4.7</td>\n",
       "      <td>3.2</td>\n",
       "      <td>1.3</td>\n",
       "      <td>0.2</td>\n",
       "      <td>Iris-setosa</td>\n",
       "    </tr>\n",
       "    <tr>\n",
       "      <th>3</th>\n",
       "      <td>4.6</td>\n",
       "      <td>3.1</td>\n",
       "      <td>1.5</td>\n",
       "      <td>0.2</td>\n",
       "      <td>Iris-setosa</td>\n",
       "    </tr>\n",
       "    <tr>\n",
       "      <th>4</th>\n",
       "      <td>5.0</td>\n",
       "      <td>3.6</td>\n",
       "      <td>1.4</td>\n",
       "      <td>0.2</td>\n",
       "      <td>Iris-setosa</td>\n",
       "    </tr>\n",
       "  </tbody>\n",
       "</table>\n",
       "</div>"
      ],
      "text/plain": [
       "   sepal_length  sepal_width  petal_length  petal_width      species\n",
       "0           5.1          3.5           1.4          0.2  Iris-setosa\n",
       "1           4.9          3.0           1.4          0.2  Iris-setosa\n",
       "2           4.7          3.2           1.3          0.2  Iris-setosa\n",
       "3           4.6          3.1           1.5          0.2  Iris-setosa\n",
       "4           5.0          3.6           1.4          0.2  Iris-setosa"
      ]
     },
     "execution_count": 363,
     "metadata": {},
     "output_type": "execute_result"
    }
   ],
   "source": [
    "df.head()"
   ]
  },
  {
   "cell_type": "code",
   "execution_count": null,
   "metadata": {
    "execution": {
     "iopub.execute_input": "2023-09-05T17:33:20.046219Z",
     "iopub.status.busy": "2023-09-05T17:33:20.045861Z",
     "iopub.status.idle": "2023-09-05T17:33:20.073402Z",
     "shell.execute_reply": "2023-09-05T17:33:20.072283Z",
     "shell.execute_reply.started": "2023-09-05T17:33:20.046191Z"
    },
    "id": "eNrTGS7LUZXp",
    "outputId": "7b70cdc1-38bd-48c1-cc1d-fc4718e42d1d"
   },
   "outputs": [
    {
     "data": {
      "text/html": [
       "<div>\n",
       "<style scoped>\n",
       "    .dataframe tbody tr th:only-of-type {\n",
       "        vertical-align: middle;\n",
       "    }\n",
       "\n",
       "    .dataframe tbody tr th {\n",
       "        vertical-align: top;\n",
       "    }\n",
       "\n",
       "    .dataframe thead th {\n",
       "        text-align: right;\n",
       "    }\n",
       "</style>\n",
       "<table border=\"1\" class=\"dataframe\">\n",
       "  <thead>\n",
       "    <tr style=\"text-align: right;\">\n",
       "      <th></th>\n",
       "      <th>sepal_length</th>\n",
       "      <th>sepal_width</th>\n",
       "      <th>petal_length</th>\n",
       "      <th>petal_width</th>\n",
       "    </tr>\n",
       "  </thead>\n",
       "  <tbody>\n",
       "    <tr>\n",
       "      <th>count</th>\n",
       "      <td>127.00000</td>\n",
       "      <td>127.000000</td>\n",
       "      <td>127.000000</td>\n",
       "      <td>127.000000</td>\n",
       "    </tr>\n",
       "    <tr>\n",
       "      <th>mean</th>\n",
       "      <td>5.81811</td>\n",
       "      <td>3.052756</td>\n",
       "      <td>3.699213</td>\n",
       "      <td>1.164567</td>\n",
       "    </tr>\n",
       "    <tr>\n",
       "      <th>std</th>\n",
       "      <td>0.83594</td>\n",
       "      <td>0.448069</td>\n",
       "      <td>1.802357</td>\n",
       "      <td>0.765893</td>\n",
       "    </tr>\n",
       "    <tr>\n",
       "      <th>min</th>\n",
       "      <td>4.30000</td>\n",
       "      <td>2.000000</td>\n",
       "      <td>1.000000</td>\n",
       "      <td>0.100000</td>\n",
       "    </tr>\n",
       "    <tr>\n",
       "      <th>25%</th>\n",
       "      <td>5.10000</td>\n",
       "      <td>2.800000</td>\n",
       "      <td>1.500000</td>\n",
       "      <td>0.300000</td>\n",
       "    </tr>\n",
       "    <tr>\n",
       "      <th>50%</th>\n",
       "      <td>5.70000</td>\n",
       "      <td>3.000000</td>\n",
       "      <td>4.200000</td>\n",
       "      <td>1.300000</td>\n",
       "    </tr>\n",
       "    <tr>\n",
       "      <th>75%</th>\n",
       "      <td>6.35000</td>\n",
       "      <td>3.400000</td>\n",
       "      <td>5.100000</td>\n",
       "      <td>1.800000</td>\n",
       "    </tr>\n",
       "    <tr>\n",
       "      <th>max</th>\n",
       "      <td>7.90000</td>\n",
       "      <td>4.400000</td>\n",
       "      <td>6.900000</td>\n",
       "      <td>2.500000</td>\n",
       "    </tr>\n",
       "  </tbody>\n",
       "</table>\n",
       "</div>"
      ],
      "text/plain": [
       "       sepal_length  sepal_width  petal_length  petal_width\n",
       "count     127.00000   127.000000    127.000000   127.000000\n",
       "mean        5.81811     3.052756      3.699213     1.164567\n",
       "std         0.83594     0.448069      1.802357     0.765893\n",
       "min         4.30000     2.000000      1.000000     0.100000\n",
       "25%         5.10000     2.800000      1.500000     0.300000\n",
       "50%         5.70000     3.000000      4.200000     1.300000\n",
       "75%         6.35000     3.400000      5.100000     1.800000\n",
       "max         7.90000     4.400000      6.900000     2.500000"
      ]
     },
     "execution_count": 364,
     "metadata": {},
     "output_type": "execute_result"
    }
   ],
   "source": [
    "#Analyze and visualize the data\n",
    "\n",
    "df.describe()"
   ]
  },
  {
   "cell_type": "code",
   "execution_count": null,
   "metadata": {
    "execution": {
     "iopub.execute_input": "2023-09-05T17:33:20.076116Z",
     "iopub.status.busy": "2023-09-05T17:33:20.075662Z",
     "iopub.status.idle": "2023-09-05T17:33:20.090030Z",
     "shell.execute_reply": "2023-09-05T17:33:20.089018Z",
     "shell.execute_reply.started": "2023-09-05T17:33:20.076076Z"
    },
    "id": "_5USwEx-UZXr",
    "outputId": "c6af34f8-7c4a-4ca5-82f5-7162bf78fe67"
   },
   "outputs": [
    {
     "name": "stdout",
     "output_type": "stream",
     "text": [
      "<class 'pandas.core.frame.DataFrame'>\n",
      "RangeIndex: 127 entries, 0 to 126\n",
      "Data columns (total 5 columns):\n",
      " #   Column        Non-Null Count  Dtype  \n",
      "---  ------        --------------  -----  \n",
      " 0   sepal_length  127 non-null    float64\n",
      " 1   sepal_width   127 non-null    float64\n",
      " 2   petal_length  127 non-null    float64\n",
      " 3   petal_width   127 non-null    float64\n",
      " 4   species       127 non-null    object \n",
      "dtypes: float64(4), object(1)\n",
      "memory usage: 5.1+ KB\n"
     ]
    }
   ],
   "source": [
    "df.info()"
   ]
  },
  {
   "cell_type": "code",
   "execution_count": null,
   "metadata": {
    "execution": {
     "iopub.execute_input": "2023-09-05T17:33:20.128420Z",
     "iopub.status.busy": "2023-09-05T17:33:20.127423Z",
     "iopub.status.idle": "2023-09-05T17:33:20.841035Z",
     "shell.execute_reply": "2023-09-05T17:33:20.840222Z",
     "shell.execute_reply.started": "2023-09-05T17:33:20.128383Z"
    },
    "id": "1WM5x5khUZXs",
    "outputId": "bd5d9e28-9a47-462b-e709-583eca9a85c3"
   },
   "outputs": [
    {
     "data": {
      "text/plain": [
       "array([[<Axes: title={'center': 'sepal_length'}>,\n",
       "        <Axes: title={'center': 'sepal_width'}>],\n",
       "       [<Axes: title={'center': 'petal_length'}>,\n",
       "        <Axes: title={'center': 'petal_width'}>]], dtype=object)"
      ]
     },
     "execution_count": 366,
     "metadata": {},
     "output_type": "execute_result"
    },
    {
     "data": {
      "image/png": "[encoded data removed]",
      "text/plain": [
       "<Figure size 640x480 with 4 Axes>"
      ]
     },
     "metadata": {},
     "output_type": "display_data"
    }
   ],
   "source": [
    "df.hist()"
   ]
  },
  {
   "cell_type": "code",
   "execution_count": null,
   "metadata": {
    "execution": {
     "iopub.execute_input": "2023-09-05T17:33:20.843518Z",
     "iopub.status.busy": "2023-09-05T17:33:20.842574Z",
     "iopub.status.idle": "2023-09-05T17:33:20.860709Z",
     "shell.execute_reply": "2023-09-05T17:33:20.859383Z",
     "shell.execute_reply.started": "2023-09-05T17:33:20.843454Z"
    },
    "id": "r85iEYCYUZXt",
    "outputId": "19933f2b-ed16-46fb-e7a7-344d3a53b4ab"
   },
   "outputs": [
    {
     "data": {
      "text/html": [
       "<div>\n",
       "<style scoped>\n",
       "    .dataframe tbody tr th:only-of-type {\n",
       "        vertical-align: middle;\n",
       "    }\n",
       "\n",
       "    .dataframe tbody tr th {\n",
       "        vertical-align: top;\n",
       "    }\n",
       "\n",
       "    .dataframe thead th {\n",
       "        text-align: right;\n",
       "    }\n",
       "</style>\n",
       "<table border=\"1\" class=\"dataframe\">\n",
       "  <thead>\n",
       "    <tr style=\"text-align: right;\">\n",
       "      <th></th>\n",
       "      <th>sepal_length</th>\n",
       "      <th>sepal_width</th>\n",
       "      <th>petal_length</th>\n",
       "      <th>petal_width</th>\n",
       "      <th>species</th>\n",
       "    </tr>\n",
       "  </thead>\n",
       "  <tbody>\n",
       "    <tr>\n",
       "      <th>0</th>\n",
       "      <td>-0.862447</td>\n",
       "      <td>1.002111</td>\n",
       "      <td>-1.280722</td>\n",
       "      <td>-1.26439</td>\n",
       "      <td>Iris-setosa</td>\n",
       "    </tr>\n",
       "    <tr>\n",
       "      <th>1</th>\n",
       "      <td>-1.102646</td>\n",
       "      <td>-0.118207</td>\n",
       "      <td>-1.280722</td>\n",
       "      <td>-1.26439</td>\n",
       "      <td>Iris-setosa</td>\n",
       "    </tr>\n",
       "    <tr>\n",
       "      <th>2</th>\n",
       "      <td>-1.342845</td>\n",
       "      <td>0.329920</td>\n",
       "      <td>-1.336425</td>\n",
       "      <td>-1.26439</td>\n",
       "      <td>Iris-setosa</td>\n",
       "    </tr>\n",
       "    <tr>\n",
       "      <th>3</th>\n",
       "      <td>-1.462945</td>\n",
       "      <td>0.105857</td>\n",
       "      <td>-1.225019</td>\n",
       "      <td>-1.26439</td>\n",
       "      <td>Iris-setosa</td>\n",
       "    </tr>\n",
       "    <tr>\n",
       "      <th>4</th>\n",
       "      <td>-0.982546</td>\n",
       "      <td>1.226175</td>\n",
       "      <td>-1.280722</td>\n",
       "      <td>-1.26439</td>\n",
       "      <td>Iris-setosa</td>\n",
       "    </tr>\n",
       "  </tbody>\n",
       "</table>\n",
       "</div>"
      ],
      "text/plain": [
       "   sepal_length  sepal_width  petal_length  petal_width      species\n",
       "0     -0.862447     1.002111     -1.280722     -1.26439  Iris-setosa\n",
       "1     -1.102646    -0.118207     -1.280722     -1.26439  Iris-setosa\n",
       "2     -1.342845     0.329920     -1.336425     -1.26439  Iris-setosa\n",
       "3     -1.462945     0.105857     -1.225019     -1.26439  Iris-setosa\n",
       "4     -0.982546     1.226175     -1.280722     -1.26439  Iris-setosa"
      ]
     },
     "execution_count": 367,
     "metadata": {},
     "output_type": "execute_result"
    }
   ],
   "source": [
    "from sklearn.preprocessing import StandardScaler\n",
    "df_s = df.copy()\n",
    "std_scaler = StandardScaler()\n",
    "df_s.iloc[:, [0, 1, 2, 3]] = std_scaler.fit_transform(df_s.iloc[:, [0, 1, 2, 3]])\n",
    "df_s.head()"
   ]
  },
  {
   "cell_type": "code",
   "execution_count": null,
   "metadata": {
    "execution": {
     "iopub.execute_input": "2023-09-05T17:33:20.862780Z",
     "iopub.status.busy": "2023-09-05T17:33:20.862402Z",
     "iopub.status.idle": "2023-09-05T17:33:20.889899Z",
     "shell.execute_reply": "2023-09-05T17:33:20.888733Z",
     "shell.execute_reply.started": "2023-09-05T17:33:20.862750Z"
    },
    "id": "6FdDxfs0UZXv",
    "outputId": "91d269cf-a3d3-4b71-bebb-f8fd65f4cd6a"
   },
   "outputs": [
    {
     "data": {
      "text/html": [
       "<div>\n",
       "<style scoped>\n",
       "    .dataframe tbody tr th:only-of-type {\n",
       "        vertical-align: middle;\n",
       "    }\n",
       "\n",
       "    .dataframe tbody tr th {\n",
       "        vertical-align: top;\n",
       "    }\n",
       "\n",
       "    .dataframe thead th {\n",
       "        text-align: right;\n",
       "    }\n",
       "</style>\n",
       "<table border=\"1\" class=\"dataframe\">\n",
       "  <thead>\n",
       "    <tr style=\"text-align: right;\">\n",
       "      <th></th>\n",
       "      <th>sepal_length</th>\n",
       "      <th>sepal_width</th>\n",
       "      <th>petal_length</th>\n",
       "      <th>petal_width</th>\n",
       "      <th>species</th>\n",
       "    </tr>\n",
       "  </thead>\n",
       "  <tbody>\n",
       "    <tr>\n",
       "      <th>0</th>\n",
       "      <td>0.222222</td>\n",
       "      <td>0.625000</td>\n",
       "      <td>0.067797</td>\n",
       "      <td>0.041667</td>\n",
       "      <td>Iris-setosa</td>\n",
       "    </tr>\n",
       "    <tr>\n",
       "      <th>1</th>\n",
       "      <td>0.166667</td>\n",
       "      <td>0.416667</td>\n",
       "      <td>0.067797</td>\n",
       "      <td>0.041667</td>\n",
       "      <td>Iris-setosa</td>\n",
       "    </tr>\n",
       "    <tr>\n",
       "      <th>2</th>\n",
       "      <td>0.111111</td>\n",
       "      <td>0.500000</td>\n",
       "      <td>0.050847</td>\n",
       "      <td>0.041667</td>\n",
       "      <td>Iris-setosa</td>\n",
       "    </tr>\n",
       "    <tr>\n",
       "      <th>3</th>\n",
       "      <td>0.083333</td>\n",
       "      <td>0.458333</td>\n",
       "      <td>0.084746</td>\n",
       "      <td>0.041667</td>\n",
       "      <td>Iris-setosa</td>\n",
       "    </tr>\n",
       "    <tr>\n",
       "      <th>4</th>\n",
       "      <td>0.194444</td>\n",
       "      <td>0.666667</td>\n",
       "      <td>0.067797</td>\n",
       "      <td>0.041667</td>\n",
       "      <td>Iris-setosa</td>\n",
       "    </tr>\n",
       "  </tbody>\n",
       "</table>\n",
       "</div>"
      ],
      "text/plain": [
       "   sepal_length  sepal_width  petal_length  petal_width      species\n",
       "0      0.222222     0.625000      0.067797     0.041667  Iris-setosa\n",
       "1      0.166667     0.416667      0.067797     0.041667  Iris-setosa\n",
       "2      0.111111     0.500000      0.050847     0.041667  Iris-setosa\n",
       "3      0.083333     0.458333      0.084746     0.041667  Iris-setosa\n",
       "4      0.194444     0.666667      0.067797     0.041667  Iris-setosa"
      ]
     },
     "execution_count": 368,
     "metadata": {},
     "output_type": "execute_result"
    }
   ],
   "source": [
    "from sklearn.preprocessing import MinMaxScaler\n",
    "df_n = df.copy()\n",
    "min_max_scaler = MinMaxScaler()\n",
    "df_n.iloc[:, [0, 1, 2, 3]] = min_max_scaler.fit_transform(df_n.iloc[:, [0, 1, 2, 3]])\n",
    "df_n.head()"
   ]
  },
  {
   "cell_type": "code",
   "execution_count": null,
   "metadata": {
    "execution": {
     "iopub.execute_input": "2023-09-05T17:33:20.892656Z",
     "iopub.status.busy": "2023-09-05T17:33:20.892311Z",
     "iopub.status.idle": "2023-09-05T17:33:20.904488Z",
     "shell.execute_reply": "2023-09-05T17:33:20.903496Z",
     "shell.execute_reply.started": "2023-09-05T17:33:20.892629Z"
    },
    "id": "yG7Vc9M8UZXx",
    "outputId": "9453fb2a-2932-4187-a8ac-7b67dfc6bdd0"
   },
   "outputs": [
    {
     "data": {
      "text/plain": [
       "sepal_length    0\n",
       "sepal_width     0\n",
       "petal_length    0\n",
       "petal_width     0\n",
       "species         0\n",
       "dtype: int64"
      ]
     },
     "execution_count": 369,
     "metadata": {},
     "output_type": "execute_result"
    }
   ],
   "source": [
    "df.isnull().sum()"
   ]
  },
  {
   "cell_type": "code",
   "execution_count": null,
   "metadata": {
    "execution": {
     "iopub.execute_input": "2023-09-05T17:33:20.907047Z",
     "iopub.status.busy": "2023-09-05T17:33:20.906141Z",
     "iopub.status.idle": "2023-09-05T17:33:21.226264Z",
     "shell.execute_reply": "2023-09-05T17:33:21.225127Z",
     "shell.execute_reply.started": "2023-09-05T17:33:20.907013Z"
    },
    "id": "zIqBn5jNUZX0",
    "outputId": "7dd07d27-1c68-4f8f-c627-9817f5c9c472"
   },
   "outputs": [
    {
     "data": {
      "text/plain": [
       "<Axes: xlabel='sepal_length', ylabel='Density'>"
      ]
     },
     "execution_count": 370,
     "metadata": {},
     "output_type": "execute_result"
    },
    {
     "data": {
      "image/png": "[encoded data removed]",
      "text/plain": [
       "<Figure size 640x480 with 1 Axes>"
      ]
     },
     "metadata": {},
     "output_type": "display_data"
    }
   ],
   "source": [
    "sns.distplot(df[\"sepal_length\"])"
   ]
  },
  {
   "cell_type": "code",
   "execution_count": null,
   "metadata": {
    "execution": {
     "iopub.execute_input": "2023-09-05T17:33:21.228345Z",
     "iopub.status.busy": "2023-09-05T17:33:21.227859Z",
     "iopub.status.idle": "2023-09-05T17:33:21.563989Z",
     "shell.execute_reply": "2023-09-05T17:33:21.562897Z",
     "shell.execute_reply.started": "2023-09-05T17:33:21.228303Z"
    },
    "id": "sMKJtYsjUZX1",
    "outputId": "780aa1a1-c90b-494c-e688-3073a256dfa3"
   },
   "outputs": [
    {
     "data": {
      "text/plain": [
       "<Axes: xlabel='sepal_width', ylabel='Density'>"
      ]
     },
     "execution_count": 371,
     "metadata": {},
     "output_type": "execute_result"
    },
    {
     "data": {
      "image/png": "[encoded data removed]",
      "text/plain": [
       "<Figure size 640x480 with 1 Axes>"
      ]
     },
     "metadata": {},
     "output_type": "display_data"
    }
   ],
   "source": [
    "sns.distplot(df[\"sepal_width\"])"
   ]
  },
  {
   "cell_type": "code",
   "execution_count": null,
   "metadata": {
    "execution": {
     "iopub.execute_input": "2023-09-05T17:33:21.565656Z",
     "iopub.status.busy": "2023-09-05T17:33:21.565331Z",
     "iopub.status.idle": "2023-09-05T17:33:21.865577Z",
     "shell.execute_reply": "2023-09-05T17:33:21.864599Z",
     "shell.execute_reply.started": "2023-09-05T17:33:21.565627Z"
    },
    "id": "9VCGbkS1UZX2",
    "outputId": "87e550aa-8bab-4f03-84f9-4eae748515c5"
   },
   "outputs": [
    {
     "data": {
      "text/plain": [
       "<Axes: xlabel='petal_length', ylabel='Density'>"
      ]
     },
     "execution_count": 372,
     "metadata": {},
     "output_type": "execute_result"
    },
    {
     "data": {
      "image/png": "[encoded data removed]",
      "text/plain": [
       "<Figure size 640x480 with 1 Axes>"
      ]
     },
     "metadata": {},
     "output_type": "display_data"
    }
   ],
   "source": [
    "sns.distplot(df[\"petal_length\"])"
   ]
  },
  {
   "cell_type": "code",
   "execution_count": null,
   "metadata": {
    "execution": {
     "iopub.execute_input": "2023-09-05T17:33:21.867806Z",
     "iopub.status.busy": "2023-09-05T17:33:21.866817Z",
     "iopub.status.idle": "2023-09-05T17:33:22.168982Z",
     "shell.execute_reply": "2023-09-05T17:33:22.167785Z",
     "shell.execute_reply.started": "2023-09-05T17:33:21.867764Z"
    },
    "id": "uAyA4_LxUZX3",
    "outputId": "254b3b59-8d02-44e6-88ea-81b18a42557e"
   },
   "outputs": [
    {
     "data": {
      "text/plain": [
       "<Axes: xlabel='petal_width', ylabel='Density'>"
      ]
     },
     "execution_count": 373,
     "metadata": {},
     "output_type": "execute_result"
    },
    {
     "data": {
      "image/png": "[encoded data removed]",
      "text/plain": [
       "<Figure size 640x480 with 1 Axes>"
      ]
     },
     "metadata": {},
     "output_type": "display_data"
    }
   ],
   "source": [
    "sns.distplot(df[\"petal_width\"])"
   ]
  },
  {
   "cell_type": "code",
   "execution_count": null,
   "metadata": {
    "execution": {
     "iopub.execute_input": "2023-09-05T17:33:22.171884Z",
     "iopub.status.busy": "2023-09-05T17:33:22.170658Z",
     "iopub.status.idle": "2023-09-05T17:33:22.178911Z",
     "shell.execute_reply": "2023-09-05T17:33:22.177843Z",
     "shell.execute_reply.started": "2023-09-05T17:33:22.171839Z"
    },
    "id": "_k1rBlknUZX3"
   },
   "outputs": [],
   "source": [
    "from sklearn.preprocessing import LabelEncoder\n",
    "c1 = ['species' ]\n",
    "L = LabelEncoder()\n",
    "for i in c1:\n",
    "    df[i] = L.fit_transform(df[i])"
   ]
  },
  {
   "cell_type": "code",
   "execution_count": null,
   "metadata": {
    "execution": {
     "iopub.execute_input": "2023-09-05T17:33:22.183171Z",
     "iopub.status.busy": "2023-09-05T17:33:22.182780Z",
     "iopub.status.idle": "2023-09-05T17:33:22.191973Z",
     "shell.execute_reply": "2023-09-05T17:33:22.190755Z",
     "shell.execute_reply.started": "2023-09-05T17:33:22.183127Z"
    },
    "id": "hL8_tsQTUZX4"
   },
   "outputs": [],
   "source": [
    "col=['sepal_length','sepal_width','petal_length','petal_width']"
   ]
  },
  {
   "cell_type": "code",
   "execution_count": null,
   "metadata": {
    "execution": {
     "iopub.execute_input": "2023-09-05T17:33:22.194174Z",
     "iopub.status.busy": "2023-09-05T17:33:22.193690Z",
     "iopub.status.idle": "2023-09-05T17:33:22.461176Z",
     "shell.execute_reply": "2023-09-05T17:33:22.460362Z",
     "shell.execute_reply.started": "2023-09-05T17:33:22.194140Z"
    },
    "id": "GzHmnm96UZX4",
    "outputId": "00e1df2c-fc72-432c-a480-ca5f1dc4233d"
   },
   "outputs": [
    {
     "data": {
      "text/plain": [
       "<Axes: >"
      ]
     },
     "execution_count": 376,
     "metadata": {},
     "output_type": "execute_result"
    },
    {
     "data": {
      "image/png": "[encoded data removed]",
      "text/plain": [
       "<Figure size 640x480 with 1 Axes>"
      ]
     },
     "metadata": {},
     "output_type": "display_data"
    }
   ],
   "source": [
    "df.boxplot(col)\n"
   ]
  },
  {
   "cell_type": "code",
   "execution_count": null,
   "metadata": {
    "execution": {
     "iopub.execute_input": "2023-09-05T17:33:22.463053Z",
     "iopub.status.busy": "2023-09-05T17:33:22.462200Z",
     "iopub.status.idle": "2023-09-05T17:33:22.633081Z",
     "shell.execute_reply": "2023-09-05T17:33:22.632007Z",
     "shell.execute_reply.started": "2023-09-05T17:33:22.463023Z"
    },
    "id": "N0MeqCeqUZX6",
    "outputId": "4ad3040c-5d1d-444f-e0a8-1171d6f84733"
   },
   "outputs": [
    {
     "data": {
      "image/png": "[encoded data removed]",
      "text/plain": [
       "<Figure size 640x480 with 1 Axes>"
      ]
     },
     "metadata": {},
     "output_type": "display_data"
    }
   ],
   "source": [
    "sns.boxplot(x='sepal_width' ,data=df)\n",
    "plt.show()"
   ]
  },
  {
   "cell_type": "code",
   "execution_count": null,
   "metadata": {
    "execution": {
     "iopub.execute_input": "2023-09-05T17:33:22.635141Z",
     "iopub.status.busy": "2023-09-05T17:33:22.634579Z",
     "iopub.status.idle": "2023-09-05T17:33:22.647810Z",
     "shell.execute_reply": "2023-09-05T17:33:22.646991Z",
     "shell.execute_reply.started": "2023-09-05T17:33:22.635110Z"
    },
    "id": "BsW4pKrpUZX8",
    "outputId": "4e17be59-ec77-4d7e-b48a-0c53b1de54c1"
   },
   "outputs": [
    {
     "name": "stdout",
     "output_type": "stream",
     "text": [
      "The value of q1 :  2.8\n",
      "The value of q3 :  3.4\n"
     ]
    }
   ],
   "source": [
    "#Remove outliers\n",
    "\n",
    "q1=df['sepal_width'].quantile(0.25)\n",
    "q3=df['sepal_width'].quantile(0.75)\n",
    "\n",
    "print(\"The value of q1 : \",q1)\n",
    "print(\"The value of q3 : \",q3)"
   ]
  },
  {
   "cell_type": "code",
   "execution_count": null,
   "metadata": {
    "execution": {
     "iopub.execute_input": "2023-09-05T17:33:22.649553Z",
     "iopub.status.busy": "2023-09-05T17:33:22.649224Z",
     "iopub.status.idle": "2023-09-05T17:33:22.656948Z",
     "shell.execute_reply": "2023-09-05T17:33:22.656068Z",
     "shell.execute_reply.started": "2023-09-05T17:33:22.649526Z"
    },
    "id": "WQS6I1jAUZX9",
    "outputId": "bde5cae4-45f2-45b3-e1d1-814f3ae81185"
   },
   "outputs": [
    {
     "name": "stdout",
     "output_type": "stream",
     "text": [
      "iqr :  0.6000000000000001\n"
     ]
    }
   ],
   "source": [
    "iqr = q3 - q1\n",
    "print(\"iqr : \",iqr)"
   ]
  },
  {
   "cell_type": "code",
   "execution_count": null,
   "metadata": {
    "execution": {
     "iopub.execute_input": "2023-09-05T17:33:22.659039Z",
     "iopub.status.busy": "2023-09-05T17:33:22.658432Z",
     "iopub.status.idle": "2023-09-05T17:33:22.671844Z",
     "shell.execute_reply": "2023-09-05T17:33:22.670786Z",
     "shell.execute_reply.started": "2023-09-05T17:33:22.659010Z"
    },
    "id": "jugU9kDBUZX-",
    "outputId": "54fdeef4-8c64-4094-9f0b-506d7df9c8c9"
   },
   "outputs": [
    {
     "name": "stdout",
     "output_type": "stream",
     "text": [
      "The value of upper bound is :  2\n",
      "The value of lower bound is :  4\n"
     ]
    }
   ],
   "source": [
    "upper=q1-1.5*iqr\n",
    "lower=q3+1.5*iqr\n",
    "\n",
    "print(\"The value of upper bound is : \",round(upper))\n",
    "print(\"The value of lower bound is : \",round(lower))"
   ]
  },
  {
   "cell_type": "code",
   "execution_count": null,
   "metadata": {
    "execution": {
     "iopub.execute_input": "2023-09-05T17:33:22.674094Z",
     "iopub.status.busy": "2023-09-05T17:33:22.673589Z",
     "iopub.status.idle": "2023-09-05T17:33:22.686410Z",
     "shell.execute_reply": "2023-09-05T17:33:22.685351Z",
     "shell.execute_reply.started": "2023-09-05T17:33:22.674055Z"
    },
    "id": "ra2RmIOgUZX-",
    "outputId": "5efef74f-5777-42ac-ce3c-077b122382c2"
   },
   "outputs": [
    {
     "name": "stdout",
     "output_type": "stream",
     "text": [
      "Number of records befor outliers :  127\n"
     ]
    }
   ],
   "source": [
    "old_len=len(df)\n",
    "print(\"Number of records befor outliers : \",old_len)"
   ]
  },
  {
   "cell_type": "code",
   "execution_count": null,
   "metadata": {
    "execution": {
     "iopub.execute_input": "2023-09-05T17:33:22.687995Z",
     "iopub.status.busy": "2023-09-05T17:33:22.687619Z",
     "iopub.status.idle": "2023-09-05T17:33:22.713984Z",
     "shell.execute_reply": "2023-09-05T17:33:22.712766Z",
     "shell.execute_reply.started": "2023-09-05T17:33:22.687951Z"
    },
    "id": "Uf2mCrxBUZX_",
    "outputId": "63332e70-3586-47ab-e077-0f2a8c54d019"
   },
   "outputs": [
    {
     "data": {
      "text/html": [
       "<div>\n",
       "<style scoped>\n",
       "    .dataframe tbody tr th:only-of-type {\n",
       "        vertical-align: middle;\n",
       "    }\n",
       "\n",
       "    .dataframe tbody tr th {\n",
       "        vertical-align: top;\n",
       "    }\n",
       "\n",
       "    .dataframe thead th {\n",
       "        text-align: right;\n",
       "    }\n",
       "</style>\n",
       "<table border=\"1\" class=\"dataframe\">\n",
       "  <thead>\n",
       "    <tr style=\"text-align: right;\">\n",
       "      <th></th>\n",
       "      <th>sepal_length</th>\n",
       "      <th>sepal_width</th>\n",
       "      <th>petal_length</th>\n",
       "      <th>petal_width</th>\n",
       "      <th>species</th>\n",
       "    </tr>\n",
       "  </thead>\n",
       "  <tbody>\n",
       "    <tr>\n",
       "      <th>0</th>\n",
       "      <td>5.1</td>\n",
       "      <td>3.5</td>\n",
       "      <td>1.4</td>\n",
       "      <td>0.2</td>\n",
       "      <td>0</td>\n",
       "    </tr>\n",
       "    <tr>\n",
       "      <th>1</th>\n",
       "      <td>4.9</td>\n",
       "      <td>3.0</td>\n",
       "      <td>1.4</td>\n",
       "      <td>0.2</td>\n",
       "      <td>0</td>\n",
       "    </tr>\n",
       "    <tr>\n",
       "      <th>2</th>\n",
       "      <td>4.7</td>\n",
       "      <td>3.2</td>\n",
       "      <td>1.3</td>\n",
       "      <td>0.2</td>\n",
       "      <td>0</td>\n",
       "    </tr>\n",
       "    <tr>\n",
       "      <th>3</th>\n",
       "      <td>4.6</td>\n",
       "      <td>3.1</td>\n",
       "      <td>1.5</td>\n",
       "      <td>0.2</td>\n",
       "      <td>0</td>\n",
       "    </tr>\n",
       "    <tr>\n",
       "      <th>4</th>\n",
       "      <td>5.0</td>\n",
       "      <td>3.6</td>\n",
       "      <td>1.4</td>\n",
       "      <td>0.2</td>\n",
       "      <td>0</td>\n",
       "    </tr>\n",
       "    <tr>\n",
       "      <th>...</th>\n",
       "      <td>...</td>\n",
       "      <td>...</td>\n",
       "      <td>...</td>\n",
       "      <td>...</td>\n",
       "      <td>...</td>\n",
       "    </tr>\n",
       "    <tr>\n",
       "      <th>122</th>\n",
       "      <td>6.7</td>\n",
       "      <td>3.0</td>\n",
       "      <td>5.2</td>\n",
       "      <td>2.3</td>\n",
       "      <td>2</td>\n",
       "    </tr>\n",
       "    <tr>\n",
       "      <th>123</th>\n",
       "      <td>6.3</td>\n",
       "      <td>2.5</td>\n",
       "      <td>5.0</td>\n",
       "      <td>1.9</td>\n",
       "      <td>2</td>\n",
       "    </tr>\n",
       "    <tr>\n",
       "      <th>124</th>\n",
       "      <td>6.5</td>\n",
       "      <td>3.0</td>\n",
       "      <td>5.2</td>\n",
       "      <td>2.0</td>\n",
       "      <td>2</td>\n",
       "    </tr>\n",
       "    <tr>\n",
       "      <th>125</th>\n",
       "      <td>6.2</td>\n",
       "      <td>3.4</td>\n",
       "      <td>5.4</td>\n",
       "      <td>2.3</td>\n",
       "      <td>2</td>\n",
       "    </tr>\n",
       "    <tr>\n",
       "      <th>126</th>\n",
       "      <td>5.9</td>\n",
       "      <td>3.0</td>\n",
       "      <td>5.1</td>\n",
       "      <td>1.8</td>\n",
       "      <td>2</td>\n",
       "    </tr>\n",
       "  </tbody>\n",
       "</table>\n",
       "<p>126 rows × 5 columns</p>\n",
       "</div>"
      ],
      "text/plain": [
       "     sepal_length  sepal_width  petal_length  petal_width  species\n",
       "0             5.1          3.5           1.4          0.2        0\n",
       "1             4.9          3.0           1.4          0.2        0\n",
       "2             4.7          3.2           1.3          0.2        0\n",
       "3             4.6          3.1           1.5          0.2        0\n",
       "4             5.0          3.6           1.4          0.2        0\n",
       "..            ...          ...           ...          ...      ...\n",
       "122           6.7          3.0           5.2          2.3        2\n",
       "123           6.3          2.5           5.0          1.9        2\n",
       "124           6.5          3.0           5.2          2.0        2\n",
       "125           6.2          3.4           5.4          2.3        2\n",
       "126           5.9          3.0           5.1          1.8        2\n",
       "\n",
       "[126 rows x 5 columns]"
      ]
     },
     "execution_count": 382,
     "metadata": {},
     "output_type": "execute_result"
    }
   ],
   "source": [
    "df.loc[~((df['sepal_width']<(upper)) | (df['sepal_width']>(lower)))]\n"
   ]
  },
  {
   "cell_type": "code",
   "execution_count": null,
   "metadata": {
    "execution": {
     "iopub.execute_input": "2023-09-05T17:33:22.716859Z",
     "iopub.status.busy": "2023-09-05T17:33:22.716534Z",
     "iopub.status.idle": "2023-09-05T17:33:22.728049Z",
     "shell.execute_reply": "2023-09-05T17:33:22.727006Z",
     "shell.execute_reply.started": "2023-09-05T17:33:22.716831Z"
    },
    "id": "Iugzoc_BUZYA",
    "outputId": "c2e91555-2d7d-46e1-fc65-e5b466e3eb74"
   },
   "outputs": [
    {
     "name": "stdout",
     "output_type": "stream",
     "text": [
      "Number of records befor outliers :  127\n",
      "Number of records after outliers :  126\n",
      "Outliers :  1\n"
     ]
    }
   ],
   "source": [
    "df=df.loc[~((df['sepal_width']<(upper)) | (df['sepal_width']>(lower)))]\n",
    "print(\"Number of records befor outliers : \",old_len)\n",
    "print(\"Number of records after outliers : \",len(df))\n",
    "print(\"Outliers : \",old_len-len(df))"
   ]
  },
  {
   "cell_type": "code",
   "execution_count": null,
   "metadata": {
    "execution": {
     "iopub.execute_input": "2023-09-05T17:33:22.729599Z",
     "iopub.status.busy": "2023-09-05T17:33:22.729288Z",
     "iopub.status.idle": "2023-09-05T17:33:23.004094Z",
     "shell.execute_reply": "2023-09-05T17:33:23.002955Z",
     "shell.execute_reply.started": "2023-09-05T17:33:22.729565Z"
    },
    "id": "qkhvKZfDUZYB",
    "outputId": "f81adb18-4dc6-44e8-d374-2a037a8f874e"
   },
   "outputs": [
    {
     "data": {
      "text/plain": [
       "<Axes: >"
      ]
     },
     "execution_count": 384,
     "metadata": {},
     "output_type": "execute_result"
    },
    {
     "data": {
      "image/png": "[encoded data removed]",
      "text/plain": [
       "<Figure size 640x480 with 1 Axes>"
      ]
     },
     "metadata": {},
     "output_type": "display_data"
    }
   ],
   "source": [
    "df.boxplot(col)\n"
   ]
  },
  {
   "cell_type": "code",
   "execution_count": null,
   "metadata": {
    "execution": {
     "iopub.execute_input": "2023-09-05T17:33:23.005696Z",
     "iopub.status.busy": "2023-09-05T17:33:23.005377Z",
     "iopub.status.idle": "2023-09-05T17:33:23.169995Z",
     "shell.execute_reply": "2023-09-05T17:33:23.168840Z",
     "shell.execute_reply.started": "2023-09-05T17:33:23.005669Z"
    },
    "id": "b8ce-Nt9UZYB",
    "outputId": "c01d0b3b-ae59-48ac-d042-c2eb55df525d"
   },
   "outputs": [
    {
     "data": {
      "image/png": "[encoded data removed]",
      "text/plain": [
       "<Figure size 640x480 with 1 Axes>"
      ]
     },
     "metadata": {},
     "output_type": "display_data"
    }
   ],
   "source": [
    "sns.boxplot(x='sepal_width' ,data=df)\n",
    "plt.show()"
   ]
  },
  {
   "cell_type": "code",
   "execution_count": null,
   "metadata": {
    "execution": {
     "iopub.execute_input": "2023-09-05T17:33:23.171825Z",
     "iopub.status.busy": "2023-09-05T17:33:23.171399Z",
     "iopub.status.idle": "2023-09-05T17:33:23.552374Z",
     "shell.execute_reply": "2023-09-05T17:33:23.551354Z",
     "shell.execute_reply.started": "2023-09-05T17:33:23.171786Z"
    },
    "id": "QGdniZbuUZYC",
    "outputId": "38c7f820-8cfe-4117-e339-34df17466a10"
   },
   "outputs": [
    {
     "data": {
      "image/png": "[encoded data removed]",
      "text/plain": [
       "<Figure size 800x600 with 2 Axes>"
      ]
     },
     "metadata": {},
     "output_type": "display_data"
    }
   ],
   "source": [
    "features = df.columns\n",
    "plt.figure(figsize=[8,6])\n",
    "plt.title('Features Correlation-Plot')\n",
    "sns.heatmap(df[features].corr(), vmin=-1, vmax=1, center=0, annot=True) #,\n",
    "plt.show()"
   ]
  },
  {
   "cell_type": "code",
   "execution_count": null,
   "metadata": {
    "execution": {
     "iopub.execute_input": "2023-09-05T17:33:23.554127Z",
     "iopub.status.busy": "2023-09-05T17:33:23.553803Z",
     "iopub.status.idle": "2023-09-05T17:33:23.560396Z",
     "shell.execute_reply": "2023-09-05T17:33:23.559379Z",
     "shell.execute_reply.started": "2023-09-05T17:33:23.554101Z"
    },
    "id": "tqANWXwgUZYC"
   },
   "outputs": [],
   "source": [
    "#Separate features and target\n",
    "\n",
    "X = df.drop(columns=['species'],axis=1)\n",
    "y = df['species']"
   ]
  },
  {
   "cell_type": "code",
   "execution_count": null,
   "metadata": {
    "execution": {
     "iopub.execute_input": "2023-09-05T17:33:23.562028Z",
     "iopub.status.busy": "2023-09-05T17:33:23.561678Z",
     "iopub.status.idle": "2023-09-05T17:33:23.575245Z",
     "shell.execute_reply": "2023-09-05T17:33:23.574099Z",
     "shell.execute_reply.started": "2023-09-05T17:33:23.562000Z"
    },
    "id": "Dp1mQlfpUZYD"
   },
   "outputs": [],
   "source": [
    "#Model training\n",
    "#Split the data to train and test\n",
    "from sklearn.metrics import classification_report,accuracy_score ,auc,roc_curve ,roc_auc_score\n",
    "from sklearn.model_selection import train_test_split , GridSearchCV\n",
    "X_train , X_test , y_train, y_test = train_test_split(X , y , test_size= 0.3 , random_state = 50)"
   ]
  },
  {
   "cell_type": "code",
   "execution_count": null,
   "metadata": {
    "execution": {
     "iopub.execute_input": "2023-09-05T17:33:23.577088Z",
     "iopub.status.busy": "2023-09-05T17:33:23.576719Z",
     "iopub.status.idle": "2023-09-05T17:33:23.596930Z",
     "shell.execute_reply": "2023-09-05T17:33:23.595804Z",
     "shell.execute_reply.started": "2023-09-05T17:33:23.577050Z"
    },
    "id": "cgK-PUgLUZYD",
    "outputId": "ab0e26c8-306f-4a4b-e2e6-903cf430fc9d"
   },
   "outputs": [
    {
     "data": {
      "text/html": [
       "<style>#sk-container-id-11 {color: black;background-color: white;}#sk-container-id-11 pre{padding: 0;}#sk-container-id-11 div.sk-toggleable {background-color: white;}#sk-container-id-11 label.sk-toggleable__label {cursor: pointer;display: block;width: 100%;margin-bottom: 0;padding: 0.3em;box-sizing: border-box;text-align: center;}#sk-container-id-11 label.sk-toggleable__label-arrow:before {content: \"▸\";float: left;margin-right: 0.25em;color: #696969;}#sk-container-id-11 label.sk-toggleable__label-arrow:hover:before {color: black;}#sk-container-id-11 div.sk-estimator:hover label.sk-toggleable__label-arrow:before {color: black;}#sk-container-id-11 div.sk-toggleable__content {max-height: 0;max-width: 0;overflow: hidden;text-align: left;background-color: #f0f8ff;}#sk-container-id-11 div.sk-toggleable__content pre {margin: 0.2em;color: black;border-radius: 0.25em;background-color: #f0f8ff;}#sk-container-id-11 input.sk-toggleable__control:checked~div.sk-toggleable__content {max-height: 200px;max-width: 100%;overflow: auto;}#sk-container-id-11 input.sk-toggleable__control:checked~label.sk-toggleable__label-arrow:before {content: \"▾\";}#sk-container-id-11 div.sk-estimator input.sk-toggleable__control:checked~label.sk-toggleable__label {background-color: #d4ebff;}#sk-container-id-11 div.sk-label input.sk-toggleable__control:checked~label.sk-toggleable__label {background-color: #d4ebff;}#sk-container-id-11 input.sk-hidden--visually {border: 0;clip: rect(1px 1px 1px 1px);clip: rect(1px, 1px, 1px, 1px);height: 1px;margin: -1px;overflow: hidden;padding: 0;position: absolute;width: 1px;}#sk-container-id-11 div.sk-estimator {font-family: monospace;background-color: #f0f8ff;border: 1px dotted black;border-radius: 0.25em;box-sizing: border-box;margin-bottom: 0.5em;}#sk-container-id-11 div.sk-estimator:hover {background-color: #d4ebff;}#sk-container-id-11 div.sk-parallel-item::after {content: \"\";width: 100%;border-bottom: 1px solid gray;flex-grow: 1;}#sk-container-id-11 div.sk-label:hover label.sk-toggleable__label {background-color: #d4ebff;}#sk-container-id-11 div.sk-serial::before {content: \"\";position: absolute;border-left: 1px solid gray;box-sizing: border-box;top: 0;bottom: 0;left: 50%;z-index: 0;}#sk-container-id-11 div.sk-serial {display: flex;flex-direction: column;align-items: center;background-color: white;padding-right: 0.2em;padding-left: 0.2em;position: relative;}#sk-container-id-11 div.sk-item {position: relative;z-index: 1;}#sk-container-id-11 div.sk-parallel {display: flex;align-items: stretch;justify-content: center;background-color: white;position: relative;}#sk-container-id-11 div.sk-item::before, #sk-container-id-11 div.sk-parallel-item::before {content: \"\";position: absolute;border-left: 1px solid gray;box-sizing: border-box;top: 0;bottom: 0;left: 50%;z-index: -1;}#sk-container-id-11 div.sk-parallel-item {display: flex;flex-direction: column;z-index: 1;position: relative;background-color: white;}#sk-container-id-11 div.sk-parallel-item:first-child::after {align-self: flex-end;width: 50%;}#sk-container-id-11 div.sk-parallel-item:last-child::after {align-self: flex-start;width: 50%;}#sk-container-id-11 div.sk-parallel-item:only-child::after {width: 0;}#sk-container-id-11 div.sk-dashed-wrapped {border: 1px dashed gray;margin: 0 0.4em 0.5em 0.4em;box-sizing: border-box;padding-bottom: 0.4em;background-color: white;}#sk-container-id-11 div.sk-label label {font-family: monospace;font-weight: bold;display: inline-block;line-height: 1.2em;}#sk-container-id-11 div.sk-label-container {text-align: center;}#sk-container-id-11 div.sk-container {/* jupyter's `normalize.less` sets `[hidden] { display: none; }` but bootstrap.min.css set `[hidden] { display: none !important; }` so we also need the `!important` here to be able to override the default hidden behavior on the sphinx rendered scikit-learn.org. See: https://github.com/scikit-learn/scikit-learn/issues/21755 */display: inline-block !important;position: relative;}#sk-container-id-11 div.sk-text-repr-fallback {display: none;}</style><div id=\"sk-container-id-11\" class=\"sk-top-container\"><div class=\"sk-text-repr-fallback\"><pre>SVC(C=10)</pre><b>In a Jupyter environment, please rerun this cell to show the HTML representation or trust the notebook. <br />On GitHub, the HTML representation is unable to render, please try loading this page with nbviewer.org.</b></div><div class=\"sk-container\" hidden><div class=\"sk-item\"><div class=\"sk-estimator sk-toggleable\"><input class=\"sk-toggleable__control sk-hidden--visually\" id=\"sk-estimator-id-21\" type=\"checkbox\" checked><label for=\"sk-estimator-id-21\" class=\"sk-toggleable__label sk-toggleable__label-arrow\">SVC</label><div class=\"sk-toggleable__content\"><pre>SVC(C=10)</pre></div></div></div></div></div>"
      ],
      "text/plain": [
       "SVC(C=10)"
      ]
     },
     "execution_count": 389,
     "metadata": {},
     "output_type": "execute_result"
    }
   ],
   "source": [
    "#Support vector machine algorithm\n",
    "\n",
    "from sklearn.svm import SVC\n",
    "SV = SVC(C=10,kernel='rbf')\n",
    "SV.fit(X_train,y_train)"
   ]
  },
  {
   "cell_type": "code",
   "execution_count": null,
   "metadata": {
    "execution": {
     "iopub.execute_input": "2023-09-05T17:33:23.598594Z",
     "iopub.status.busy": "2023-09-05T17:33:23.598283Z",
     "iopub.status.idle": "2023-09-05T17:33:23.608712Z",
     "shell.execute_reply": "2023-09-05T17:33:23.607537Z",
     "shell.execute_reply.started": "2023-09-05T17:33:23.598566Z"
    },
    "id": "r7QbQljsUZYE",
    "outputId": "69a59c40-e694-4c84-b3ab-8145d4bbbef9"
   },
   "outputs": [
    {
     "name": "stdout",
     "output_type": "stream",
     "text": [
      "[0 0 0 0 1 1 0 2 1 2 1 0 1 0 0 2 2 1 0 1 0 0 2 0 0 1 1 1 2 2 0 0 2 2 0 2 1\n",
      " 1]\n"
     ]
    }
   ],
   "source": [
    "#Model evaluation\n",
    "\n",
    "y_pred=SV.predict(X_test)\n",
    "print(y_pred)"
   ]
  },
  {
   "cell_type": "code",
   "execution_count": null,
   "metadata": {
    "execution": {
     "iopub.execute_input": "2023-09-05T17:33:23.611076Z",
     "iopub.status.busy": "2023-09-05T17:33:23.610643Z",
     "iopub.status.idle": "2023-09-05T17:33:23.623635Z",
     "shell.execute_reply": "2023-09-05T17:33:23.622490Z",
     "shell.execute_reply.started": "2023-09-05T17:33:23.611036Z"
    },
    "id": "bMYMvoxRUZYF",
    "outputId": "0391de4d-7400-440c-acd9-68275489c505"
   },
   "outputs": [
    {
     "data": {
      "text/plain": [
       "0.9772727272727273"
      ]
     },
     "execution_count": 391,
     "metadata": {},
     "output_type": "execute_result"
    }
   ],
   "source": [
    "SV.score(X_train,y_train)"
   ]
  },
  {
   "cell_type": "code",
   "execution_count": null,
   "metadata": {
    "execution": {
     "iopub.execute_input": "2023-09-05T17:33:23.625633Z",
     "iopub.status.busy": "2023-09-05T17:33:23.624929Z",
     "iopub.status.idle": "2023-09-05T17:33:23.639307Z",
     "shell.execute_reply": "2023-09-05T17:33:23.638540Z",
     "shell.execute_reply.started": "2023-09-05T17:33:23.625604Z"
    },
    "id": "KfFlG0jYUZYG",
    "outputId": "d0a5b82e-8cf1-4996-b2c3-d590a4d3956e"
   },
   "outputs": [
    {
     "data": {
      "text/plain": [
       "1.0"
      ]
     },
     "execution_count": 392,
     "metadata": {},
     "output_type": "execute_result"
    }
   ],
   "source": [
    "SV.score(X_test,y_test)"
   ]
  },
  {
   "cell_type": "code",
   "execution_count": null,
   "metadata": {
    "execution": {
     "iopub.execute_input": "2023-09-05T17:33:23.645166Z",
     "iopub.status.busy": "2023-09-05T17:33:23.644180Z",
     "iopub.status.idle": "2023-09-05T17:33:23.654454Z",
     "shell.execute_reply": "2023-09-05T17:33:23.653250Z",
     "shell.execute_reply.started": "2023-09-05T17:33:23.645135Z"
    },
    "id": "VWX4yyNbUZYH",
    "outputId": "23c8dda9-b694-43c5-f76c-b7f68463d677"
   },
   "outputs": [
    {
     "name": "stdout",
     "output_type": "stream",
     "text": [
      "1.0\n"
     ]
    }
   ],
   "source": [
    "acc=accuracy_score(y_test,y_pred)\n",
    "print(acc)"
   ]
  },
  {
   "cell_type": "code",
   "execution_count": null,
   "metadata": {
    "execution": {
     "iopub.execute_input": "2023-09-05T17:33:23.656344Z",
     "iopub.status.busy": "2023-09-05T17:33:23.655853Z",
     "iopub.status.idle": "2023-09-05T17:33:23.671478Z",
     "shell.execute_reply": "2023-09-05T17:33:23.670404Z",
     "shell.execute_reply.started": "2023-09-05T17:33:23.656307Z"
    },
    "id": "astP0I6JUZYI",
    "outputId": "92ecab6a-02b1-4b7b-84fc-148860a14d30"
   },
   "outputs": [
    {
     "name": "stdout",
     "output_type": "stream",
     "text": [
      "              precision    recall  f1-score   support\n",
      "\n",
      "           0       1.00      1.00      1.00        16\n",
      "           1       1.00      1.00      1.00        12\n",
      "           2       1.00      1.00      1.00        10\n",
      "\n",
      "    accuracy                           1.00        38\n",
      "   macro avg       1.00      1.00      1.00        38\n",
      "weighted avg       1.00      1.00      1.00        38\n",
      "\n"
     ]
    }
   ],
   "source": [
    "print(classification_report(y_test,y_pred))"
   ]
  },
  {
   "cell_type": "code",
   "execution_count": null,
   "metadata": {
    "execution": {
     "iopub.execute_input": "2023-09-05T17:33:23.673478Z",
     "iopub.status.busy": "2023-09-05T17:33:23.673125Z",
     "iopub.status.idle": "2023-09-05T17:33:25.729128Z",
     "shell.execute_reply": "2023-09-05T17:33:25.727738Z",
     "shell.execute_reply.started": "2023-09-05T17:33:23.673449Z"
    },
    "id": "oEjnmA2wUZYJ",
    "outputId": "7705b362-2a18-4092-bcce-424808e7eed9"
   },
   "outputs": [
    {
     "name": "stdout",
     "output_type": "stream",
     "text": [
      "Fitting 5 folds for each of 16 candidates, totalling 80 fits\n"
     ]
    },
    {
     "data": {
      "text/html": [
       "<style>#sk-container-id-12 {color: black;background-color: white;}#sk-container-id-12 pre{padding: 0;}#sk-container-id-12 div.sk-toggleable {background-color: white;}#sk-container-id-12 label.sk-toggleable__label {cursor: pointer;display: block;width: 100%;margin-bottom: 0;padding: 0.3em;box-sizing: border-box;text-align: center;}#sk-container-id-12 label.sk-toggleable__label-arrow:before {content: \"▸\";float: left;margin-right: 0.25em;color: #696969;}#sk-container-id-12 label.sk-toggleable__label-arrow:hover:before {color: black;}#sk-container-id-12 div.sk-estimator:hover label.sk-toggleable__label-arrow:before {color: black;}#sk-container-id-12 div.sk-toggleable__content {max-height: 0;max-width: 0;overflow: hidden;text-align: left;background-color: #f0f8ff;}#sk-container-id-12 div.sk-toggleable__content pre {margin: 0.2em;color: black;border-radius: 0.25em;background-color: #f0f8ff;}#sk-container-id-12 input.sk-toggleable__control:checked~div.sk-toggleable__content {max-height: 200px;max-width: 100%;overflow: auto;}#sk-container-id-12 input.sk-toggleable__control:checked~label.sk-toggleable__label-arrow:before {content: \"▾\";}#sk-container-id-12 div.sk-estimator input.sk-toggleable__control:checked~label.sk-toggleable__label {background-color: #d4ebff;}#sk-container-id-12 div.sk-label input.sk-toggleable__control:checked~label.sk-toggleable__label {background-color: #d4ebff;}#sk-container-id-12 input.sk-hidden--visually {border: 0;clip: rect(1px 1px 1px 1px);clip: rect(1px, 1px, 1px, 1px);height: 1px;margin: -1px;overflow: hidden;padding: 0;position: absolute;width: 1px;}#sk-container-id-12 div.sk-estimator {font-family: monospace;background-color: #f0f8ff;border: 1px dotted black;border-radius: 0.25em;box-sizing: border-box;margin-bottom: 0.5em;}#sk-container-id-12 div.sk-estimator:hover {background-color: #d4ebff;}#sk-container-id-12 div.sk-parallel-item::after {content: \"\";width: 100%;border-bottom: 1px solid gray;flex-grow: 1;}#sk-container-id-12 div.sk-label:hover label.sk-toggleable__label {background-color: #d4ebff;}#sk-container-id-12 div.sk-serial::before {content: \"\";position: absolute;border-left: 1px solid gray;box-sizing: border-box;top: 0;bottom: 0;left: 50%;z-index: 0;}#sk-container-id-12 div.sk-serial {display: flex;flex-direction: column;align-items: center;background-color: white;padding-right: 0.2em;padding-left: 0.2em;position: relative;}#sk-container-id-12 div.sk-item {position: relative;z-index: 1;}#sk-container-id-12 div.sk-parallel {display: flex;align-items: stretch;justify-content: center;background-color: white;position: relative;}#sk-container-id-12 div.sk-item::before, #sk-container-id-12 div.sk-parallel-item::before {content: \"\";position: absolute;border-left: 1px solid gray;box-sizing: border-box;top: 0;bottom: 0;left: 50%;z-index: -1;}#sk-container-id-12 div.sk-parallel-item {display: flex;flex-direction: column;z-index: 1;position: relative;background-color: white;}#sk-container-id-12 div.sk-parallel-item:first-child::after {align-self: flex-end;width: 50%;}#sk-container-id-12 div.sk-parallel-item:last-child::after {align-self: flex-start;width: 50%;}#sk-container-id-12 div.sk-parallel-item:only-child::after {width: 0;}#sk-container-id-12 div.sk-dashed-wrapped {border: 1px dashed gray;margin: 0 0.4em 0.5em 0.4em;box-sizing: border-box;padding-bottom: 0.4em;background-color: white;}#sk-container-id-12 div.sk-label label {font-family: monospace;font-weight: bold;display: inline-block;line-height: 1.2em;}#sk-container-id-12 div.sk-label-container {text-align: center;}#sk-container-id-12 div.sk-container {/* jupyter's `normalize.less` sets `[hidden] { display: none; }` but bootstrap.min.css set `[hidden] { display: none !important; }` so we also need the `!important` here to be able to override the default hidden behavior on the sphinx rendered scikit-learn.org. See: https://github.com/scikit-learn/scikit-learn/issues/21755 */display: inline-block !important;position: relative;}#sk-container-id-12 div.sk-text-repr-fallback {display: none;}</style><div id=\"sk-container-id-12\" class=\"sk-top-container\"><div class=\"sk-text-repr-fallback\"><pre>GridSearchCV(estimator=SVC(), n_jobs=-1,\n",
       "             param_grid={&#x27;C&#x27;: [0.1, 1, 10, 100], &#x27;gamma&#x27;: [&#x27;scale&#x27;, &#x27;auto&#x27;],\n",
       "                         &#x27;kernel&#x27;: [&#x27;rbf&#x27;, &#x27;linear&#x27;]},\n",
       "             return_train_score=True, verbose=3)</pre><b>In a Jupyter environment, please rerun this cell to show the HTML representation or trust the notebook. <br />On GitHub, the HTML representation is unable to render, please try loading this page with nbviewer.org.</b></div><div class=\"sk-container\" hidden><div class=\"sk-item sk-dashed-wrapped\"><div class=\"sk-label-container\"><div class=\"sk-label sk-toggleable\"><input class=\"sk-toggleable__control sk-hidden--visually\" id=\"sk-estimator-id-22\" type=\"checkbox\" ><label for=\"sk-estimator-id-22\" class=\"sk-toggleable__label sk-toggleable__label-arrow\">GridSearchCV</label><div class=\"sk-toggleable__content\"><pre>GridSearchCV(estimator=SVC(), n_jobs=-1,\n",
       "             param_grid={&#x27;C&#x27;: [0.1, 1, 10, 100], &#x27;gamma&#x27;: [&#x27;scale&#x27;, &#x27;auto&#x27;],\n",
       "                         &#x27;kernel&#x27;: [&#x27;rbf&#x27;, &#x27;linear&#x27;]},\n",
       "             return_train_score=True, verbose=3)</pre></div></div></div><div class=\"sk-parallel\"><div class=\"sk-parallel-item\"><div class=\"sk-item\"><div class=\"sk-label-container\"><div class=\"sk-label sk-toggleable\"><input class=\"sk-toggleable__control sk-hidden--visually\" id=\"sk-estimator-id-23\" type=\"checkbox\" ><label for=\"sk-estimator-id-23\" class=\"sk-toggleable__label sk-toggleable__label-arrow\">estimator: SVC</label><div class=\"sk-toggleable__content\"><pre>SVC()</pre></div></div></div><div class=\"sk-serial\"><div class=\"sk-item\"><div class=\"sk-estimator sk-toggleable\"><input class=\"sk-toggleable__control sk-hidden--visually\" id=\"sk-estimator-id-24\" type=\"checkbox\" ><label for=\"sk-estimator-id-24\" class=\"sk-toggleable__label sk-toggleable__label-arrow\">SVC</label><div class=\"sk-toggleable__content\"><pre>SVC()</pre></div></div></div></div></div></div></div></div></div></div>"
      ],
      "text/plain": [
       "GridSearchCV(estimator=SVC(), n_jobs=-1,\n",
       "             param_grid={'C': [0.1, 1, 10, 100], 'gamma': ['scale', 'auto'],\n",
       "                         'kernel': ['rbf', 'linear']},\n",
       "             return_train_score=True, verbose=3)"
      ]
     },
     "execution_count": 395,
     "metadata": {},
     "output_type": "execute_result"
    }
   ],
   "source": [
    "param_grid  = {'C' : [0.1,1,10,100] , 'gamma': [1,0.1,0.01,0.001,0.0001] ,'gamma' : ['scale','auto'],'kernel' : ['rbf' ,'linear']}\n",
    "grid = GridSearchCV(SVC() , param_grid  , return_train_score = True , verbose = 3 , n_jobs=-1)\n",
    "grid.fit(X_train,y_train)"
   ]
  },
  {
   "cell_type": "code",
   "execution_count": null,
   "metadata": {
    "execution": {
     "iopub.execute_input": "2023-09-05T17:33:25.732465Z",
     "iopub.status.busy": "2023-09-05T17:33:25.731216Z",
     "iopub.status.idle": "2023-09-05T17:33:25.747255Z",
     "shell.execute_reply": "2023-09-05T17:33:25.746118Z",
     "shell.execute_reply.started": "2023-09-05T17:33:25.732397Z"
    },
    "id": "TI_Nmv55UZYK",
    "outputId": "13f1bcc9-478b-44a0-8c10-fd633dcbf920"
   },
   "outputs": [
    {
     "data": {
      "text/plain": [
       "{'mean_fit_time': array([0.00531592, 0.00364466, 0.00431356, 0.00486941, 0.00495806,\n",
       "        0.0037148 , 0.00388126, 0.00375857, 0.00440745, 0.0037497 ,\n",
       "        0.00379028, 0.00499835, 0.00372796, 0.00367942, 0.00383983,\n",
       "        0.00352416]),\n",
       " 'std_fit_time': array([4.99603538e-04, 1.71508151e-04, 6.18364306e-04, 1.97888539e-03,\n",
       "        2.28911701e-03, 9.93747400e-05, 1.78572963e-04, 1.15955150e-04,\n",
       "        9.37747977e-04, 7.73524233e-05, 7.33679633e-05, 1.91273379e-03,\n",
       "        7.98858656e-05, 1.10268590e-04, 7.44715392e-04, 5.53219221e-04]),\n",
       " 'mean_score_time': array([0.00305696, 0.00261121, 0.00298667, 0.00418944, 0.00450206,\n",
       "        0.0029067 , 0.00350709, 0.00296082, 0.00579777, 0.00304799,\n",
       "        0.00290647, 0.00279427, 0.00287395, 0.00282178, 0.00282245,\n",
       "        0.00278654]),\n",
       " 'std_score_time': array([1.30375982e-04, 6.00391572e-05, 2.71243024e-04, 2.63318068e-03,\n",
       "        3.18480769e-03, 9.56942917e-05, 1.27468199e-03, 1.34363844e-04,\n",
       "        5.65499618e-03, 3.76018993e-04, 6.20450352e-05, 6.88185224e-05,\n",
       "        5.81304198e-05, 1.59726925e-05, 3.80259095e-04, 5.43201342e-04]),\n",
       " 'param_C': masked_array(data=[0.1, 0.1, 0.1, 0.1, 1, 1, 1, 1, 10, 10, 10, 10, 100,\n",
       "                    100, 100, 100],\n",
       "              mask=[False, False, False, False, False, False, False, False,\n",
       "                    False, False, False, False, False, False, False, False],\n",
       "        fill_value='?',\n",
       "             dtype=object),\n",
       " 'param_gamma': masked_array(data=['scale', 'scale', 'auto', 'auto', 'scale', 'scale',\n",
       "                    'auto', 'auto', 'scale', 'scale', 'auto', 'auto',\n",
       "                    'scale', 'scale', 'auto', 'auto'],\n",
       "              mask=[False, False, False, False, False, False, False, False,\n",
       "                    False, False, False, False, False, False, False, False],\n",
       "        fill_value='?',\n",
       "             dtype=object),\n",
       " 'param_kernel': masked_array(data=['rbf', 'linear', 'rbf', 'linear', 'rbf', 'linear',\n",
       "                    'rbf', 'linear', 'rbf', 'linear', 'rbf', 'linear',\n",
       "                    'rbf', 'linear', 'rbf', 'linear'],\n",
       "              mask=[False, False, False, False, False, False, False, False,\n",
       "                    False, False, False, False, False, False, False, False],\n",
       "        fill_value='?',\n",
       "             dtype=object),\n",
       " 'params': [{'C': 0.1, 'gamma': 'scale', 'kernel': 'rbf'},\n",
       "  {'C': 0.1, 'gamma': 'scale', 'kernel': 'linear'},\n",
       "  {'C': 0.1, 'gamma': 'auto', 'kernel': 'rbf'},\n",
       "  {'C': 0.1, 'gamma': 'auto', 'kernel': 'linear'},\n",
       "  {'C': 1, 'gamma': 'scale', 'kernel': 'rbf'},\n",
       "  {'C': 1, 'gamma': 'scale', 'kernel': 'linear'},\n",
       "  {'C': 1, 'gamma': 'auto', 'kernel': 'rbf'},\n",
       "  {'C': 1, 'gamma': 'auto', 'kernel': 'linear'},\n",
       "  {'C': 10, 'gamma': 'scale', 'kernel': 'rbf'},\n",
       "  {'C': 10, 'gamma': 'scale', 'kernel': 'linear'},\n",
       "  {'C': 10, 'gamma': 'auto', 'kernel': 'rbf'},\n",
       "  {'C': 10, 'gamma': 'auto', 'kernel': 'linear'},\n",
       "  {'C': 100, 'gamma': 'scale', 'kernel': 'rbf'},\n",
       "  {'C': 100, 'gamma': 'scale', 'kernel': 'linear'},\n",
       "  {'C': 100, 'gamma': 'auto', 'kernel': 'rbf'},\n",
       "  {'C': 100, 'gamma': 'auto', 'kernel': 'linear'}],\n",
       " 'split0_test_score': array([0.66666667, 0.94444444, 0.94444444, 0.94444444, 0.94444444,\n",
       "        0.94444444, 0.94444444, 0.94444444, 0.94444444, 0.94444444,\n",
       "        0.94444444, 0.94444444, 0.94444444, 0.94444444, 0.88888889,\n",
       "        0.94444444]),\n",
       " 'split1_test_score': array([0.66666667, 1.        , 1.        , 1.        , 1.        ,\n",
       "        1.        , 1.        , 1.        , 1.        , 0.94444444,\n",
       "        0.94444444, 0.94444444, 0.94444444, 0.94444444, 0.94444444,\n",
       "        0.94444444]),\n",
       " 'split2_test_score': array([0.66666667, 0.88888889, 0.88888889, 0.88888889, 0.88888889,\n",
       "        0.94444444, 0.94444444, 0.94444444, 0.94444444, 0.94444444,\n",
       "        0.94444444, 0.94444444, 0.94444444, 0.94444444, 0.94444444,\n",
       "        0.94444444]),\n",
       " 'split3_test_score': array([0.88235294, 0.94117647, 0.94117647, 0.94117647, 0.94117647,\n",
       "        0.94117647, 0.94117647, 0.94117647, 0.94117647, 1.        ,\n",
       "        0.94117647, 1.        , 1.        , 1.        , 0.94117647,\n",
       "        1.        ]),\n",
       " 'split4_test_score': array([0.76470588, 1.        , 1.        , 1.        , 1.        ,\n",
       "        1.        , 1.        , 1.        , 1.        , 1.        ,\n",
       "        1.        , 1.        , 1.        , 1.        , 1.        ,\n",
       "        1.        ]),\n",
       " 'mean_test_score': array([0.72941176, 0.95490196, 0.95490196, 0.95490196, 0.95490196,\n",
       "        0.96601307, 0.96601307, 0.96601307, 0.96601307, 0.96666667,\n",
       "        0.95490196, 0.96666667, 0.96666667, 0.96666667, 0.94379085,\n",
       "        0.96666667]),\n",
       " 'std_test_score': array([0.08537859, 0.04176875, 0.04176875, 0.04176875, 0.04176875,\n",
       "        0.02777586, 0.02777586, 0.02777586, 0.02777586, 0.02721655,\n",
       "        0.02258451, 0.02721655, 0.02721655, 0.02721655, 0.03516073,\n",
       "        0.02721655]),\n",
       " 'rank_test_score': array([16, 10, 10, 10, 10,  6,  6,  6,  6,  1, 10,  1,  1,  1, 15,  1],\n",
       "       dtype=int32),\n",
       " 'split0_train_score': array([0.68571429, 0.97142857, 0.94285714, 0.97142857, 0.97142857,\n",
       "        0.98571429, 0.98571429, 0.98571429, 0.98571429, 0.98571429,\n",
       "        0.98571429, 0.98571429, 0.98571429, 0.98571429, 0.98571429,\n",
       "        0.98571429]),\n",
       " 'split1_train_score': array([0.7       , 0.95714286, 0.92857143, 0.95714286, 0.95714286,\n",
       "        0.98571429, 0.97142857, 0.98571429, 0.97142857, 0.97142857,\n",
       "        0.97142857, 0.97142857, 0.97142857, 0.98571429, 0.98571429,\n",
       "        0.98571429]),\n",
       " 'split2_train_score': array([0.71428571, 0.97142857, 0.95714286, 0.97142857, 0.97142857,\n",
       "        1.        , 0.98571429, 1.        , 0.98571429, 0.98571429,\n",
       "        0.98571429, 0.98571429, 1.        , 1.        , 1.        ,\n",
       "        1.        ]),\n",
       " 'split3_train_score': array([0.81690141, 0.91549296, 0.92957746, 0.91549296, 0.94366197,\n",
       "        0.97183099, 0.97183099, 0.97183099, 0.97183099, 0.97183099,\n",
       "        0.97183099, 0.97183099, 0.97183099, 0.97183099, 0.98591549,\n",
       "        0.97183099]),\n",
       " 'split4_train_score': array([0.8028169 , 0.94366197, 0.90140845, 0.94366197, 0.94366197,\n",
       "        0.97183099, 0.97183099, 0.97183099, 0.98591549, 0.97183099,\n",
       "        0.97183099, 0.97183099, 0.97183099, 0.98591549, 0.98591549,\n",
       "        0.98591549]),\n",
       " 'mean_train_score': array([0.74394366, 0.95183099, 0.93191147, 0.95183099, 0.95746479,\n",
       "        0.98301811, 0.97730382, 0.98301811, 0.98012072, 0.97730382,\n",
       "        0.97730382, 0.97730382, 0.98016097, 0.98583501, 0.98865191,\n",
       "        0.98583501]),\n",
       " 'std_train_score': array([0.05475434, 0.02089752, 0.01845789, 0.02089752, 0.01241864,\n",
       "        0.01051881, 0.00686869, 0.01051881, 0.00693439, 0.00686869,\n",
       "        0.00686869, 0.00686869, 0.01130892, 0.00890837, 0.00567476,\n",
       "        0.00890837])}"
      ]
     },
     "execution_count": 396,
     "metadata": {},
     "output_type": "execute_result"
    }
   ],
   "source": [
    "grid.cv_results_"
   ]
  },
  {
   "cell_type": "code",
   "execution_count": null,
   "metadata": {
    "execution": {
     "iopub.execute_input": "2023-09-05T17:33:25.749021Z",
     "iopub.status.busy": "2023-09-05T17:33:25.748673Z",
     "iopub.status.idle": "2023-09-05T17:33:25.757379Z",
     "shell.execute_reply": "2023-09-05T17:33:25.756558Z",
     "shell.execute_reply.started": "2023-09-05T17:33:25.748992Z"
    },
    "id": "bWuvUeMhUZYK",
    "outputId": "b0d5b1f1-1730-4e75-9bf5-b17f9aa67581"
   },
   "outputs": [
    {
     "name": "stdout",
     "output_type": "stream",
     "text": [
      "{'C': 10, 'gamma': 'scale', 'kernel': 'linear'}\n"
     ]
    }
   ],
   "source": [
    "print(grid.best_params_)"
   ]
  },
  {
   "cell_type": "code",
   "execution_count": null,
   "metadata": {
    "execution": {
     "iopub.execute_input": "2023-09-05T17:33:25.759155Z",
     "iopub.status.busy": "2023-09-05T17:33:25.758619Z",
     "iopub.status.idle": "2023-09-05T17:33:25.778675Z",
     "shell.execute_reply": "2023-09-05T17:33:25.777764Z",
     "shell.execute_reply.started": "2023-09-05T17:33:25.759126Z"
    },
    "id": "58hFNe26UZYM",
    "outputId": "0a5eca5b-5cac-4e6a-ec43-e910d2a69b88"
   },
   "outputs": [
    {
     "name": "stdout",
     "output_type": "stream",
     "text": [
      "              precision    recall  f1-score   support\n",
      "\n",
      "           0       1.00      1.00      1.00        16\n",
      "           1       1.00      0.83      0.91        12\n",
      "           2       0.83      1.00      0.91        10\n",
      "\n",
      "    accuracy                           0.95        38\n",
      "   macro avg       0.94      0.94      0.94        38\n",
      "weighted avg       0.96      0.95      0.95        38\n",
      "\n"
     ]
    }
   ],
   "source": [
    "grid_prediction=grid.predict(X_test)\n",
    "print(classification_report(y_test,grid_prediction))"
   ]
  },
  {
   "cell_type": "code",
   "execution_count": null,
   "metadata": {
    "execution": {
     "iopub.execute_input": "2023-09-05T17:33:25.780686Z",
     "iopub.status.busy": "2023-09-05T17:33:25.780133Z",
     "iopub.status.idle": "2023-09-05T17:33:26.092439Z",
     "shell.execute_reply": "2023-09-05T17:33:26.091288Z",
     "shell.execute_reply.started": "2023-09-05T17:33:25.780657Z"
    },
    "id": "0tnkAXCTUZYM",
    "outputId": "83ab2afa-4581-431d-e8c9-940e459738f8"
   },
   "outputs": [
    {
     "data": {
      "image/png": "[encoded data removed]",
      "text/plain": [
       "<Figure size 640x480 with 1 Axes>"
      ]
     },
     "metadata": {},
     "output_type": "display_data"
    }
   ],
   "source": [
    "plt.plot(np.arange(1,17), grid.cv_results_['mean_train_score'], label='Training')\n",
    "plt.plot(np.arange(1,17), grid.cv_results_['mean_test_score'], label='Validation')\n",
    "plt.tight_layout()\n",
    "plt.ylabel(\"Accuracy\")\n",
    "plt.legend()\n",
    "plt.show()"
   ]
  },
  {
   "cell_type": "code",
   "execution_count": null,
   "metadata": {
    "execution": {
     "iopub.execute_input": "2023-09-05T17:33:26.095588Z",
     "iopub.status.busy": "2023-09-05T17:33:26.094994Z",
     "iopub.status.idle": "2023-09-05T17:33:26.133455Z",
     "shell.execute_reply": "2023-09-05T17:33:26.131885Z",
     "shell.execute_reply.started": "2023-09-05T17:33:26.095553Z"
    },
    "id": "21ocrBiwUZYN",
    "outputId": "152042b8-cfa1-47ce-9581-c8861ad22a99"
   },
   "outputs": [
    {
     "data": {
      "text/plain": [
       "array([0.96153846, 0.96      , 0.92      , 1.        , 0.96      ])"
      ]
     },
     "execution_count": 400,
     "metadata": {},
     "output_type": "execute_result"
    }
   ],
   "source": [
    "from sklearn.model_selection import cross_val_score\n",
    "scores = cross_val_score(SV,X,y,cv=5)\n",
    "scores"
   ]
  },
  {
   "cell_type": "code",
   "execution_count": null,
   "metadata": {
    "execution": {
     "iopub.execute_input": "2023-09-05T17:33:26.135204Z",
     "iopub.status.busy": "2023-09-05T17:33:26.134865Z",
     "iopub.status.idle": "2023-09-05T17:33:26.429458Z",
     "shell.execute_reply": "2023-09-05T17:33:26.428254Z",
     "shell.execute_reply.started": "2023-09-05T17:33:26.135175Z"
    },
    "id": "RRE5RmAiUZYN",
    "outputId": "bf29f5ee-5482-4291-d0ef-837b2863a82b"
   },
   "outputs": [
    {
     "data": {
      "image/png": "[encoded data removed]",
      "text/plain": [
       "<Figure size 550x400 with 2 Axes>"
      ]
     },
     "metadata": {},
     "output_type": "display_data"
    }
   ],
   "source": [
    "from sklearn.metrics import confusion_matrix\n",
    "cm = confusion_matrix(y_test, y_pred)\n",
    "\n",
    "# Transform to df for easier plotting\n",
    "cm_df = pd.DataFrame(cm,\n",
    "                     index = ['setosa','versicolor','virginica'],\n",
    "                     columns = ['setosa','versicolor','virginica'])\n",
    "\n",
    "plt.figure(figsize=(5.5,4))\n",
    "sns.heatmap(cm_df, annot=True)\n",
    "plt.title('Accuracy:{0:.3f}'.format(accuracy_score(y_test, y_pred)))\n",
    "plt.ylabel('True label')\n",
    "plt.xlabel('Predicted label')\n",
    "plt.show()"
   ]
  },
  {
   "cell_type": "code",
   "execution_count": null,
   "metadata": {
    "execution": {
     "iopub.execute_input": "2023-09-05T17:33:26.431136Z",
     "iopub.status.busy": "2023-09-05T17:33:26.430775Z",
     "iopub.status.idle": "2023-09-05T17:33:26.682864Z",
     "shell.execute_reply": "2023-09-05T17:33:26.681974Z",
     "shell.execute_reply.started": "2023-09-05T17:33:26.431106Z"
    },
    "id": "XEtk_igZUZYN",
    "outputId": "b550a3ff-7b43-44d9-bdae-38f4c0ee6e0d"
   },
   "outputs": [
    {
     "data": {
      "image/png": "[encoded data removed]",
      "text/plain": [
       "<Figure size 640x480 with 1 Axes>"
      ]
     },
     "metadata": {},
     "output_type": "display_data"
    }
   ],
   "source": [
    "\n",
    "fpr,tpr, thresholds = roc_curve(y_test , y_pred , pos_label=2)\n",
    "plt.plot([0,1], [0,1], 'k--')\n",
    "plt.plot(fpr, tpr, label='SVC')\n",
    "plt.xlabel('False Positive Rate')\n",
    "plt.ylabel('True Positive Rate')\n",
    "plt.title('SVC ROC Curve')\n",
    "plt.show()"
   ]
  },
  {
   "cell_type": "code",
   "execution_count": null,
   "metadata": {
    "execution": {
     "iopub.execute_input": "2023-09-05T17:33:26.685202Z",
     "iopub.status.busy": "2023-09-05T17:33:26.684214Z",
     "iopub.status.idle": "2023-09-05T17:33:26.709992Z",
     "shell.execute_reply": "2023-09-05T17:33:26.708758Z",
     "shell.execute_reply.started": "2023-09-05T17:33:26.685170Z"
    },
    "id": "Ke7By5odUZYO",
    "outputId": "cbd8cb24-a92c-4919-8da8-b103defba756"
   },
   "outputs": [
    {
     "data": {
      "text/html": [
       "<div>\n",
       "<style scoped>\n",
       "    .dataframe tbody tr th:only-of-type {\n",
       "        vertical-align: middle;\n",
       "    }\n",
       "\n",
       "    .dataframe tbody tr th {\n",
       "        vertical-align: top;\n",
       "    }\n",
       "\n",
       "    .dataframe thead th {\n",
       "        text-align: right;\n",
       "    }\n",
       "</style>\n",
       "<table border=\"1\" class=\"dataframe\">\n",
       "  <thead>\n",
       "    <tr style=\"text-align: right;\">\n",
       "      <th></th>\n",
       "      <th>sepal_length</th>\n",
       "      <th>sepal_width</th>\n",
       "      <th>petal_length</th>\n",
       "      <th>petal_width</th>\n",
       "    </tr>\n",
       "  </thead>\n",
       "  <tbody>\n",
       "    <tr>\n",
       "      <th>0</th>\n",
       "      <td>4.8</td>\n",
       "      <td>3.0</td>\n",
       "      <td>1.4</td>\n",
       "      <td>0.3</td>\n",
       "    </tr>\n",
       "    <tr>\n",
       "      <th>1</th>\n",
       "      <td>5.1</td>\n",
       "      <td>3.8</td>\n",
       "      <td>1.6</td>\n",
       "      <td>0.2</td>\n",
       "    </tr>\n",
       "    <tr>\n",
       "      <th>2</th>\n",
       "      <td>4.6</td>\n",
       "      <td>3.2</td>\n",
       "      <td>1.4</td>\n",
       "      <td>0.2</td>\n",
       "    </tr>\n",
       "    <tr>\n",
       "      <th>3</th>\n",
       "      <td>5.3</td>\n",
       "      <td>3.7</td>\n",
       "      <td>1.5</td>\n",
       "      <td>0.2</td>\n",
       "    </tr>\n",
       "    <tr>\n",
       "      <th>4</th>\n",
       "      <td>5.0</td>\n",
       "      <td>3.3</td>\n",
       "      <td>1.4</td>\n",
       "      <td>0.2</td>\n",
       "    </tr>\n",
       "    <tr>\n",
       "      <th>5</th>\n",
       "      <td>7.0</td>\n",
       "      <td>3.2</td>\n",
       "      <td>4.7</td>\n",
       "      <td>1.4</td>\n",
       "    </tr>\n",
       "    <tr>\n",
       "      <th>6</th>\n",
       "      <td>6.4</td>\n",
       "      <td>3.2</td>\n",
       "      <td>4.5</td>\n",
       "      <td>1.5</td>\n",
       "    </tr>\n",
       "    <tr>\n",
       "      <th>7</th>\n",
       "      <td>6.9</td>\n",
       "      <td>3.1</td>\n",
       "      <td>4.9</td>\n",
       "      <td>1.5</td>\n",
       "    </tr>\n",
       "    <tr>\n",
       "      <th>8</th>\n",
       "      <td>5.5</td>\n",
       "      <td>2.3</td>\n",
       "      <td>4.0</td>\n",
       "      <td>1.3</td>\n",
       "    </tr>\n",
       "    <tr>\n",
       "      <th>9</th>\n",
       "      <td>6.5</td>\n",
       "      <td>2.8</td>\n",
       "      <td>4.6</td>\n",
       "      <td>1.5</td>\n",
       "    </tr>\n",
       "    <tr>\n",
       "      <th>10</th>\n",
       "      <td>5.7</td>\n",
       "      <td>2.8</td>\n",
       "      <td>4.5</td>\n",
       "      <td>1.3</td>\n",
       "    </tr>\n",
       "    <tr>\n",
       "      <th>11</th>\n",
       "      <td>6.3</td>\n",
       "      <td>3.3</td>\n",
       "      <td>4.7</td>\n",
       "      <td>1.6</td>\n",
       "    </tr>\n",
       "    <tr>\n",
       "      <th>12</th>\n",
       "      <td>4.9</td>\n",
       "      <td>2.4</td>\n",
       "      <td>3.3</td>\n",
       "      <td>1.0</td>\n",
       "    </tr>\n",
       "    <tr>\n",
       "      <th>13</th>\n",
       "      <td>6.6</td>\n",
       "      <td>2.9</td>\n",
       "      <td>4.6</td>\n",
       "      <td>1.3</td>\n",
       "    </tr>\n",
       "    <tr>\n",
       "      <th>14</th>\n",
       "      <td>5.2</td>\n",
       "      <td>2.7</td>\n",
       "      <td>3.9</td>\n",
       "      <td>1.4</td>\n",
       "    </tr>\n",
       "    <tr>\n",
       "      <th>15</th>\n",
       "      <td>6.3</td>\n",
       "      <td>3.4</td>\n",
       "      <td>5.6</td>\n",
       "      <td>2.4</td>\n",
       "    </tr>\n",
       "    <tr>\n",
       "      <th>16</th>\n",
       "      <td>6.4</td>\n",
       "      <td>3.1</td>\n",
       "      <td>5.5</td>\n",
       "      <td>1.8</td>\n",
       "    </tr>\n",
       "    <tr>\n",
       "      <th>17</th>\n",
       "      <td>6.0</td>\n",
       "      <td>3.0</td>\n",
       "      <td>4.8</td>\n",
       "      <td>1.8</td>\n",
       "    </tr>\n",
       "    <tr>\n",
       "      <th>18</th>\n",
       "      <td>6.9</td>\n",
       "      <td>3.1</td>\n",
       "      <td>5.4</td>\n",
       "      <td>2.1</td>\n",
       "    </tr>\n",
       "    <tr>\n",
       "      <th>19</th>\n",
       "      <td>6.7</td>\n",
       "      <td>3.1</td>\n",
       "      <td>5.6</td>\n",
       "      <td>2.4</td>\n",
       "    </tr>\n",
       "    <tr>\n",
       "      <th>20</th>\n",
       "      <td>6.9</td>\n",
       "      <td>3.1</td>\n",
       "      <td>5.1</td>\n",
       "      <td>2.3</td>\n",
       "    </tr>\n",
       "    <tr>\n",
       "      <th>21</th>\n",
       "      <td>5.8</td>\n",
       "      <td>2.7</td>\n",
       "      <td>5.1</td>\n",
       "      <td>1.9</td>\n",
       "    </tr>\n",
       "    <tr>\n",
       "      <th>22</th>\n",
       "      <td>6.8</td>\n",
       "      <td>3.2</td>\n",
       "      <td>5.9</td>\n",
       "      <td>2.3</td>\n",
       "    </tr>\n",
       "  </tbody>\n",
       "</table>\n",
       "</div>"
      ],
      "text/plain": [
       "    sepal_length  sepal_width  petal_length  petal_width\n",
       "0            4.8          3.0           1.4          0.3\n",
       "1            5.1          3.8           1.6          0.2\n",
       "2            4.6          3.2           1.4          0.2\n",
       "3            5.3          3.7           1.5          0.2\n",
       "4            5.0          3.3           1.4          0.2\n",
       "5            7.0          3.2           4.7          1.4\n",
       "6            6.4          3.2           4.5          1.5\n",
       "7            6.9          3.1           4.9          1.5\n",
       "8            5.5          2.3           4.0          1.3\n",
       "9            6.5          2.8           4.6          1.5\n",
       "10           5.7          2.8           4.5          1.3\n",
       "11           6.3          3.3           4.7          1.6\n",
       "12           4.9          2.4           3.3          1.0\n",
       "13           6.6          2.9           4.6          1.3\n",
       "14           5.2          2.7           3.9          1.4\n",
       "15           6.3          3.4           5.6          2.4\n",
       "16           6.4          3.1           5.5          1.8\n",
       "17           6.0          3.0           4.8          1.8\n",
       "18           6.9          3.1           5.4          2.1\n",
       "19           6.7          3.1           5.6          2.4\n",
       "20           6.9          3.1           5.1          2.3\n",
       "21           5.8          2.7           5.1          1.9\n",
       "22           6.8          3.2           5.9          2.3"
      ]
     },
     "execution_count": 403,
     "metadata": {},
     "output_type": "execute_result"
    }
   ],
   "source": [
    "#Hidden test set\n",
    "td=pd.read_csv('/kaggle/input/iris-test-set/IRIS_test_hidden.csv')\n",
    "td"
   ]
  },
  {
   "cell_type": "code",
   "execution_count": null,
   "metadata": {
    "execution": {
     "iopub.execute_input": "2023-09-05T17:33:26.712768Z",
     "iopub.status.busy": "2023-09-05T17:33:26.711549Z",
     "iopub.status.idle": "2023-09-05T17:33:26.730233Z",
     "shell.execute_reply": "2023-09-05T17:33:26.729246Z",
     "shell.execute_reply.started": "2023-09-05T17:33:26.712727Z"
    },
    "id": "z3vtnP24UZYP",
    "outputId": "587a3df3-1bfe-4788-fb77-ec88785a3bec"
   },
   "outputs": [
    {
     "data": {
      "text/html": [
       "<div>\n",
       "<style scoped>\n",
       "    .dataframe tbody tr th:only-of-type {\n",
       "        vertical-align: middle;\n",
       "    }\n",
       "\n",
       "    .dataframe tbody tr th {\n",
       "        vertical-align: top;\n",
       "    }\n",
       "\n",
       "    .dataframe thead th {\n",
       "        text-align: right;\n",
       "    }\n",
       "</style>\n",
       "<table border=\"1\" class=\"dataframe\">\n",
       "  <thead>\n",
       "    <tr style=\"text-align: right;\">\n",
       "      <th></th>\n",
       "      <th>sepal_length</th>\n",
       "      <th>sepal_width</th>\n",
       "      <th>petal_length</th>\n",
       "      <th>petal_width</th>\n",
       "    </tr>\n",
       "  </thead>\n",
       "  <tbody>\n",
       "    <tr>\n",
       "      <th>0</th>\n",
       "      <td>-1.538320</td>\n",
       "      <td>-0.177173</td>\n",
       "      <td>-1.793453</td>\n",
       "      <td>-1.510746</td>\n",
       "    </tr>\n",
       "    <tr>\n",
       "      <th>1</th>\n",
       "      <td>-1.148084</td>\n",
       "      <td>2.151382</td>\n",
       "      <td>-1.659960</td>\n",
       "      <td>-1.649735</td>\n",
       "    </tr>\n",
       "    <tr>\n",
       "      <th>2</th>\n",
       "      <td>-1.798477</td>\n",
       "      <td>0.404966</td>\n",
       "      <td>-1.793453</td>\n",
       "      <td>-1.649735</td>\n",
       "    </tr>\n",
       "    <tr>\n",
       "      <th>3</th>\n",
       "      <td>-0.887927</td>\n",
       "      <td>1.860312</td>\n",
       "      <td>-1.726706</td>\n",
       "      <td>-1.649735</td>\n",
       "    </tr>\n",
       "    <tr>\n",
       "      <th>4</th>\n",
       "      <td>-1.278163</td>\n",
       "      <td>0.696035</td>\n",
       "      <td>-1.793453</td>\n",
       "      <td>-1.649735</td>\n",
       "    </tr>\n",
       "  </tbody>\n",
       "</table>\n",
       "</div>"
      ],
      "text/plain": [
       "   sepal_length  sepal_width  petal_length  petal_width\n",
       "0     -1.538320    -0.177173     -1.793453    -1.510746\n",
       "1     -1.148084     2.151382     -1.659960    -1.649735\n",
       "2     -1.798477     0.404966     -1.793453    -1.649735\n",
       "3     -0.887927     1.860312     -1.726706    -1.649735\n",
       "4     -1.278163     0.696035     -1.793453    -1.649735"
      ]
     },
     "execution_count": 404,
     "metadata": {},
     "output_type": "execute_result"
    }
   ],
   "source": [
    "\n",
    "td_s = td.copy()\n",
    "std_scaler = StandardScaler()\n",
    "td_s.iloc[:, [0, 1, 2, 3]] = std_scaler.fit_transform(td_s.iloc[:, [0, 1, 2, 3]])\n",
    "td_s.head()"
   ]
  },
  {
   "cell_type": "code",
   "execution_count": null,
   "metadata": {
    "execution": {
     "iopub.execute_input": "2023-09-05T17:33:26.732237Z",
     "iopub.status.busy": "2023-09-05T17:33:26.731717Z",
     "iopub.status.idle": "2023-09-05T17:33:26.753909Z",
     "shell.execute_reply": "2023-09-05T17:33:26.752708Z",
     "shell.execute_reply.started": "2023-09-05T17:33:26.732209Z"
    },
    "id": "VND9DIa5UZYQ",
    "outputId": "0018844a-1a3e-4cc3-cbcd-e8b4649e5840"
   },
   "outputs": [
    {
     "data": {
      "text/html": [
       "<div>\n",
       "<style scoped>\n",
       "    .dataframe tbody tr th:only-of-type {\n",
       "        vertical-align: middle;\n",
       "    }\n",
       "\n",
       "    .dataframe tbody tr th {\n",
       "        vertical-align: top;\n",
       "    }\n",
       "\n",
       "    .dataframe thead th {\n",
       "        text-align: right;\n",
       "    }\n",
       "</style>\n",
       "<table border=\"1\" class=\"dataframe\">\n",
       "  <thead>\n",
       "    <tr style=\"text-align: right;\">\n",
       "      <th></th>\n",
       "      <th>sepal_length</th>\n",
       "      <th>sepal_width</th>\n",
       "      <th>petal_length</th>\n",
       "      <th>petal_width</th>\n",
       "    </tr>\n",
       "  </thead>\n",
       "  <tbody>\n",
       "    <tr>\n",
       "      <th>0</th>\n",
       "      <td>0.083333</td>\n",
       "      <td>0.466667</td>\n",
       "      <td>0.000000</td>\n",
       "      <td>0.045455</td>\n",
       "    </tr>\n",
       "    <tr>\n",
       "      <th>1</th>\n",
       "      <td>0.208333</td>\n",
       "      <td>1.000000</td>\n",
       "      <td>0.044444</td>\n",
       "      <td>0.000000</td>\n",
       "    </tr>\n",
       "    <tr>\n",
       "      <th>2</th>\n",
       "      <td>0.000000</td>\n",
       "      <td>0.600000</td>\n",
       "      <td>0.000000</td>\n",
       "      <td>0.000000</td>\n",
       "    </tr>\n",
       "    <tr>\n",
       "      <th>3</th>\n",
       "      <td>0.291667</td>\n",
       "      <td>0.933333</td>\n",
       "      <td>0.022222</td>\n",
       "      <td>0.000000</td>\n",
       "    </tr>\n",
       "    <tr>\n",
       "      <th>4</th>\n",
       "      <td>0.166667</td>\n",
       "      <td>0.666667</td>\n",
       "      <td>0.000000</td>\n",
       "      <td>0.000000</td>\n",
       "    </tr>\n",
       "  </tbody>\n",
       "</table>\n",
       "</div>"
      ],
      "text/plain": [
       "   sepal_length  sepal_width  petal_length  petal_width\n",
       "0      0.083333     0.466667      0.000000     0.045455\n",
       "1      0.208333     1.000000      0.044444     0.000000\n",
       "2      0.000000     0.600000      0.000000     0.000000\n",
       "3      0.291667     0.933333      0.022222     0.000000\n",
       "4      0.166667     0.666667      0.000000     0.000000"
      ]
     },
     "execution_count": 405,
     "metadata": {},
     "output_type": "execute_result"
    }
   ],
   "source": [
    "td_n = td.copy()\n",
    "min_max_scaler = MinMaxScaler()\n",
    "td_n.iloc[:, [0, 1, 2, 3]] = min_max_scaler.fit_transform(td_n.iloc[:, [0, 1, 2, 3]])\n",
    "td_n.head()"
   ]
  },
  {
   "cell_type": "code",
   "execution_count": null,
   "metadata": {
    "execution": {
     "iopub.execute_input": "2023-09-05T17:33:26.755799Z",
     "iopub.status.busy": "2023-09-05T17:33:26.755028Z",
     "iopub.status.idle": "2023-09-05T17:33:26.767345Z",
     "shell.execute_reply": "2023-09-05T17:33:26.766435Z",
     "shell.execute_reply.started": "2023-09-05T17:33:26.755765Z"
    },
    "id": "M0FpmXgBUZYQ",
    "outputId": "28e7fe6c-b4df-42a5-9ce6-e9b6ee4824dc"
   },
   "outputs": [
    {
     "name": "stdout",
     "output_type": "stream",
     "text": [
      "[0 0 0 0 0 1 1 1 1 1 1 1 1 1 1 2 2 2 2 2 2 2 2]\n"
     ]
    }
   ],
   "source": [
    "prediction=SV.predict(td)\n",
    "print(prediction)"
   ]
  },
  {
   "cell_type": "code",
   "execution_count": null,
   "metadata": {
    "execution": {
     "iopub.execute_input": "2023-09-05T17:33:26.769135Z",
     "iopub.status.busy": "2023-09-05T17:33:26.768515Z",
     "iopub.status.idle": "2023-09-05T17:33:26.780875Z",
     "shell.execute_reply": "2023-09-05T17:33:26.779871Z",
     "shell.execute_reply.started": "2023-09-05T17:33:26.769105Z"
    },
    "id": "ULxFhEwxUZYR"
   },
   "outputs": [],
   "source": [
    "prediction = pd.DataFrame(prediction)"
   ]
  },
  {
   "cell_type": "code",
   "execution_count": null,
   "metadata": {
    "execution": {
     "iopub.execute_input": "2023-09-05T17:33:26.783163Z",
     "iopub.status.busy": "2023-09-05T17:33:26.782220Z",
     "iopub.status.idle": "2023-09-05T17:33:26.795768Z",
     "shell.execute_reply": "2023-09-05T17:33:26.794876Z",
     "shell.execute_reply.started": "2023-09-05T17:33:26.783120Z"
    },
    "id": "V6AMpj1KUZYS"
   },
   "outputs": [],
   "source": [
    "prediction.to_csv('prediction_DoaaSalem.csv' , index = False)"
   ]
  },
  {
   "cell_type": "code",
   "execution_count": null,
   "metadata": {
    "execution": {
     "iopub.execute_input": "2023-09-05T17:33:26.798376Z",
     "iopub.status.busy": "2023-09-05T17:33:26.797366Z",
     "iopub.status.idle": "2023-09-05T17:33:26.814713Z",
     "shell.execute_reply": "2023-09-05T17:33:26.813912Z",
     "shell.execute_reply.started": "2023-09-05T17:33:26.798342Z"
    },
    "id": "usYJAPDmUZYS",
    "outputId": "8b151bd8-80d8-4414-b8ff-974e25cf50ce"
   },
   "outputs": [
    {
     "data": {
      "text/html": [
       "<div>\n",
       "<style scoped>\n",
       "    .dataframe tbody tr th:only-of-type {\n",
       "        vertical-align: middle;\n",
       "    }\n",
       "\n",
       "    .dataframe tbody tr th {\n",
       "        vertical-align: top;\n",
       "    }\n",
       "\n",
       "    .dataframe thead th {\n",
       "        text-align: right;\n",
       "    }\n",
       "</style>\n",
       "<table border=\"1\" class=\"dataframe\">\n",
       "  <thead>\n",
       "    <tr style=\"text-align: right;\">\n",
       "      <th></th>\n",
       "      <th>0</th>\n",
       "    </tr>\n",
       "  </thead>\n",
       "  <tbody>\n",
       "    <tr>\n",
       "      <th>0</th>\n",
       "      <td>0</td>\n",
       "    </tr>\n",
       "    <tr>\n",
       "      <th>1</th>\n",
       "      <td>0</td>\n",
       "    </tr>\n",
       "    <tr>\n",
       "      <th>2</th>\n",
       "      <td>0</td>\n",
       "    </tr>\n",
       "    <tr>\n",
       "      <th>3</th>\n",
       "      <td>0</td>\n",
       "    </tr>\n",
       "    <tr>\n",
       "      <th>4</th>\n",
       "      <td>0</td>\n",
       "    </tr>\n",
       "    <tr>\n",
       "      <th>5</th>\n",
       "      <td>1</td>\n",
       "    </tr>\n",
       "    <tr>\n",
       "      <th>6</th>\n",
       "      <td>1</td>\n",
       "    </tr>\n",
       "    <tr>\n",
       "      <th>7</th>\n",
       "      <td>1</td>\n",
       "    </tr>\n",
       "    <tr>\n",
       "      <th>8</th>\n",
       "      <td>1</td>\n",
       "    </tr>\n",
       "    <tr>\n",
       "      <th>9</th>\n",
       "      <td>1</td>\n",
       "    </tr>\n",
       "    <tr>\n",
       "      <th>10</th>\n",
       "      <td>1</td>\n",
       "    </tr>\n",
       "    <tr>\n",
       "      <th>11</th>\n",
       "      <td>1</td>\n",
       "    </tr>\n",
       "    <tr>\n",
       "      <th>12</th>\n",
       "      <td>1</td>\n",
       "    </tr>\n",
       "    <tr>\n",
       "      <th>13</th>\n",
       "      <td>1</td>\n",
       "    </tr>\n",
       "    <tr>\n",
       "      <th>14</th>\n",
       "      <td>1</td>\n",
       "    </tr>\n",
       "    <tr>\n",
       "      <th>15</th>\n",
       "      <td>2</td>\n",
       "    </tr>\n",
       "    <tr>\n",
       "      <th>16</th>\n",
       "      <td>2</td>\n",
       "    </tr>\n",
       "    <tr>\n",
       "      <th>17</th>\n",
       "      <td>2</td>\n",
       "    </tr>\n",
       "    <tr>\n",
       "      <th>18</th>\n",
       "      <td>2</td>\n",
       "    </tr>\n",
       "    <tr>\n",
       "      <th>19</th>\n",
       "      <td>2</td>\n",
       "    </tr>\n",
       "    <tr>\n",
       "      <th>20</th>\n",
       "      <td>2</td>\n",
       "    </tr>\n",
       "    <tr>\n",
       "      <th>21</th>\n",
       "      <td>2</td>\n",
       "    </tr>\n",
       "    <tr>\n",
       "      <th>22</th>\n",
       "      <td>2</td>\n",
       "    </tr>\n",
       "  </tbody>\n",
       "</table>\n",
       "</div>"
      ],
      "text/plain": [
       "    0\n",
       "0   0\n",
       "1   0\n",
       "2   0\n",
       "3   0\n",
       "4   0\n",
       "5   1\n",
       "6   1\n",
       "7   1\n",
       "8   1\n",
       "9   1\n",
       "10  1\n",
       "11  1\n",
       "12  1\n",
       "13  1\n",
       "14  1\n",
       "15  2\n",
       "16  2\n",
       "17  2\n",
       "18  2\n",
       "19  2\n",
       "20  2\n",
       "21  2\n",
       "22  2"
      ]
     },
     "execution_count": 409,
     "metadata": {},
     "output_type": "execute_result"
    },
    {
     "name": "stdout",
     "output_type": "stream",
     "text": [
      "[CV 3/5] END C=0.1, gamma=scale, kernel=rbf;, score=(train=0.714, test=0.667) total time=   0.0s\n",
      "[CV 3/5] END C=0.1, gamma=auto, kernel=rbf;, score=(train=0.957, test=0.889) total time=   0.0s\n",
      "[CV 2/5] END C=0.1, gamma=auto, kernel=linear;, score=(train=0.957, test=1.000) total time=   0.0s\n",
      "[CV 5/5] END C=0.1, gamma=auto, kernel=linear;, score=(train=0.944, test=1.000) total time=   0.0s\n",
      "[CV 4/5] END C=1, gamma=scale, kernel=rbf;, score=(train=0.944, test=0.941) total time=   0.0s\n",
      "[CV 3/5] END C=1, gamma=scale, kernel=linear;, score=(train=1.000, test=0.944) total time=   0.0s\n",
      "[CV 3/5] END C=1, gamma=auto, kernel=rbf;, score=(train=0.986, test=0.944) total time=   0.0s\n",
      "[CV 4/5] END C=1, gamma=auto, kernel=rbf;, score=(train=0.972, test=0.941) total time=   0.0s\n",
      "[CV 4/5] END C=1, gamma=auto, kernel=linear;, score=(train=0.972, test=0.941) total time=   0.0s\n",
      "[CV 5/5] END C=1, gamma=auto, kernel=linear;, score=(train=0.972, test=1.000) total time=   0.0s\n",
      "[CV 4/5] END C=10, gamma=scale, kernel=linear;, score=(train=0.972, test=1.000) total time=   0.0s\n",
      "[CV 5/5] END C=10, gamma=scale, kernel=linear;, score=(train=0.972, test=1.000) total time=   0.0s\n",
      "[CV 1/5] END C=10, gamma=auto, kernel=rbf;, score=(train=0.986, test=0.944) total time=   0.0s\n",
      "[CV 2/5] END C=10, gamma=auto, kernel=rbf;, score=(train=0.971, test=0.944) total time=   0.0s\n",
      "[CV 5/5] END C=100, gamma=scale, kernel=rbf;, score=(train=0.972, test=1.000) total time=   0.0s\n",
      "[CV 1/5] END C=100, gamma=scale, kernel=linear;, score=(train=0.986, test=0.944) total time=   0.0s\n",
      "[CV 2/5] END C=100, gamma=scale, kernel=linear;, score=(train=0.986, test=0.944) total time=   0.0s\n",
      "[CV 3/5] END C=100, gamma=scale, kernel=linear;, score=(train=1.000, test=0.944) total time=   0.0s\n",
      "[CV 2/5] END C=100, gamma=auto, kernel=linear;, score=(train=0.986, test=0.944) total time=   0.0s\n",
      "[CV 4/5] END C=100, gamma=auto, kernel=linear;, score=(train=0.972, test=1.000) total time=   0.0s\n",
      "[CV 4/5] END C=0.1, gamma=scale, kernel=rbf;, score=(train=0.817, test=0.882) total time=   0.0s\n",
      "[CV 5/5] END C=0.1, gamma=auto, kernel=rbf;, score=(train=0.901, test=1.000) total time=   0.0s\n",
      "[CV 4/5] END C=0.1, gamma=auto, kernel=linear;, score=(train=0.915, test=0.941) total time=   0.0s\n",
      "[CV 2/5] END C=1, gamma=scale, kernel=rbf;, score=(train=0.957, test=1.000) total time=   0.0s\n",
      "[CV 1/5] END C=1, gamma=scale, kernel=linear;, score=(train=0.986, test=0.944) total time=   0.0s\n",
      "[CV 4/5] END C=1, gamma=scale, kernel=linear;, score=(train=0.972, test=0.941) total time=   0.0s\n",
      "[CV 5/5] END C=1, gamma=scale, kernel=linear;, score=(train=0.972, test=1.000) total time=   0.0s\n",
      "[CV 2/5] END C=1, gamma=auto, kernel=linear;, score=(train=0.986, test=1.000) total time=   0.0s\n",
      "[CV 3/5] END C=1, gamma=auto, kernel=linear;, score=(train=1.000, test=0.944) total time=   0.0s\n",
      "[CV 5/5] END C=10, gamma=scale, kernel=rbf;, score=(train=0.986, test=1.000) total time=   0.0s\n",
      "[CV 1/5] END C=10, gamma=scale, kernel=linear;, score=(train=0.986, test=0.944) total time=   0.0s\n",
      "[CV 2/5] END C=10, gamma=scale, kernel=linear;, score=(train=0.971, test=0.944) total time=   0.0s\n",
      "[CV 3/5] END C=10, gamma=scale, kernel=linear;, score=(train=0.986, test=0.944) total time=   0.0s\n",
      "[CV 1/5] END C=100, gamma=scale, kernel=rbf;, score=(train=0.986, test=0.944) total time=   0.0s\n",
      "[CV 2/5] END C=100, gamma=scale, kernel=rbf;, score=(train=0.971, test=0.944) total time=   0.0s\n",
      "[CV 3/5] END C=100, gamma=scale, kernel=rbf;, score=(train=1.000, test=0.944) total time=   0.0s\n",
      "[CV 4/5] END C=100, gamma=scale, kernel=rbf;, score=(train=0.972, test=1.000) total time=   0.0s\n",
      "[CV 3/5] END C=100, gamma=auto, kernel=linear;, score=(train=1.000, test=0.944) total time=   0.0s\n",
      "[CV 5/5] END C=100, gamma=auto, kernel=linear;, score=(train=0.986, test=1.000) total time=   0.0s\n",
      "[CV 2/5] END C=0.1, gamma=scale, kernel=rbf;, score=(train=0.700, test=0.667) total time=   0.0s\n",
      "[CV 2/5] END C=0.1, gamma=scale, kernel=linear;, score=(train=0.957, test=1.000) total time=   0.0s\n",
      "[CV 4/5] END C=0.1, gamma=scale, kernel=linear;, score=(train=0.915, test=0.941) total time=   0.0s\n",
      "[CV 2/5] END C=0.1, gamma=auto, kernel=rbf;, score=(train=0.929, test=1.000) total time=   0.0s\n",
      "[CV 1/5] END C=0.1, gamma=auto, kernel=linear;, score=(train=0.971, test=0.944) total time=   0.0s\n",
      "[CV 3/5] END C=1, gamma=scale, kernel=rbf;, score=(train=0.971, test=0.889) total time=   0.0s\n",
      "[CV 2/5] END C=1, gamma=scale, kernel=linear;, score=(train=0.986, test=1.000) total time=   0.0s\n",
      "[CV 1/5] END C=1, gamma=auto, kernel=rbf;, score=(train=0.986, test=0.944) total time=   0.0s\n",
      "[CV 2/5] END C=1, gamma=auto, kernel=rbf;, score=(train=0.971, test=1.000) total time=   0.0s\n",
      "[CV 1/5] END C=10, gamma=scale, kernel=rbf;, score=(train=0.986, test=0.944) total time=   0.0s\n",
      "[CV 2/5] END C=10, gamma=scale, kernel=rbf;, score=(train=0.971, test=1.000) total time=   0.0s\n",
      "[CV 2/5] END C=10, gamma=auto, kernel=linear;, score=(train=0.971, test=0.944) total time=   0.0s\n",
      "[CV 3/5] END C=10, gamma=auto, kernel=linear;, score=(train=0.986, test=0.944) total time=   0.0s\n",
      "[CV 4/5] END C=10, gamma=auto, kernel=linear;, score=(train=0.972, test=1.000) total time=   0.0s\n",
      "[CV 5/5] END C=10, gamma=auto, kernel=linear;, score=(train=0.972, test=1.000) total time=   0.0s\n",
      "[CV 3/5] END C=100, gamma=auto, kernel=rbf;, score=(train=1.000, test=0.944) total time=   0.0s\n",
      "[CV 4/5] END C=100, gamma=auto, kernel=rbf;, score=(train=0.986, test=0.941) total time=   0.0s\n",
      "[CV 5/5] END C=100, gamma=auto, kernel=rbf;, score=(train=0.986, test=1.000) total time=   0.0s\n",
      "[CV 1/5] END C=100, gamma=auto, kernel=linear;, score=(train=0.986, test=0.944) total time=   0.0s\n",
      "[CV 1/5] END C=0.1, gamma=scale, kernel=rbf;, score=(train=0.686, test=0.667) total time=   0.0s\n",
      "[CV 5/5] END C=0.1, gamma=scale, kernel=rbf;, score=(train=0.803, test=0.765) total time=   0.0s\n",
      "[CV 1/5] END C=0.1, gamma=scale, kernel=linear;, score=(train=0.971, test=0.944) total time=   0.0s\n",
      "[CV 3/5] END C=0.1, gamma=scale, kernel=linear;, score=(train=0.971, test=0.889) total time=   0.0s\n",
      "[CV 5/5] END C=0.1, gamma=scale, kernel=linear;, score=(train=0.944, test=1.000) total time=   0.0s\n",
      "[CV 1/5] END C=0.1, gamma=auto, kernel=rbf;, score=(train=0.943, test=0.944) total time=   0.0s\n",
      "[CV 4/5] END C=0.1, gamma=auto, kernel=rbf;, score=(train=0.930, test=0.941) total time=   0.0s\n",
      "[CV 3/5] END C=0.1, gamma=auto, kernel=linear;, score=(train=0.971, test=0.889) total time=   0.0s\n",
      "[CV 1/5] END C=1, gamma=scale, kernel=rbf;, score=(train=0.971, test=0.944) total time=   0.0s\n",
      "[CV 5/5] END C=1, gamma=scale, kernel=rbf;, score=(train=0.944, test=1.000) total time=   0.0s\n",
      "[CV 5/5] END C=1, gamma=auto, kernel=rbf;, score=(train=0.972, test=1.000) total time=   0.0s\n",
      "[CV 1/5] END C=1, gamma=auto, kernel=linear;, score=(train=0.986, test=0.944) total time=   0.0s\n",
      "[CV 3/5] END C=10, gamma=scale, kernel=rbf;, score=(train=0.986, test=0.944) total time=   0.0s\n",
      "[CV 4/5] END C=10, gamma=scale, kernel=rbf;, score=(train=0.972, test=0.941) total time=   0.0s\n",
      "[CV 3/5] END C=10, gamma=auto, kernel=rbf;, score=(train=0.986, test=0.944) total time=   0.0s\n",
      "[CV 4/5] END C=10, gamma=auto, kernel=rbf;, score=(train=0.972, test=0.941) total time=   0.0s\n",
      "[CV 5/5] END C=10, gamma=auto, kernel=rbf;, score=(train=0.972, test=1.000) total time=   0.0s\n",
      "[CV 1/5] END C=10, gamma=auto, kernel=linear;, score=(train=0.986, test=0.944) total time=   0.0s\n",
      "[CV 4/5] END C=100, gamma=scale, kernel=linear;, score=(train=0.972, test=1.000) total time=   0.0s\n",
      "[CV 5/5] END C=100, gamma=scale, kernel=linear;, score=(train=0.986, test=1.000) total time=   0.0s\n",
      "[CV 1/5] END C=100, gamma=auto, kernel=rbf;, score=(train=0.986, test=0.889) total time=   0.0s\n",
      "[CV 2/5] END C=100, gamma=auto, kernel=rbf;, score=(train=0.986, test=0.944) total time=   0.0s\n"
     ]
    }
   ],
   "source": [
    "prediction"
   ]
  }
 ],
 "metadata": {
  "colab": {
   "provenance": []
  },
  "kernelspec": {
   "display_name": "Python 3 (ipykernel)",
   "language": "python",
   "name": "python3"
  },
  "language_info": {
   "codemirror_mode": {
    "name": "ipython",
    "version": 3
   },
   "file_extension": ".py",
   "mimetype": "text/x-python",
   "name": "python",
   "nbconvert_exporter": "python",
   "pygments_lexer": "ipython3",
   "version": "3.11.3"
  }
 },
 "nbformat": 4,
 "nbformat_minor": 1
}
