{
 "cells": [
  {
   "cell_type": "code",
   "execution_count": 1,
   "id": "b9e5787e",
   "metadata": {
    "_cell_guid": "b1076dfc-b9ad-4769-8c92-a6c4dae69d19",
    "_uuid": "8f2839f25d086af736a60e9eeb907d3b93b6e0e5",
    "execution": {
     "iopub.execute_input": "2023-04-29T19:46:26.211177Z",
     "iopub.status.busy": "2023-04-29T19:46:26.210654Z",
     "iopub.status.idle": "2023-04-29T19:46:26.242599Z",
     "shell.execute_reply": "2023-04-29T19:46:26.240763Z"
    },
    "papermill": {
     "duration": 0.044218,
     "end_time": "2023-04-29T19:46:26.245353",
     "exception": false,
     "start_time": "2023-04-29T19:46:26.201135",
     "status": "completed"
    },
    "tags": []
   },
   "outputs": [
    {
     "name": "stdout",
     "output_type": "stream",
     "text": [
      "/kaggle/input/egy-proverbs/FinalCollectedData.tsv\n"
     ]
    }
   ],
   "source": [
    "# This Python 3 environment comes with many helpful analytics libraries installed\n",
    "# It is defined by the kaggle/python Docker image: https://github.com/kaggle/docker-python\n",
    "# For example, here's several helpful packages to load\n",
    "\n",
    "import numpy as np # linear algebra\n",
    "import pandas as pd # data processing, CSV file I/O (e.g. pd.read_csv)\n",
    "\n",
    "# Input data files are available in the read-only \"../input/\" directory\n",
    "# For example, running this (by clicking run or pressing Shift+Enter) will list all files under the input directory\n",
    "\n",
    "import os\n",
    "for dirname, _, filenames in os.walk('/kaggle/input'):\n",
    "    for filename in filenames:\n",
    "        print(os.path.join(dirname, filename))\n",
    "\n",
    "# You can write up to 20GB to the current directory (/kaggle/working/) that gets preserved as output when you create a version using \"Save & Run All\" \n",
    "# You can also write temporary files to /kaggle/temp/, but they won't be saved outside of the current session"
   ]
  },
  {
   "cell_type": "markdown",
   "id": "05e394dd",
   "metadata": {
    "papermill": {
     "duration": 0.005754,
     "end_time": "2023-04-29T19:46:26.257484",
     "exception": false,
     "start_time": "2023-04-29T19:46:26.251730",
     "status": "completed"
    },
    "tags": []
   },
   "source": [
    "# Start Reading the egy-proverbs Corpus"
   ]
  },
  {
   "cell_type": "code",
   "execution_count": 2,
   "id": "a6233455",
   "metadata": {
    "execution": {
     "iopub.execute_input": "2023-04-29T19:46:26.271381Z",
     "iopub.status.busy": "2023-04-29T19:46:26.270612Z",
     "iopub.status.idle": "2023-04-29T19:46:26.315098Z",
     "shell.execute_reply": "2023-04-29T19:46:26.314160Z"
    },
    "papermill": {
     "duration": 0.054097,
     "end_time": "2023-04-29T19:46:26.317507",
     "exception": false,
     "start_time": "2023-04-29T19:46:26.263410",
     "status": "completed"
    },
    "tags": []
   },
   "outputs": [
    {
     "data": {
      "text/plain": [
       "array(['التحسبه موسي يطلع فرعون', 'اللي تحسبه موسي يطلع فرعون',\n",
       "       'اللي تحسبه موسى، يطلع فرعون', ..., 'خد صاحبك على عيبه',\n",
       "       'يا مصبر الوحش علي الجحش',\n",
       "       'اللي عندوا قرش محيروا يجيب حمام ويطيروا'], dtype=object)"
      ]
     },
     "execution_count": 2,
     "metadata": {},
     "output_type": "execute_result"
    }
   ],
   "source": [
    "#Reading the text file\n",
    "import pandas as pd\n",
    "import json\n",
    "cp = pd.DataFrame(columns=['Text'])\n",
    "cp['Text'] = pd.read_csv(\"/kaggle/input/egy-proverbs/FinalCollectedData.tsv\" , sep='\\t')\n",
    "text = cp['Text'].to_numpy()\n",
    "text"
   ]
  },
  {
   "cell_type": "markdown",
   "id": "a64804ab",
   "metadata": {
    "papermill": {
     "duration": 0.005987,
     "end_time": "2023-04-29T19:46:26.329778",
     "exception": false,
     "start_time": "2023-04-29T19:46:26.323791",
     "status": "completed"
    },
    "tags": []
   },
   "source": [
    "# Text Cleaning & Preprocessing"
   ]
  },
  {
   "cell_type": "markdown",
   "id": "78ffb397",
   "metadata": {
    "papermill": {
     "duration": 0.005846,
     "end_time": "2023-04-29T19:46:26.341801",
     "exception": false,
     "start_time": "2023-04-29T19:46:26.335955",
     "status": "completed"
    },
    "tags": []
   },
   "source": [
    "## Removing Duplicated Text"
   ]
  },
  {
   "cell_type": "code",
   "execution_count": 3,
   "id": "f7c9cc27",
   "metadata": {
    "execution": {
     "iopub.execute_input": "2023-04-29T19:46:26.356066Z",
     "iopub.status.busy": "2023-04-29T19:46:26.355627Z",
     "iopub.status.idle": "2023-04-29T19:46:26.365793Z",
     "shell.execute_reply": "2023-04-29T19:46:26.364130Z"
    },
    "papermill": {
     "duration": 0.020149,
     "end_time": "2023-04-29T19:46:26.368283",
     "exception": false,
     "start_time": "2023-04-29T19:46:26.348134",
     "status": "completed"
    },
    "tags": []
   },
   "outputs": [
    {
     "name": "stdout",
     "output_type": "stream",
     "text": [
      "4204\n",
      "1729\n"
     ]
    },
    {
     "data": {
      "text/plain": [
       "['يا داخل بين البصله وقشرتها ما ينوبك غير ريحتها',\n",
       " 'تروح فين الشمس من ع قفا الفلاح',\n",
       " 'اقلب القدره علي فمها تطلع البت لامها',\n",
       " 'لسانك حصانك إن صنته صانك و إن خنته خانك',\n",
       " 'كلام الليل مدهون بزبدة يطلع عليه النهاريسيح',\n",
       " 'اللى يحط راسه فى الحبل كل الناس تجره',\n",
       " 'إن فاتتك فرصة، روح نام',\n",
       " 'يا واخد القرد على ماله بكرا يروح المال ويبقى القرد على حاله',\n",
       " 'صباح الخير يا جاري انت ف حالك وانا ف حالي',\n",
       " 'ايد لوحدها ما تسقفش',\n",
       " 'الغزالة الشاطرة تغزل برجل حمار',\n",
       " 'الكدب ملوش رجلين',\n",
       " 'ضربني و بكي سبقني و اشتكي',\n",
       " 'البيت بيت ابونا ويجيو الغرب يطردونا',\n",
       " 'حسدوا الغجر على ضل الشجر',\n",
       " 'اللى عنده قرش ومحيرة يجيب حمام ويطيره',\n",
       " 'اخطب لبنتك ولا تخطبش لابنك',\n",
       " 'قال جيت أبيعك ياحنه كترت الاحزان',\n",
       " 'أبو بلاش كتر منه',\n",
       " 'الي قد الكحل يتكحل']"
      ]
     },
     "execution_count": 3,
     "metadata": {},
     "output_type": "execute_result"
    }
   ],
   "source": [
    "#Removing Duplicated Proverbs\n",
    "list_of_texts = text.tolist()\n",
    "print(len(text))\n",
    "set_of_texts = list(set(list_of_texts))\n",
    "print(len(set_of_texts))\n",
    "set_of_texts[:20]"
   ]
  },
  {
   "cell_type": "markdown",
   "id": "249a14fd",
   "metadata": {
    "papermill": {
     "duration": 0.006117,
     "end_time": "2023-04-29T19:46:26.381408",
     "exception": false,
     "start_time": "2023-04-29T19:46:26.375291",
     "status": "completed"
    },
    "tags": []
   },
   "source": [
    "## Text Cleaning"
   ]
  },
  {
   "cell_type": "code",
   "execution_count": 4,
   "id": "b89ecb69",
   "metadata": {
    "execution": {
     "iopub.execute_input": "2023-04-29T19:46:26.396345Z",
     "iopub.status.busy": "2023-04-29T19:46:26.395913Z",
     "iopub.status.idle": "2023-04-29T19:46:28.572996Z",
     "shell.execute_reply": "2023-04-29T19:46:28.571718Z"
    },
    "papermill": {
     "duration": 2.18875,
     "end_time": "2023-04-29T19:46:28.576477",
     "exception": false,
     "start_time": "2023-04-29T19:46:26.387727",
     "status": "completed"
    },
    "tags": []
   },
   "outputs": [
    {
     "data": {
      "text/plain": [
       "[['داخل', 'البصله', 'وقشرتها', 'ينوبك', 'ريحتها'],\n",
       " ['تروح', 'فين', 'الشمس', 'ع', 'قفا', 'الفلاح'],\n",
       " ['اقلب', 'القدره', 'علي', 'فمها', 'تطلع', 'البت', 'لامها'],\n",
       " ['لسانك', 'حصانك', 'صنته', 'صانك', 'ان', 'خنته', 'خانك'],\n",
       " ['كلام', 'الليل', 'مدهون', 'بزبده', 'يطلع', 'النهاريسيح'],\n",
       " ['اللي', 'يحط', 'راسه', 'في', 'الحبل', 'الناس', 'تجره'],\n",
       " ['فاتتك', 'فرصه', 'روح', 'نام'],\n",
       " ['واخد', 'القرد', 'ماله', 'بكرا', 'يروح', 'المال', 'ويبقي', 'القرد', 'حاله'],\n",
       " ['الخير', 'جاري', 'انت', 'حالك', 'وانا', 'حالي'],\n",
       " ['ايد', 'لوحدها', 'تسقفش'],\n",
       " ['الغزاله', 'الشاطره', 'تغزل', 'برجل', 'حمار'],\n",
       " ['الكدب', 'ملوش', 'رجلين'],\n",
       " ['ضربني', 'بكي', 'سبقني', 'اشتكي'],\n",
       " ['البيت', 'بيت', 'ابونا', 'ويجيو', 'الغرب', 'يطردونا'],\n",
       " ['حسدوا', 'الغجر', 'ضل', 'الشجر'],\n",
       " ['اللي', 'عنده', 'ومحيره', 'يجيب', 'حمام', 'ويطيره'],\n",
       " ['اخطب', 'لبنتك', 'تخطبش', 'لابنك'],\n",
       " ['قال', 'جيت', 'ابيعك', 'ياحنه', 'كترت', 'الاحزان'],\n",
       " ['بلاش', 'كتر'],\n",
       " ['الي', 'الكحل', 'يتكحل'],\n",
       " ['التاني', 'السلامه'],\n",
       " ['زي', 'العقربه', 'قرصتها', 'والقبر'],\n",
       " ['خنفسه',\n",
       "  'شافت',\n",
       "  'ولادها',\n",
       "  'عالحيط',\n",
       "  'قالت',\n",
       "  'ده',\n",
       "  'لولي',\n",
       "  'وملضوم',\n",
       "  'خيط',\n",
       "  'الام',\n",
       "  'منبهره',\n",
       "  'بابناءها',\n",
       "  'حتي',\n",
       "  'ان',\n",
       "  'كانوا',\n",
       "  'خنافس',\n",
       "  'وكلمه',\n",
       "  'لولي',\n",
       "  'معناها',\n",
       "  'لءلء',\n",
       "  'بالعاميه',\n",
       "  'المصريه'],\n",
       " ['متخافش', 'الهبله', 'خاف', 'خلفتها'],\n",
       " ['البيت', 'بيت', 'ابونا', 'والغرب', 'يطردونا'],\n",
       " ['صاحب', 'صحبك', 'علي', 'عيبو', 'متصاحبش', 'الفي', 'جيبو'],\n",
       " ['اقلب', 'القدره', 'فومها', 'تطلع', 'البت', 'لامها'],\n",
       " ['ابوه',\n",
       "  'البصل',\n",
       "  'وامه',\n",
       "  'الثوم',\n",
       "  'تجيب',\n",
       "  'الريحه',\n",
       "  'الحلوه',\n",
       "  'منين',\n",
       "  'مشءوم'],\n",
       " ['يوضع', 'سره', 'اضعف', 'خلقه'],\n",
       " ['امسك', 'الخشب'],\n",
       " ['الشبل', 'ذاك', 'الاسد'],\n",
       " ['الخشا', 'الرجال', 'بيجيب', 'الفقر'],\n",
       " ['واحد', 'ينام', 'الجنب', 'اللي', 'يريحه'],\n",
       " ['', 'الزعل', 'علي', 'المحبه', ''],\n",
       " ['ضربه', 'مرزبه', '١٠٠', 'ضربه', 'شاكوش'],\n",
       " ['افتكرلك', 'اي', 'بصله', 'وكل', 'قطمه', 'بدمعه'],\n",
       " ['ادي', 'العيش', 'لخبازه'],\n",
       " ['اللي', 'مبيشوفش', 'الغربال', 'يبقي', 'اعمي'],\n",
       " ['الصاحب', 'القديم', 'واصله', 'واستديم'],\n",
       " ['القرعه', 'بتتعايق', 'بشعر', 'بنت', 'اختها'],\n",
       " ['قمحه', 'معطوبه', 'وليها', 'كيال', 'اعمش'],\n",
       " ['نقول', 'تور', 'يقولو', 'احلبوه'],\n",
       " ['تيجي', 'تصيدو', 'يصيدك'],\n",
       " ['القناعه', 'كنز', 'يفني'],\n",
       " ['', 'جت', 'الحزينه', 'تفرح', 'ملقتلهاش', 'مطرح'],\n",
       " ['شء', 'بالخناق', 'الا', 'الجواز', 'بالاتفاق'],\n",
       " ['ايش', 'ياخد', 'الريح', 'البلاط'],\n",
       " ['المتعوس', 'متعوس', 'علقوا', 'راسه', 'فانوس'],\n",
       " ['العمشه', 'بتبور', 'امو', 'بربور'],\n",
       " ['مشي', 'عدل', 'يحتار', 'عدوك', 'فيك'],\n",
       " ['البيت', 'بيت', 'ابونا', 'والغرب', 'بيطردونا'],\n",
       " ['اقلب', 'القدره', 'فمها', 'تطلع', 'البت', 'لامها'],\n",
       " ['اتصالحت',\n",
       "  'المقشه',\n",
       "  'البلاعه',\n",
       "  'والاثنين',\n",
       "  'بقو',\n",
       "  'جماعه',\n",
       "  'تكاتف',\n",
       "  'السيءون',\n",
       "  'ليخربوا'],\n",
       " ['الي', 'بيته', 'زجاج', 'ميحدفش', 'الناس', 'بالطوب'],\n",
       " ['درب', 'الحبيب', 'زي', 'اكل', 'الزبيب'],\n",
       " ['كان', 'الخير', 'مكنش', 'رماها', 'الطير'],\n",
       " ['اقلب', 'القدره', 'غلي', 'فمها', 'تطلع', 'البت', 'لامها'],\n",
       " ['الادب', 'فضلوه', 'العلم'],\n",
       " ['ضربت', 'الودع', 'ملقتش', 'صاحب', 'جدع'],\n",
       " ['اعمي', 'ويقول', 'شوفت', 'عيني'],\n",
       " ['٥الرزق', 'يحب', 'الخفيه'],\n",
       " ['اللي', 'خدته', 'القرعه', 'تاخده', 'ام', 'الشعور'],\n",
       " ['القرد', 'بعين', 'امه', 'غزال'],\n",
       " ['طلعه', 'البدر', 'ذا', 'يبصر', 'الشهبا'],\n",
       " ['بكره', 'نقعد', 'علي', 'الحيطه', 'ونسمع', 'الزيطه'],\n",
       " ['الطيور', 'اشكالها', 'تقع'],\n",
       " ['بره', 'هلا', 'جوا', 'يعلم', 'الله'],\n",
       " ['اتمسكن', 'لحد', 'تمكن'],\n",
       " ['طول', 'البال', 'يهد', 'الجبال'],\n",
       " ['تبقي', 'بقك', 'وتقسم', 'لغيرك'],\n",
       " ['العيله', 'اللي', 'مفيهاش', 'صايع', 'حقها', 'ضايع'],\n",
       " ['اللي', 'اتلسع', 'الشوربه', 'ينفخ', 'الزبادي'],\n",
       " ['بصله', 'المحب', 'خروف'],\n",
       " ['اللي', 'ياكل', 'ببلاش', 'يشبعش'],\n",
       " ['المركب', 'اللي', 'ليها', 'ريسين', 'تغرق'],\n",
       " ['اللي', 'ياكل', 'ضرسه', 'ينفع', 'نفسه'],\n",
       " ['التاني', 'السلامه', 'في', 'العجله', 'الندامه'],\n",
       " ['ضرب',\n",
       "  'الحبيب',\n",
       "  'زي',\n",
       "  'اكل',\n",
       "  'الزبيب',\n",
       "  'لان',\n",
       "  'المحب',\n",
       "  'يري',\n",
       "  'يحبه',\n",
       "  'الا',\n",
       "  'الخير',\n",
       "  'والجمال',\n",
       "  'يري',\n",
       "  'حتي',\n",
       "  'ايذاءه'],\n",
       " ['ضربني', 'وبكيوسبق', 'واشتكي'],\n",
       " ['قالو', 'الجمل', 'طلع', 'النخله', 'قولنا', 'ادي', 'الجمل', 'وادي', 'النخله'],\n",
       " ['خيرا', 'تعمل', 'شرا', 'تلقي'],\n",
       " ['الي', 'ميشوفش', 'الغربال', 'يبقي', 'اعمي'],\n",
       " ['عفريت', 'بني', 'ادم'],\n",
       " ['قل', 'في', 'وشه', 'تغشه'],\n",
       " ['افتكرلك', 'ايه', 'بصله', 'وكل', 'قطمه', 'بدمعه'],\n",
       " ['دبلت', 'الورده', 'ريحتها'],\n",
       " ['اطلب', 'العلوم', 'علما', 'ينفعك', 'ينفي', 'الاذي', 'والعيب', 'يرفعك'],\n",
       " ['',\n",
       "  'خد',\n",
       "  'حذرك',\n",
       "  'اتنين',\n",
       "  'جاهل',\n",
       "  'حفظ',\n",
       "  'سطرين',\n",
       "  'وجعان',\n",
       "  'مسك',\n",
       "  'قرشين',\n",
       "  ''],\n",
       " ['البيت', 'بيت', 'ابونا', 'وييجوا', 'الغرب', 'يطردونا'],\n",
       " ['اللي', 'يبوظ', 'بيته', 'يروح', 'يعزف', 'زقايق'],\n",
       " ['جت', 'الحزينه', 'تفرح', 'لقيتلهاش', 'مطرح'],\n",
       " ['طلعه', 'البدر', 'مين', 'يشوف', 'الشهب'],\n",
       " ['اللي', 'تحسبه', 'موسي', 'يطلع', 'فرعون'],\n",
       " ['اللي', 'مالكش', 'ملكش', 'دعوه', 'بيه'],\n",
       " ['اللي', 'يسالش', 'يتعلمش'],\n",
       " ['الخير', 'جاري', '', 'دارك', 'انا', 'في', 'داري'],\n",
       " ['تءجل', 'عمل', 'اليوم', 'الغد'],\n",
       " ['ايد', 'لوحدها', 'تسقفش'],\n",
       " ['ضربني', 'وبكي', 'سبقني', 'واشتكي'],\n",
       " ['مامنه', 'للرجال', 'مامنه', 'للميه', 'في', 'الغربال']]"
      ]
     },
     "execution_count": 4,
     "metadata": {},
     "output_type": "execute_result"
    }
   ],
   "source": [
    "# Try to clean text (Stemming - Lemmatization - removing stopwords - punctuations) \n",
    "# in order to detect duplicated texts with different forms\n",
    "\n",
    "#first, tokenizing each text\n",
    "from nltk.tokenize import word_tokenize\n",
    "tokenized_text = []\n",
    "for sen in set_of_texts:\n",
    "    tokenized_text.append(word_tokenize(sen))\n",
    "    \n",
    "#Removing Stopwords\n",
    "from nltk.corpus import stopwords\n",
    "arabic_stop_words = stopwords.words('arabic')\n",
    "for sen in tokenized_text:\n",
    "    for tkn in sen:\n",
    "        if tkn in arabic_stop_words:\n",
    "            sen.pop(sen.index(tkn))\n",
    "\n",
    "#Removing Punctuations\n",
    "from string import punctuation\n",
    "for sen in tokenized_text:\n",
    "    for tkn in sen:\n",
    "        if tkn in punctuation:\n",
    "            sen.pop(sen.index(tkn))\n",
    "\n",
    "# #Lemmatization\n",
    "# from nltk.stem import WordNetLemmatizer\n",
    "# lemmat = WordNetLemmatizer()\n",
    "# for sen in tokenized_text:\n",
    "#     for i in range(len(sen)):\n",
    "#         sen[i] = lemmat.lemmatize(sen[i])\n",
    "            \n",
    "\n",
    "# #Stemming\n",
    "# from nltk.stem import ISRIStemmer\n",
    "# stemming = ISRIStemmer()\n",
    "# for sen in tokenized_text:\n",
    "#     for i in range(len(sen)):\n",
    "#         sen[i] = stemming.stem(sen[i])\n",
    "\n",
    "##Additional Cleaning\n",
    "\n",
    "import re\n",
    "#Removing Arabic Diacritics\n",
    "arabic_diacritics = re.compile(\"\"\"\n",
    "                             ّ    | # Tashdid\n",
    "                             َ    | # Fatha\n",
    "                             ً    | # Tanwin Fath\n",
    "                             ُ    | # Damma\n",
    "                             ٌ    | # Tanwin Damm\n",
    "                             ِ    | # Kasra\n",
    "                             ٍ    | # Tanwin Kasr\n",
    "                             ْ    | # Sukun\n",
    "                             ـ     # Tatwil/Kashida\n",
    "                         \"\"\", re.VERBOSE)\n",
    "\n",
    "def remove_diacritics(text):\n",
    "    text = re.sub(arabic_diacritics, '', text)\n",
    "    return text\n",
    "\n",
    "for sen in tokenized_text:\n",
    "    for i in range(len(sen)):\n",
    "        sen[i] = remove_diacritics(sen[i])\n",
    "        \n",
    "#Normalizing\n",
    "def normalize_arabic(text):\n",
    "    text = re.sub(\"[إأآا]\", \"ا\", text)\n",
    "    text = re.sub(\"ى\", \"ي\", text)\n",
    "    text = re.sub(\"ؤ\", \"ء\", text)\n",
    "    text = re.sub(\"ئ\", \"ء\", text)\n",
    "    text = re.sub(\"ة\", \"ه\", text)\n",
    "    return text\n",
    "\n",
    "for sen in tokenized_text:\n",
    "    for i in range(len(sen)):\n",
    "        sen[i] = normalize_arabic(sen[i])\n",
    "        \n",
    "#Removing Unnecessary Sympol/Punctuation that hasn't removed\n",
    "def removing_unnecessary(text):\n",
    "    text = re.sub(\"[.،`😢'•_؟$»؛]+\",\"\",text)\n",
    "    return text\n",
    "for sen in tokenized_text:\n",
    "    for i in range(len(sen)):\n",
    "        sen[i] = removing_unnecessary(sen[i])\n",
    "        \n",
    "tokenized_text[:100]"
   ]
  },
  {
   "cell_type": "code",
   "execution_count": 5,
   "id": "f48401ad",
   "metadata": {
    "execution": {
     "iopub.execute_input": "2023-04-29T19:46:28.601298Z",
     "iopub.status.busy": "2023-04-29T19:46:28.600877Z",
     "iopub.status.idle": "2023-04-29T19:46:28.610006Z",
     "shell.execute_reply": "2023-04-29T19:46:28.608854Z"
    },
    "papermill": {
     "duration": 0.025358,
     "end_time": "2023-04-29T19:46:28.612916",
     "exception": false,
     "start_time": "2023-04-29T19:46:28.587558",
     "status": "completed"
    },
    "tags": []
   },
   "outputs": [
    {
     "data": {
      "text/plain": [
       "['داخل البصله وقشرتها ينوبك ريحتها',\n",
       " 'تروح فين الشمس ع قفا الفلاح',\n",
       " 'اقلب القدره علي فمها تطلع البت لامها',\n",
       " 'لسانك حصانك صنته صانك ان خنته خانك',\n",
       " 'كلام الليل مدهون بزبده يطلع النهاريسيح',\n",
       " 'اللي يحط راسه في الحبل الناس تجره',\n",
       " 'فاتتك فرصه روح نام',\n",
       " 'واخد القرد ماله بكرا يروح المال ويبقي القرد حاله',\n",
       " 'الخير جاري انت حالك وانا حالي',\n",
       " 'ايد لوحدها تسقفش',\n",
       " 'الغزاله الشاطره تغزل برجل حمار',\n",
       " 'الكدب ملوش رجلين',\n",
       " 'ضربني بكي سبقني اشتكي',\n",
       " 'البيت بيت ابونا ويجيو الغرب يطردونا',\n",
       " 'حسدوا الغجر ضل الشجر',\n",
       " 'اللي عنده ومحيره يجيب حمام ويطيره',\n",
       " 'اخطب لبنتك تخطبش لابنك',\n",
       " 'قال جيت ابيعك ياحنه كترت الاحزان',\n",
       " 'بلاش كتر',\n",
       " 'الي الكحل يتكحل',\n",
       " 'التاني السلامه']"
      ]
     },
     "execution_count": 5,
     "metadata": {},
     "output_type": "execute_result"
    }
   ],
   "source": [
    "#Reassembling sentences\n",
    "for i in range(len(tokenized_text)):\n",
    "    tokenized_text[i] = \" \".join(tokenized_text[i])\n",
    "    \n",
    "tokenized_text[:21]"
   ]
  },
  {
   "cell_type": "code",
   "execution_count": 6,
   "id": "ede5c8ed",
   "metadata": {
    "execution": {
     "iopub.execute_input": "2023-04-29T19:46:28.634096Z",
     "iopub.status.busy": "2023-04-29T19:46:28.633723Z",
     "iopub.status.idle": "2023-04-29T19:46:28.658482Z",
     "shell.execute_reply": "2023-04-29T19:46:28.657035Z"
    },
    "papermill": {
     "duration": 0.037687,
     "end_time": "2023-04-29T19:46:28.661279",
     "exception": false,
     "start_time": "2023-04-29T19:46:28.623592",
     "status": "completed"
    },
    "tags": []
   },
   "outputs": [
    {
     "data": {
      "text/html": [
       "<div>\n",
       "<style scoped>\n",
       "    .dataframe tbody tr th:only-of-type {\n",
       "        vertical-align: middle;\n",
       "    }\n",
       "\n",
       "    .dataframe tbody tr th {\n",
       "        vertical-align: top;\n",
       "    }\n",
       "\n",
       "    .dataframe thead th {\n",
       "        text-align: right;\n",
       "    }\n",
       "</style>\n",
       "<table border=\"1\" class=\"dataframe\">\n",
       "  <thead>\n",
       "    <tr style=\"text-align: right;\">\n",
       "      <th></th>\n",
       "      <th>Text</th>\n",
       "    </tr>\n",
       "  </thead>\n",
       "  <tbody>\n",
       "    <tr>\n",
       "      <th>0</th>\n",
       "      <td>داخل البصله وقشرتها ينوبك ريحتها</td>\n",
       "    </tr>\n",
       "    <tr>\n",
       "      <th>1</th>\n",
       "      <td>تروح فين الشمس ع قفا الفلاح</td>\n",
       "    </tr>\n",
       "    <tr>\n",
       "      <th>2</th>\n",
       "      <td>اقلب القدره علي فمها تطلع البت لامها</td>\n",
       "    </tr>\n",
       "    <tr>\n",
       "      <th>3</th>\n",
       "      <td>لسانك حصانك صنته صانك ان خنته خانك</td>\n",
       "    </tr>\n",
       "    <tr>\n",
       "      <th>4</th>\n",
       "      <td>كلام الليل مدهون بزبده يطلع النهاريسيح</td>\n",
       "    </tr>\n",
       "    <tr>\n",
       "      <th>...</th>\n",
       "      <td>...</td>\n",
       "    </tr>\n",
       "    <tr>\n",
       "      <th>1724</th>\n",
       "      <td>الصديق وقت الضيق</td>\n",
       "    </tr>\n",
       "    <tr>\n",
       "      <th>1725</th>\n",
       "      <td>زي الفراخ تبيض وتحزق للتاجر</td>\n",
       "    </tr>\n",
       "    <tr>\n",
       "      <th>1726</th>\n",
       "      <td>ارميه في السطوح وان لك خير يروح</td>\n",
       "    </tr>\n",
       "    <tr>\n",
       "      <th>1727</th>\n",
       "      <td>اللي متحتاجش لوشه انهارده بكره تحتاح لقفاه</td>\n",
       "    </tr>\n",
       "    <tr>\n",
       "      <th>1728</th>\n",
       "      <td>البيضه ماتكسرش الحجر</td>\n",
       "    </tr>\n",
       "  </tbody>\n",
       "</table>\n",
       "<p>1729 rows × 1 columns</p>\n",
       "</div>"
      ],
      "text/plain": [
       "                                            Text\n",
       "0               داخل البصله وقشرتها ينوبك ريحتها\n",
       "1                    تروح فين الشمس ع قفا الفلاح\n",
       "2           اقلب القدره علي فمها تطلع البت لامها\n",
       "3             لسانك حصانك صنته صانك ان خنته خانك\n",
       "4         كلام الليل مدهون بزبده يطلع النهاريسيح\n",
       "...                                          ...\n",
       "1724                            الصديق وقت الضيق\n",
       "1725                 زي الفراخ تبيض وتحزق للتاجر\n",
       "1726             ارميه في السطوح وان لك خير يروح\n",
       "1727  اللي متحتاجش لوشه انهارده بكره تحتاح لقفاه\n",
       "1728                        البيضه ماتكسرش الحجر\n",
       "\n",
       "[1729 rows x 1 columns]"
      ]
     },
     "execution_count": 6,
     "metadata": {},
     "output_type": "execute_result"
    }
   ],
   "source": [
    "#Convert the texts to DataFrame\n",
    "texts = pd.DataFrame(tokenized_text,columns=['Text'])\n",
    "texts"
   ]
  },
  {
   "cell_type": "markdown",
   "id": "48ed3651",
   "metadata": {
    "papermill": {
     "duration": 0.007856,
     "end_time": "2023-04-29T19:46:28.676711",
     "exception": false,
     "start_time": "2023-04-29T19:46:28.668855",
     "status": "completed"
    },
    "tags": []
   },
   "source": [
    "# Training the K-Means Model"
   ]
  },
  {
   "cell_type": "markdown",
   "id": "e120ad26",
   "metadata": {
    "papermill": {
     "duration": 0.006984,
     "end_time": "2023-04-29T19:46:28.692112",
     "exception": false,
     "start_time": "2023-04-29T19:46:28.685128",
     "status": "completed"
    },
    "tags": []
   },
   "source": [
    "## Text Vectorizing"
   ]
  },
  {
   "cell_type": "code",
   "execution_count": 7,
   "id": "25ee2838",
   "metadata": {
    "execution": {
     "iopub.execute_input": "2023-04-29T19:46:28.709264Z",
     "iopub.status.busy": "2023-04-29T19:46:28.708452Z",
     "iopub.status.idle": "2023-04-29T19:46:28.745286Z",
     "shell.execute_reply": "2023-04-29T19:46:28.744032Z"
    },
    "papermill": {
     "duration": 0.048539,
     "end_time": "2023-04-29T19:46:28.748013",
     "exception": false,
     "start_time": "2023-04-29T19:46:28.699474",
     "status": "completed"
    },
    "tags": []
   },
   "outputs": [
    {
     "data": {
      "text/plain": [
       "<1729x2757 sparse matrix of type '<class 'numpy.float64'>'\n",
       "\twith 8837 stored elements in Compressed Sparse Row format>"
      ]
     },
     "execution_count": 7,
     "metadata": {},
     "output_type": "execute_result"
    }
   ],
   "source": [
    "#Vectorizing the Text using TF-IDF\n",
    "from sklearn.feature_extraction.text import TfidfVectorizer\n",
    "from nltk.tokenize import RegexpTokenizer\n",
    "tokenizer = RegexpTokenizer(r'\\w+')\n",
    "tf_idf = TfidfVectorizer(ngram_range=(1,1),tokenizer= tokenizer.tokenize)\n",
    "X_train = tf_idf.fit_transform(tokenized_text)\n",
    "\n",
    "X_train"
   ]
  },
  {
   "cell_type": "markdown",
   "id": "dad8e4b0",
   "metadata": {
    "papermill": {
     "duration": 0.007128,
     "end_time": "2023-04-29T19:46:28.762660",
     "exception": false,
     "start_time": "2023-04-29T19:46:28.755532",
     "status": "completed"
    },
    "tags": []
   },
   "source": [
    "## Model Training & Hypterparameter Tuning"
   ]
  },
  {
   "cell_type": "code",
   "execution_count": 8,
   "id": "1b253e9b",
   "metadata": {
    "execution": {
     "iopub.execute_input": "2023-04-29T19:46:28.779386Z",
     "iopub.status.busy": "2023-04-29T19:46:28.778959Z",
     "iopub.status.idle": "2023-04-29T19:46:45.649923Z",
     "shell.execute_reply": "2023-04-29T19:46:45.648357Z"
    },
    "papermill": {
     "duration": 16.88304,
     "end_time": "2023-04-29T19:46:45.653064",
     "exception": false,
     "start_time": "2023-04-29T19:46:28.770024",
     "status": "completed"
    },
    "tags": []
   },
   "outputs": [],
   "source": [
    "#Train the model on K-Means for different values of N Cluster -1 to 10- (HyperParameters Tuning)\n",
    "from sklearn.cluster import KMeans\n",
    "clusters = range(1,31)\n",
    "sum_of_squared_errors = []\n",
    "for clst in clusters:\n",
    "    model = KMeans(n_clusters=clst,init=\"k-means++\")\n",
    "    model.fit(X_train)\n",
    "    sum_of_squared_errors.append(model.inertia_)"
   ]
  },
  {
   "cell_type": "markdown",
   "id": "e6d9ed6b",
   "metadata": {
    "papermill": {
     "duration": 0.007479,
     "end_time": "2023-04-29T19:46:45.669648",
     "exception": false,
     "start_time": "2023-04-29T19:46:45.662169",
     "status": "completed"
    },
    "tags": []
   },
   "source": [
    "# Prediction & Analysis"
   ]
  },
  {
   "cell_type": "code",
   "execution_count": 9,
   "id": "edc5f91d",
   "metadata": {
    "execution": {
     "iopub.execute_input": "2023-04-29T19:46:45.686834Z",
     "iopub.status.busy": "2023-04-29T19:46:45.685986Z",
     "iopub.status.idle": "2023-04-29T19:46:45.872015Z",
     "shell.execute_reply": "2023-04-29T19:46:45.870426Z"
    },
    "papermill": {
     "duration": 0.19794,
     "end_time": "2023-04-29T19:46:45.874713",
     "exception": false,
     "start_time": "2023-04-29T19:46:45.676773",
     "status": "completed"
    },
    "tags": []
   },
   "outputs": [
    {
     "data": {
      "image/png": "[encoded data removed]",
      "text/plain": [
       "<Figure size 640x480 with 1 Axes>"
      ]
     },
     "metadata": {},
     "output_type": "display_data"
    }
   ],
   "source": [
    "#Plotting the (Elbow method) to determine best value of N Clusters\n",
    "import matplotlib.pyplot as plt\n",
    "plt.plot(clusters,sum_of_squared_errors)\n",
    "plt.xlabel(\"Number of Clusters\")\n",
    "plt.ylabel(\"Cost\")\n",
    "plt.title(\"Elbow Method\")\n",
    "plt.show()"
   ]
  },
  {
   "cell_type": "code",
   "execution_count": 10,
   "id": "2ab1bbc2",
   "metadata": {
    "execution": {
     "iopub.execute_input": "2023-04-29T19:46:45.893177Z",
     "iopub.status.busy": "2023-04-29T19:46:45.892371Z",
     "iopub.status.idle": "2023-04-29T19:46:46.820001Z",
     "shell.execute_reply": "2023-04-29T19:46:46.819002Z"
    },
    "papermill": {
     "duration": 0.939783,
     "end_time": "2023-04-29T19:46:46.822866",
     "exception": false,
     "start_time": "2023-04-29T19:46:45.883083",
     "status": "completed"
    },
    "tags": []
   },
   "outputs": [],
   "source": [
    "#Train the model on 30 Cluster for best result and make prediction\n",
    "model = KMeans(n_clusters=30,init=\"k-means++\")\n",
    "model.fit(X_train)\n",
    "predicted_label = model.predict(X_train)\n",
    "set_of_texts = pd.DataFrame(set_of_texts,columns=['Text'])\n",
    "set_of_texts['cluster'] = predicted_label"
   ]
  },
  {
   "cell_type": "code",
   "execution_count": 11,
   "id": "9e727cab",
   "metadata": {
    "execution": {
     "iopub.execute_input": "2023-04-29T19:46:46.842514Z",
     "iopub.status.busy": "2023-04-29T19:46:46.841982Z",
     "iopub.status.idle": "2023-04-29T19:46:46.852430Z",
     "shell.execute_reply": "2023-04-29T19:46:46.850878Z"
    },
    "papermill": {
     "duration": 0.023993,
     "end_time": "2023-04-29T19:46:46.854822",
     "exception": false,
     "start_time": "2023-04-29T19:46:46.830829",
     "status": "completed"
    },
    "tags": []
   },
   "outputs": [
    {
     "name": "stdout",
     "output_type": "stream",
     "text": [
      "Number of Samples: 1729\n",
      "0     996\n",
      "11    151\n",
      "18     48\n",
      "17     40\n",
      "25     35\n",
      "8      29\n",
      "22     28\n",
      "14     25\n",
      "12     24\n",
      "27     24\n",
      "20     23\n",
      "24     21\n",
      "29     21\n",
      "26     20\n",
      "9      20\n",
      "5      19\n",
      "10     19\n",
      "19     19\n",
      "4      19\n",
      "1      18\n",
      "6      18\n",
      "23     17\n",
      "13     17\n",
      "21     16\n",
      "28     12\n",
      "3      12\n",
      "15     11\n",
      "16     10\n",
      "7       9\n",
      "2       8\n",
      "Name: cluster, dtype: int64\n"
     ]
    }
   ],
   "source": [
    "print(\"Number of Samples:\",len(set_of_texts))\n",
    "print(set_of_texts.cluster.value_counts())"
   ]
  },
  {
   "cell_type": "code",
   "execution_count": 12,
   "id": "e8740f44",
   "metadata": {
    "execution": {
     "iopub.execute_input": "2023-04-29T19:46:46.872512Z",
     "iopub.status.busy": "2023-04-29T19:46:46.872077Z",
     "iopub.status.idle": "2023-04-29T19:46:46.884704Z",
     "shell.execute_reply": "2023-04-29T19:46:46.883512Z"
    },
    "papermill": {
     "duration": 0.024489,
     "end_time": "2023-04-29T19:46:46.887359",
     "exception": false,
     "start_time": "2023-04-29T19:46:46.862870",
     "status": "completed"
    },
    "tags": []
   },
   "outputs": [
    {
     "data": {
      "text/html": [
       "<div>\n",
       "<style scoped>\n",
       "    .dataframe tbody tr th:only-of-type {\n",
       "        vertical-align: middle;\n",
       "    }\n",
       "\n",
       "    .dataframe tbody tr th {\n",
       "        vertical-align: top;\n",
       "    }\n",
       "\n",
       "    .dataframe thead th {\n",
       "        text-align: right;\n",
       "    }\n",
       "</style>\n",
       "<table border=\"1\" class=\"dataframe\">\n",
       "  <thead>\n",
       "    <tr style=\"text-align: right;\">\n",
       "      <th></th>\n",
       "      <th>Text</th>\n",
       "      <th>cluster</th>\n",
       "    </tr>\n",
       "  </thead>\n",
       "  <tbody>\n",
       "    <tr>\n",
       "      <th>36</th>\n",
       "      <td>ادى العيش لخبازه</td>\n",
       "      <td>1</td>\n",
       "    </tr>\n",
       "    <tr>\n",
       "      <th>362</th>\n",
       "      <td>\" ادي العيش لخبازه \"</td>\n",
       "      <td>1</td>\n",
       "    </tr>\n",
       "    <tr>\n",
       "      <th>387</th>\n",
       "      <td>ادي العيش لخبازه و لو كل نصه</td>\n",
       "      <td>1</td>\n",
       "    </tr>\n",
       "    <tr>\n",
       "      <th>454</th>\n",
       "      <td>إدي العيش لخبازه</td>\n",
       "      <td>1</td>\n",
       "    </tr>\n",
       "    <tr>\n",
       "      <th>507</th>\n",
       "      <td>أدى العيش لخبازه و لو أكل نصه</td>\n",
       "      <td>1</td>\n",
       "    </tr>\n",
       "    <tr>\n",
       "      <th>616</th>\n",
       "      <td>اعطي العيش لخبازه ولو كل نصفه</td>\n",
       "      <td>1</td>\n",
       "    </tr>\n",
       "    <tr>\n",
       "      <th>955</th>\n",
       "      <td>• إدي العيش لخبازه، ولو أكل نصه</td>\n",
       "      <td>1</td>\n",
       "    </tr>\n",
       "    <tr>\n",
       "      <th>1042</th>\n",
       "      <td>ادي العيش لخبازه ولو اكل نصه</td>\n",
       "      <td>1</td>\n",
       "    </tr>\n",
       "    <tr>\n",
       "      <th>1066</th>\n",
       "      <td>ادي العيش لخبازه، ولو أكل نصفه</td>\n",
       "      <td>1</td>\n",
       "    </tr>\n",
       "    <tr>\n",
       "      <th>1151</th>\n",
       "      <td>إدي العيش لخبازه ولو أكل نصه</td>\n",
       "      <td>1</td>\n",
       "    </tr>\n",
       "    <tr>\n",
       "      <th>1179</th>\n",
       "      <td>أدى العيش لخبازه ولو كل نصه</td>\n",
       "      <td>1</td>\n",
       "    </tr>\n",
       "    <tr>\n",
       "      <th>1318</th>\n",
       "      <td>ادي العيش لخبازه , ولو كل نصه</td>\n",
       "      <td>1</td>\n",
       "    </tr>\n",
       "    <tr>\n",
       "      <th>1331</th>\n",
       "      <td>إدي العيش لخبازه، ولو أكل نصه</td>\n",
       "      <td>1</td>\n",
       "    </tr>\n",
       "    <tr>\n",
       "      <th>1432</th>\n",
       "      <td>إدي العيش لخبازه ، ولو أكل نصه</td>\n",
       "      <td>1</td>\n",
       "    </tr>\n",
       "    <tr>\n",
       "      <th>1486</th>\n",
       "      <td>ادي العيش لخبازه</td>\n",
       "      <td>1</td>\n",
       "    </tr>\n",
       "    <tr>\n",
       "      <th>1500</th>\n",
       "      <td>إدي العيش لخبازه ولو كل نصه</td>\n",
       "      <td>1</td>\n",
       "    </tr>\n",
       "    <tr>\n",
       "      <th>1651</th>\n",
       "      <td>إدي العيش لخبازه حتى لو أكل نصه</td>\n",
       "      <td>1</td>\n",
       "    </tr>\n",
       "    <tr>\n",
       "      <th>1720</th>\n",
       "      <td>ادي العيش لخبازه حتي لو كل نصه</td>\n",
       "      <td>1</td>\n",
       "    </tr>\n",
       "  </tbody>\n",
       "</table>\n",
       "</div>"
      ],
      "text/plain": [
       "                                 Text  cluster\n",
       "36                   ادى العيش لخبازه        1\n",
       "362              \" ادي العيش لخبازه \"        1\n",
       "387      ادي العيش لخبازه و لو كل نصه        1\n",
       "454                  إدي العيش لخبازه        1\n",
       "507     أدى العيش لخبازه و لو أكل نصه        1\n",
       "616     اعطي العيش لخبازه ولو كل نصفه        1\n",
       "955   • إدي العيش لخبازه، ولو أكل نصه        1\n",
       "1042     ادي العيش لخبازه ولو اكل نصه        1\n",
       "1066   ادي العيش لخبازه، ولو أكل نصفه        1\n",
       "1151     إدي العيش لخبازه ولو أكل نصه        1\n",
       "1179      أدى العيش لخبازه ولو كل نصه        1\n",
       "1318    ادي العيش لخبازه , ولو كل نصه        1\n",
       "1331    إدي العيش لخبازه، ولو أكل نصه        1\n",
       "1432   إدي العيش لخبازه ، ولو أكل نصه        1\n",
       "1486                 ادي العيش لخبازه        1\n",
       "1500      إدي العيش لخبازه ولو كل نصه        1\n",
       "1651  إدي العيش لخبازه حتى لو أكل نصه        1\n",
       "1720   ادي العيش لخبازه حتي لو كل نصه        1"
      ]
     },
     "execution_count": 12,
     "metadata": {},
     "output_type": "execute_result"
    }
   ],
   "source": [
    "#Getting some samples\n",
    "set_of_texts[set_of_texts['cluster'] == 1]"
   ]
  },
  {
   "cell_type": "code",
   "execution_count": 13,
   "id": "26e659f7",
   "metadata": {
    "execution": {
     "iopub.execute_input": "2023-04-29T19:46:46.905827Z",
     "iopub.status.busy": "2023-04-29T19:46:46.904960Z",
     "iopub.status.idle": "2023-04-29T19:46:46.916011Z",
     "shell.execute_reply": "2023-04-29T19:46:46.915110Z"
    },
    "papermill": {
     "duration": 0.02297,
     "end_time": "2023-04-29T19:46:46.918435",
     "exception": false,
     "start_time": "2023-04-29T19:46:46.895465",
     "status": "completed"
    },
    "tags": []
   },
   "outputs": [
    {
     "data": {
      "text/html": [
       "<div>\n",
       "<style scoped>\n",
       "    .dataframe tbody tr th:only-of-type {\n",
       "        vertical-align: middle;\n",
       "    }\n",
       "\n",
       "    .dataframe tbody tr th {\n",
       "        vertical-align: top;\n",
       "    }\n",
       "\n",
       "    .dataframe thead th {\n",
       "        text-align: right;\n",
       "    }\n",
       "</style>\n",
       "<table border=\"1\" class=\"dataframe\">\n",
       "  <thead>\n",
       "    <tr style=\"text-align: right;\">\n",
       "      <th></th>\n",
       "      <th>Text</th>\n",
       "      <th>cluster</th>\n",
       "    </tr>\n",
       "  </thead>\n",
       "  <tbody>\n",
       "    <tr>\n",
       "      <th>143</th>\n",
       "      <td>علمناهم الشحاتة سبقونا علي الأبواب</td>\n",
       "      <td>3</td>\n",
       "    </tr>\n",
       "    <tr>\n",
       "      <th>246</th>\n",
       "      <td>علمناهم الشحاته سبقونا عالابواب</td>\n",
       "      <td>3</td>\n",
       "    </tr>\n",
       "    <tr>\n",
       "      <th>438</th>\n",
       "      <td>علمناهم الشحاتة سبقونا ع الأبواب</td>\n",
       "      <td>3</td>\n",
       "    </tr>\n",
       "    <tr>\n",
       "      <th>465</th>\n",
       "      <td>علمناهم الشحاته سبقونا على الأبواب</td>\n",
       "      <td>3</td>\n",
       "    </tr>\n",
       "    <tr>\n",
       "      <th>610</th>\n",
       "      <td>علمناهم الشحاته سبقونا علي الابواب</td>\n",
       "      <td>3</td>\n",
       "    </tr>\n",
       "    <tr>\n",
       "      <th>641</th>\n",
       "      <td>علمناهم الشحاته سبقونا ع الأبواب</td>\n",
       "      <td>3</td>\n",
       "    </tr>\n",
       "    <tr>\n",
       "      <th>710</th>\n",
       "      <td>علمناهم الشحاته سبقونا على الابواب</td>\n",
       "      <td>3</td>\n",
       "    </tr>\n",
       "    <tr>\n",
       "      <th>801</th>\n",
       "      <td>علمناهم الشحاته سبقونا ع الابواب</td>\n",
       "      <td>3</td>\n",
       "    </tr>\n",
       "    <tr>\n",
       "      <th>978</th>\n",
       "      <td>علمناهم الشحاتة سبقونا على الأبواب</td>\n",
       "      <td>3</td>\n",
       "    </tr>\n",
       "    <tr>\n",
       "      <th>1067</th>\n",
       "      <td>علمناهم الشحاته سبقونا علي الأبواب</td>\n",
       "      <td>3</td>\n",
       "    </tr>\n",
       "    <tr>\n",
       "      <th>1099</th>\n",
       "      <td>علمناهم الشحاتة سبقونا علي الابواب</td>\n",
       "      <td>3</td>\n",
       "    </tr>\n",
       "    <tr>\n",
       "      <th>1634</th>\n",
       "      <td>علمناهم الشحاتة سبقونا ع البيبان</td>\n",
       "      <td>3</td>\n",
       "    </tr>\n",
       "  </tbody>\n",
       "</table>\n",
       "</div>"
      ],
      "text/plain": [
       "                                    Text  cluster\n",
       "143   علمناهم الشحاتة سبقونا علي الأبواب        3\n",
       "246      علمناهم الشحاته سبقونا عالابواب        3\n",
       "438     علمناهم الشحاتة سبقونا ع الأبواب        3\n",
       "465   علمناهم الشحاته سبقونا على الأبواب        3\n",
       "610   علمناهم الشحاته سبقونا علي الابواب        3\n",
       "641     علمناهم الشحاته سبقونا ع الأبواب        3\n",
       "710   علمناهم الشحاته سبقونا على الابواب        3\n",
       "801     علمناهم الشحاته سبقونا ع الابواب        3\n",
       "978   علمناهم الشحاتة سبقونا على الأبواب        3\n",
       "1067  علمناهم الشحاته سبقونا علي الأبواب        3\n",
       "1099  علمناهم الشحاتة سبقونا علي الابواب        3\n",
       "1634    علمناهم الشحاتة سبقونا ع البيبان        3"
      ]
     },
     "execution_count": 13,
     "metadata": {},
     "output_type": "execute_result"
    }
   ],
   "source": [
    "set_of_texts[set_of_texts['cluster'] == 3]"
   ]
  },
  {
   "cell_type": "code",
   "execution_count": 14,
   "id": "2e85280a",
   "metadata": {
    "execution": {
     "iopub.execute_input": "2023-04-29T19:46:46.937696Z",
     "iopub.status.busy": "2023-04-29T19:46:46.936595Z",
     "iopub.status.idle": "2023-04-29T19:46:46.947849Z",
     "shell.execute_reply": "2023-04-29T19:46:46.946993Z"
    },
    "papermill": {
     "duration": 0.022939,
     "end_time": "2023-04-29T19:46:46.949964",
     "exception": false,
     "start_time": "2023-04-29T19:46:46.927025",
     "status": "completed"
    },
    "tags": []
   },
   "outputs": [
    {
     "data": {
      "text/html": [
       "<div>\n",
       "<style scoped>\n",
       "    .dataframe tbody tr th:only-of-type {\n",
       "        vertical-align: middle;\n",
       "    }\n",
       "\n",
       "    .dataframe tbody tr th {\n",
       "        vertical-align: top;\n",
       "    }\n",
       "\n",
       "    .dataframe thead th {\n",
       "        text-align: right;\n",
       "    }\n",
       "</style>\n",
       "<table border=\"1\" class=\"dataframe\">\n",
       "  <thead>\n",
       "    <tr style=\"text-align: right;\">\n",
       "      <th></th>\n",
       "      <th>Text</th>\n",
       "      <th>cluster</th>\n",
       "    </tr>\n",
       "  </thead>\n",
       "  <tbody>\n",
       "    <tr>\n",
       "      <th>62</th>\n",
       "      <td>القرد بعين أمه غزال</td>\n",
       "      <td>4</td>\n",
       "    </tr>\n",
       "    <tr>\n",
       "      <th>243</th>\n",
       "      <td>الي الدنيا علمته مش زي الي أمه مرجحته</td>\n",
       "      <td>4</td>\n",
       "    </tr>\n",
       "    <tr>\n",
       "      <th>245</th>\n",
       "      <td>القرد في عين أمه غزال</td>\n",
       "      <td>4</td>\n",
       "    </tr>\n",
       "    <tr>\n",
       "      <th>247</th>\n",
       "      <td>القرد ف عين أمه غزال</td>\n",
       "      <td>4</td>\n",
       "    </tr>\n",
       "    <tr>\n",
       "      <th>279</th>\n",
       "      <td>القرد ف عينه أمه غزال</td>\n",
       "      <td>4</td>\n",
       "    </tr>\n",
       "    <tr>\n",
       "      <th>434</th>\n",
       "      <td>القرد فعين امة غزال</td>\n",
       "      <td>4</td>\n",
       "    </tr>\n",
       "    <tr>\n",
       "      <th>471</th>\n",
       "      <td>اللي الدنيا علمته مش زى اللي أمه مرجحته</td>\n",
       "      <td>4</td>\n",
       "    </tr>\n",
       "    <tr>\n",
       "      <th>763</th>\n",
       "      <td>القرد فى عين امة غزال</td>\n",
       "      <td>4</td>\n",
       "    </tr>\n",
       "    <tr>\n",
       "      <th>924</th>\n",
       "      <td>القرد في عين أمه غرال</td>\n",
       "      <td>4</td>\n",
       "    </tr>\n",
       "    <tr>\n",
       "      <th>1144</th>\n",
       "      <td>الي الدنيا علميته مش زي الي امة مرجحته</td>\n",
       "      <td>4</td>\n",
       "    </tr>\n",
       "    <tr>\n",
       "      <th>1236</th>\n",
       "      <td>اللي الدنيا علمته مش زي اللي امه مرجحته</td>\n",
       "      <td>4</td>\n",
       "    </tr>\n",
       "    <tr>\n",
       "      <th>1261</th>\n",
       "      <td>القرد فعين أمه غزال</td>\n",
       "      <td>4</td>\n",
       "    </tr>\n",
       "    <tr>\n",
       "      <th>1284</th>\n",
       "      <td>القرد فى عين امه غزال</td>\n",
       "      <td>4</td>\n",
       "    </tr>\n",
       "    <tr>\n",
       "      <th>1570</th>\n",
       "      <td>القرد فى عين أمه غزال</td>\n",
       "      <td>4</td>\n",
       "    </tr>\n",
       "    <tr>\n",
       "      <th>1587</th>\n",
       "      <td>اللي الدنيا علمته مش زي الي امه مرجحته</td>\n",
       "      <td>4</td>\n",
       "    </tr>\n",
       "    <tr>\n",
       "      <th>1662</th>\n",
       "      <td>القرد فعين امه غزال</td>\n",
       "      <td>4</td>\n",
       "    </tr>\n",
       "    <tr>\n",
       "      <th>1670</th>\n",
       "      <td>الي الدنيا علمتة مش زي الي امة مرجحتة</td>\n",
       "      <td>4</td>\n",
       "    </tr>\n",
       "    <tr>\n",
       "      <th>1680</th>\n",
       "      <td>اللى الدنيا علمته مش زى اللى امه مرجحته</td>\n",
       "      <td>4</td>\n",
       "    </tr>\n",
       "    <tr>\n",
       "      <th>1685</th>\n",
       "      <td>القرد في عين امه غزال</td>\n",
       "      <td>4</td>\n",
       "    </tr>\n",
       "  </tbody>\n",
       "</table>\n",
       "</div>"
      ],
      "text/plain": [
       "                                         Text  cluster\n",
       "62                        القرد بعين أمه غزال        4\n",
       "243     الي الدنيا علمته مش زي الي أمه مرجحته        4\n",
       "245                     القرد في عين أمه غزال        4\n",
       "247                      القرد ف عين أمه غزال        4\n",
       "279                     القرد ف عينه أمه غزال        4\n",
       "434                       القرد فعين امة غزال        4\n",
       "471   اللي الدنيا علمته مش زى اللي أمه مرجحته        4\n",
       "763                     القرد فى عين امة غزال        4\n",
       "924                     القرد في عين أمه غرال        4\n",
       "1144   الي الدنيا علميته مش زي الي امة مرجحته        4\n",
       "1236  اللي الدنيا علمته مش زي اللي امه مرجحته        4\n",
       "1261                      القرد فعين أمه غزال        4\n",
       "1284                    القرد فى عين امه غزال        4\n",
       "1570                    القرد فى عين أمه غزال        4\n",
       "1587   اللي الدنيا علمته مش زي الي امه مرجحته        4\n",
       "1662                      القرد فعين امه غزال        4\n",
       "1670    الي الدنيا علمتة مش زي الي امة مرجحتة        4\n",
       "1680  اللى الدنيا علمته مش زى اللى امه مرجحته        4\n",
       "1685                    القرد في عين امه غزال        4"
      ]
     },
     "execution_count": 14,
     "metadata": {},
     "output_type": "execute_result"
    }
   ],
   "source": [
    "set_of_texts[set_of_texts['cluster'] == 4]"
   ]
  },
  {
   "cell_type": "code",
   "execution_count": 15,
   "id": "10c075d0",
   "metadata": {
    "execution": {
     "iopub.execute_input": "2023-04-29T19:46:46.969671Z",
     "iopub.status.busy": "2023-04-29T19:46:46.968927Z",
     "iopub.status.idle": "2023-04-29T19:46:46.982297Z",
     "shell.execute_reply": "2023-04-29T19:46:46.981094Z"
    },
    "papermill": {
     "duration": 0.02649,
     "end_time": "2023-04-29T19:46:46.985242",
     "exception": false,
     "start_time": "2023-04-29T19:46:46.958752",
     "status": "completed"
    },
    "tags": []
   },
   "outputs": [
    {
     "data": {
      "text/html": [
       "<div>\n",
       "<style scoped>\n",
       "    .dataframe tbody tr th:only-of-type {\n",
       "        vertical-align: middle;\n",
       "    }\n",
       "\n",
       "    .dataframe tbody tr th {\n",
       "        vertical-align: top;\n",
       "    }\n",
       "\n",
       "    .dataframe thead th {\n",
       "        text-align: right;\n",
       "    }\n",
       "</style>\n",
       "<table border=\"1\" class=\"dataframe\">\n",
       "  <thead>\n",
       "    <tr style=\"text-align: right;\">\n",
       "      <th></th>\n",
       "      <th>Text</th>\n",
       "      <th>cluster</th>\n",
       "    </tr>\n",
       "  </thead>\n",
       "  <tbody>\n",
       "    <tr>\n",
       "      <th>92</th>\n",
       "      <td>اللي تحسبه موسى يطلع فرعون</td>\n",
       "      <td>21</td>\n",
       "    </tr>\n",
       "    <tr>\n",
       "      <th>131</th>\n",
       "      <td>اللي تحسبه موسى ، يطلع فرعون</td>\n",
       "      <td>21</td>\n",
       "    </tr>\n",
       "    <tr>\n",
       "      <th>314</th>\n",
       "      <td>الي تحسبه موسي يطلع فرعون</td>\n",
       "      <td>21</td>\n",
       "    </tr>\n",
       "    <tr>\n",
       "      <th>359</th>\n",
       "      <td>اكسر للبنت ضلع يطلع لها أربعة وعشرين</td>\n",
       "      <td>21</td>\n",
       "    </tr>\n",
       "    <tr>\n",
       "      <th>371</th>\n",
       "      <td>اللي تحسبه موسى، يطلع فرعون</td>\n",
       "      <td>21</td>\n",
       "    </tr>\n",
       "    <tr>\n",
       "      <th>403</th>\n",
       "      <td>التحسبه موسي يطلع فرعون</td>\n",
       "      <td>21</td>\n",
       "    </tr>\n",
       "    <tr>\n",
       "      <th>423</th>\n",
       "      <td>افتكرناه موسى طلع فرعون</td>\n",
       "      <td>21</td>\n",
       "    </tr>\n",
       "    <tr>\n",
       "      <th>563</th>\n",
       "      <td>اللي تحسبه موسي يطلع فرعون</td>\n",
       "      <td>21</td>\n",
       "    </tr>\n",
       "    <tr>\n",
       "      <th>625</th>\n",
       "      <td>اكسر للبنت ضلع يطلع لها اربعه وعشرين</td>\n",
       "      <td>21</td>\n",
       "    </tr>\n",
       "    <tr>\n",
       "      <th>771</th>\n",
       "      <td>اللي تفتكره موسى يطلع فرعون</td>\n",
       "      <td>21</td>\n",
       "    </tr>\n",
       "    <tr>\n",
       "      <th>773</th>\n",
       "      <td>إللي تحسبه موسى يطلع فرعون</td>\n",
       "      <td>21</td>\n",
       "    </tr>\n",
       "    <tr>\n",
       "      <th>1083</th>\n",
       "      <td>اللى تحسبه موسى يطلع فرعون</td>\n",
       "      <td>21</td>\n",
       "    </tr>\n",
       "    <tr>\n",
       "      <th>1255</th>\n",
       "      <td>الى تحسبه موسى يطلع فرعون</td>\n",
       "      <td>21</td>\n",
       "    </tr>\n",
       "    <tr>\n",
       "      <th>1303</th>\n",
       "      <td>اللي حسبوه موسى طلع فرعون</td>\n",
       "      <td>21</td>\n",
       "    </tr>\n",
       "    <tr>\n",
       "      <th>1547</th>\n",
       "      <td>اكسر للبنت ضلع يطلع لها أربعة وعشرين</td>\n",
       "      <td>21</td>\n",
       "    </tr>\n",
       "    <tr>\n",
       "      <th>1579</th>\n",
       "      <td>ال تحسبه موسى يطلع فرعون</td>\n",
       "      <td>21</td>\n",
       "    </tr>\n",
       "  </tbody>\n",
       "</table>\n",
       "</div>"
      ],
      "text/plain": [
       "                                      Text  cluster\n",
       "92              اللي تحسبه موسى يطلع فرعون       21\n",
       "131           اللي تحسبه موسى ، يطلع فرعون       21\n",
       "314              الي تحسبه موسي يطلع فرعون       21\n",
       "359   اكسر للبنت ضلع يطلع لها أربعة وعشرين       21\n",
       "371            اللي تحسبه موسى، يطلع فرعون       21\n",
       "403                التحسبه موسي يطلع فرعون       21\n",
       "423                افتكرناه موسى طلع فرعون       21\n",
       "563             اللي تحسبه موسي يطلع فرعون       21\n",
       "625   اكسر للبنت ضلع يطلع لها اربعه وعشرين       21\n",
       "771            اللي تفتكره موسى يطلع فرعون       21\n",
       "773             إللي تحسبه موسى يطلع فرعون       21\n",
       "1083            اللى تحسبه موسى يطلع فرعون       21\n",
       "1255             الى تحسبه موسى يطلع فرعون       21\n",
       "1303             اللي حسبوه موسى طلع فرعون       21\n",
       "1547  اكسر للبنت ضلع يطلع لها أربعة وعشرين       21\n",
       "1579              ال تحسبه موسى يطلع فرعون       21"
      ]
     },
     "execution_count": 15,
     "metadata": {},
     "output_type": "execute_result"
    }
   ],
   "source": [
    "set_of_texts[set_of_texts['cluster'] == 21]"
   ]
  },
  {
   "cell_type": "code",
   "execution_count": 16,
   "id": "4d24e491",
   "metadata": {
    "execution": {
     "iopub.execute_input": "2023-04-29T19:46:47.005331Z",
     "iopub.status.busy": "2023-04-29T19:46:47.004884Z",
     "iopub.status.idle": "2023-04-29T19:46:55.159880Z",
     "shell.execute_reply": "2023-04-29T19:46:55.158810Z"
    },
    "papermill": {
     "duration": 8.168411,
     "end_time": "2023-04-29T19:46:55.162901",
     "exception": false,
     "start_time": "2023-04-29T19:46:46.994490",
     "status": "completed"
    },
    "tags": []
   },
   "outputs": [
    {
     "name": "stderr",
     "output_type": "stream",
     "text": [
      "/opt/conda/lib/python3.7/site-packages/sklearn/manifold/_t_sne.py:986: FutureWarning: The PCA initialization in TSNE will change to have the standard deviation of PC1 equal to 1e-4 in 1.2. This will ensure better convergence.\n",
      "  FutureWarning,\n"
     ]
    }
   ],
   "source": [
    "#To Represent the texts' clusters , we want to reduce dimensions (Optional)\n",
    "import numpy as np\n",
    "from sklearn.manifold import TSNE\n",
    "everything = np.concatenate((X_train.todense(),model.cluster_centers_))\n",
    "everything = np.asarray(everything)\n",
    "\n",
    "tsne_init = 'pca'  # could also be 'random'\n",
    "tsne_perplexity = 20.0\n",
    "tsne_early_exaggeration = 4.0\n",
    "tsne_learning_rate = 10\n",
    "model_d = TSNE(n_components=2, random_state= 1, init=tsne_init,\n",
    "    perplexity=tsne_perplexity,\n",
    "    early_exaggeration=tsne_early_exaggeration, learning_rate=tsne_learning_rate)\n",
    "\n",
    "transformed_everything = model_d.fit_transform(everything)"
   ]
  },
  {
   "cell_type": "code",
   "execution_count": 17,
   "id": "ecf1e7e4",
   "metadata": {
    "execution": {
     "iopub.execute_input": "2023-04-29T19:46:55.186091Z",
     "iopub.status.busy": "2023-04-29T19:46:55.184977Z",
     "iopub.status.idle": "2023-04-29T19:46:55.349021Z",
     "shell.execute_reply": "2023-04-29T19:46:55.348109Z"
    },
    "papermill": {
     "duration": 0.177419,
     "end_time": "2023-04-29T19:46:55.351373",
     "exception": false,
     "start_time": "2023-04-29T19:46:55.173954",
     "status": "completed"
    },
    "tags": []
   },
   "outputs": [
    {
     "data": {
      "image/png": "[encoded data removed]",
      "text/plain": [
       "<Figure size 640x480 with 1 Axes>"
      ]
     },
     "metadata": {},
     "output_type": "display_data"
    }
   ],
   "source": [
    "#Plotting the Clusters with Centroids\n",
    "plt.scatter(transformed_everything[:-30,0],transformed_everything[:-30,0],c=predicted_label,s=10)\n",
    "plt.scatter(transformed_everything[-30:,0],transformed_everything[-30:,0],c='black',s=60)\n",
    "plt.show()"
   ]
  }
 ],
 "metadata": {
  "kernelspec": {
   "display_name": "Python 3",
   "language": "python",
   "name": "python3"
  },
  "language_info": {
   "codemirror_mode": {
    "name": "ipython",
    "version": 3
   },
   "file_extension": ".py",
   "mimetype": "text/x-python",
   "name": "python",
   "nbconvert_exporter": "python",
   "pygments_lexer": "ipython3",
   "version": "3.7.12"
  },
  "papermill": {
   "default_parameters": {},
   "duration": 40.346954,
   "end_time": "2023-04-29T19:46:56.284858",
   "environment_variables": {},
   "exception": null,
   "input_path": "__notebook__.ipynb",
   "output_path": "__notebook__.ipynb",
   "parameters": {},
   "start_time": "2023-04-29T19:46:15.937904",
   "version": "2.4.0"
  }
 },
 "nbformat": 4,
 "nbformat_minor": 5
}
